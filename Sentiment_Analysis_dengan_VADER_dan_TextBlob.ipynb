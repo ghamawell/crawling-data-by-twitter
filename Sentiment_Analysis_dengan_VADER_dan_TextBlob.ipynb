{
  "nbformat": 4,
  "nbformat_minor": 0,
  "metadata": {
    "colab": {
      "provenance": [],
      "collapsed_sections": [
        "02dnbS4T6Nv4",
        "PAyNy8916pH1"
      ],
      "include_colab_link": true
    },
    "kernelspec": {
      "name": "python3",
      "display_name": "Python 3"
    },
    "language_info": {
      "name": "python"
    }
  },
  "cells": [
    {
      "cell_type": "markdown",
      "metadata": {
        "id": "view-in-github",
        "colab_type": "text"
      },
      "source": [
        "<a href=\"https://colab.research.google.com/github/ghamawell/crawling-data-by-twitter/blob/main/Sentiment_Analysis_dengan_VADER_dan_TextBlob.ipynb\" target=\"_parent\"><img src=\"https://colab.research.google.com/assets/colab-badge.svg\" alt=\"Open In Colab\"/></a>"
      ]
    },
    {
      "cell_type": "markdown",
      "source": [
        "**Contoh Tweet**"
      ],
      "metadata": {
        "id": "CVwaiVAd6RPV"
      }
    },
    {
      "cell_type": "code",
      "execution_count": 1,
      "metadata": {
        "id": "Q3Ez_7Fo52EZ"
      },
      "outputs": [],
      "source": [
        "tweet = \" #TRAGEDIKANJURUHAN SIMPATI action in Malang, the police prostrate and apologize for the Kanjuruhan tragedy https://t.co/1cv1mbenza #peristiwahariini #polresmalang #kanjuruhan #kanjurjuruanandisaster #kanjuruhanstadium #salingsupport #salingsujiwa #usuttuntas #polri #polri #polri #polri #polri\""
      ]
    },
    {
      "cell_type": "markdown",
      "source": [
        "### Sentiment Analisis untuk pelabelan menggunakan TextBlob"
      ],
      "metadata": {
        "id": "02dnbS4T6Nv4"
      }
    },
    {
      "cell_type": "markdown",
      "source": [
        "**Install Library**"
      ],
      "metadata": {
        "id": "adD6i6PP-MY0"
      }
    },
    {
      "cell_type": "code",
      "source": [
        "!pip install textblob"
      ],
      "metadata": {
        "colab": {
          "base_uri": "https://localhost:8080/"
        },
        "id": "Opiw6mNF6KLr",
        "outputId": "1a81f063-2998-4f0e-cd9b-50737b1f242f"
      },
      "execution_count": null,
      "outputs": [
        {
          "output_type": "stream",
          "name": "stdout",
          "text": [
            "Looking in indexes: https://pypi.org/simple, https://us-python.pkg.dev/colab-wheels/public/simple/\n",
            "Requirement already satisfied: textblob in /usr/local/lib/python3.7/dist-packages (0.15.3)\n",
            "Requirement already satisfied: nltk>=3.1 in /usr/local/lib/python3.7/dist-packages (from textblob) (3.7)\n",
            "Requirement already satisfied: click in /usr/local/lib/python3.7/dist-packages (from nltk>=3.1->textblob) (7.1.2)\n",
            "Requirement already satisfied: joblib in /usr/local/lib/python3.7/dist-packages (from nltk>=3.1->textblob) (1.2.0)\n",
            "Requirement already satisfied: tqdm in /usr/local/lib/python3.7/dist-packages (from nltk>=3.1->textblob) (4.64.1)\n",
            "Requirement already satisfied: regex>=2021.8.3 in /usr/local/lib/python3.7/dist-packages (from nltk>=3.1->textblob) (2022.6.2)\n"
          ]
        }
      ]
    },
    {
      "cell_type": "markdown",
      "source": [
        "**Import Library**"
      ],
      "metadata": {
        "id": "2tUBlJgf-QB7"
      }
    },
    {
      "cell_type": "code",
      "source": [
        "from textblob import TextBlob"
      ],
      "metadata": {
        "id": "St45HuXB6fwN"
      },
      "execution_count": null,
      "outputs": []
    },
    {
      "cell_type": "markdown",
      "source": [
        "**Melihat Polarity dan Subjectivity**"
      ],
      "metadata": {
        "id": "BbWVbrVj-TMX"
      }
    },
    {
      "cell_type": "code",
      "source": [
        "analysis = TextBlob(tweet)\n",
        "analysis.sentiment"
      ],
      "metadata": {
        "colab": {
          "base_uri": "https://localhost:8080/"
        },
        "id": "qBmJfFGk6jBr",
        "outputId": "c456ba56-7b86-48dc-d007-82e18b5710fb"
      },
      "execution_count": null,
      "outputs": [
        {
          "output_type": "execute_result",
          "data": {
            "text/plain": [
              "Sentiment(polarity=0.26666666666666666, subjectivity=0.4444444444444444)"
            ]
          },
          "metadata": {},
          "execution_count": 62
        }
      ]
    },
    {
      "cell_type": "markdown",
      "source": [
        "**Membuat Function untuk TextBlob**"
      ],
      "metadata": {
        "id": "7sUimuOt-YyJ"
      }
    },
    {
      "cell_type": "code",
      "source": [
        "# Klasifikasi Polaritas Tweet menggunakan TextBlob\n",
        "def sentiment_TextBlob(tweet):\n",
        "  analysis = TextBlob(tweet)\n",
        "  poll = analysis.sentiment.polarity\n",
        "  if (poll > 0):\n",
        "    return \"Positive\"\n",
        "  elif (poll == 0):\n",
        "    return \"Neutral\"\n",
        "  else:\n",
        "    return \"Negative\""
      ],
      "metadata": {
        "id": "x_BUi2I47ES-"
      },
      "execution_count": null,
      "outputs": []
    },
    {
      "cell_type": "markdown",
      "source": [
        "**Test Function TextBlob**"
      ],
      "metadata": {
        "id": "CEGYNPp5-hM3"
      }
    },
    {
      "cell_type": "code",
      "source": [
        "sentiment_TextBlob(tweet)"
      ],
      "metadata": {
        "colab": {
          "base_uri": "https://localhost:8080/"
        },
        "id": "Mazjrbt48_8A",
        "outputId": "e9a536c6-f362-4fcc-f937-bc88d97cff78"
      },
      "execution_count": null,
      "outputs": [
        {
          "output_type": "execute_result",
          "data": {
            "text/plain": [
              "'Positive'"
            ],
            "application/vnd.google.colaboratory.intrinsic+json": {
              "type": "string"
            }
          },
          "metadata": {},
          "execution_count": 64
        }
      ]
    },
    {
      "cell_type": "markdown",
      "source": [
        "### Sentiment Analisis untuk labeling menggunakan VADER"
      ],
      "metadata": {
        "id": "PAyNy8916pH1"
      }
    },
    {
      "cell_type": "markdown",
      "source": [
        "**Install Library**"
      ],
      "metadata": {
        "id": "KuJLHFdP-ohg"
      }
    },
    {
      "cell_type": "code",
      "source": [
        "!pip install vaderSentiment"
      ],
      "metadata": {
        "colab": {
          "base_uri": "https://localhost:8080/"
        },
        "id": "qzjwYJnb6pvn",
        "outputId": "21f8d879-28b5-4f78-b3ee-809d8963b102"
      },
      "execution_count": 2,
      "outputs": [
        {
          "output_type": "stream",
          "name": "stdout",
          "text": [
            "Looking in indexes: https://pypi.org/simple, https://us-python.pkg.dev/colab-wheels/public/simple/\n",
            "Collecting vaderSentiment\n",
            "  Downloading vaderSentiment-3.3.2-py2.py3-none-any.whl (125 kB)\n",
            "\u001b[2K     \u001b[90m━━━━━━━━━━━━━━━━━━━━━━━━━━━━━━━━━━━━━━━\u001b[0m \u001b[32m126.0/126.0 KB\u001b[0m \u001b[31m8.0 MB/s\u001b[0m eta \u001b[36m0:00:00\u001b[0m\n",
            "\u001b[?25hRequirement already satisfied: requests in /usr/local/lib/python3.8/dist-packages (from vaderSentiment) (2.25.1)\n",
            "Requirement already satisfied: idna<3,>=2.5 in /usr/local/lib/python3.8/dist-packages (from requests->vaderSentiment) (2.10)\n",
            "Requirement already satisfied: certifi>=2017.4.17 in /usr/local/lib/python3.8/dist-packages (from requests->vaderSentiment) (2022.12.7)\n",
            "Requirement already satisfied: chardet<5,>=3.0.2 in /usr/local/lib/python3.8/dist-packages (from requests->vaderSentiment) (4.0.0)\n",
            "Requirement already satisfied: urllib3<1.27,>=1.21.1 in /usr/local/lib/python3.8/dist-packages (from requests->vaderSentiment) (1.24.3)\n",
            "Installing collected packages: vaderSentiment\n",
            "Successfully installed vaderSentiment-3.3.2\n"
          ]
        }
      ]
    },
    {
      "cell_type": "markdown",
      "source": [
        "**Import Library**"
      ],
      "metadata": {
        "id": "oPHAv2tv-p4W"
      }
    },
    {
      "cell_type": "code",
      "source": [
        "from vaderSentiment.vaderSentiment import SentimentIntensityAnalyzer"
      ],
      "metadata": {
        "id": "0VhZn4vU6tXb"
      },
      "execution_count": 5,
      "outputs": []
    },
    {
      "cell_type": "markdown",
      "source": [
        "**Melihat Polarity Scores**"
      ],
      "metadata": {
        "id": "yfAkCqEZ-syT"
      }
    },
    {
      "cell_type": "code",
      "source": [
        "analysis = SentimentIntensityAnalyzer()\n",
        "analysis.polarity_scores(tweet)"
      ],
      "metadata": {
        "colab": {
          "base_uri": "https://localhost:8080/"
        },
        "id": "CabmLzor7xoj",
        "outputId": "0387768b-e56a-461d-d885-7e0747b399b1"
      },
      "execution_count": 6,
      "outputs": [
        {
          "output_type": "execute_result",
          "data": {
            "text/plain": [
              "{'neg': 0.138, 'neu': 0.818, 'pos': 0.044, 'compound': -0.6124}"
            ]
          },
          "metadata": {},
          "execution_count": 6
        }
      ]
    },
    {
      "cell_type": "markdown",
      "source": [
        "**Membuat Function untuk VADER**"
      ],
      "metadata": {
        "id": "UmMyZRoa-6NZ"
      }
    },
    {
      "cell_type": "code",
      "source": [
        "# Klasifikasi Polaritas Tweet menggunakan Vader\n",
        "def sentiment_Vader(tweet):\n",
        "  analysis = SentimentIntensityAnalyzer()\n",
        "  analysis = analysis.polarity_scores(tweet)\n",
        "  comm = analysis['compound']\n",
        "  if (comm >= 0.05):\n",
        "    return \"Positive\"\n",
        "  elif ((comm > -0.05) and (comm < 0.05)):\n",
        "    return \"Neutral\"\n",
        "  else:\n",
        "    return \"Negative\""
      ],
      "metadata": {
        "id": "-hXIUfcL6wwY"
      },
      "execution_count": 7,
      "outputs": []
    },
    {
      "cell_type": "markdown",
      "source": [
        "**Test Function VADER**"
      ],
      "metadata": {
        "id": "znKaSg-5-_JK"
      }
    },
    {
      "cell_type": "code",
      "source": [
        "sentiment_Vader(tweet)"
      ],
      "metadata": {
        "id": "93vbVba46zdE",
        "colab": {
          "base_uri": "https://localhost:8080/",
          "height": 36
        },
        "outputId": "9a141e96-6eb7-4291-f85d-f4119d6fc9c7"
      },
      "execution_count": 8,
      "outputs": [
        {
          "output_type": "execute_result",
          "data": {
            "text/plain": [
              "'Negative'"
            ],
            "application/vnd.google.colaboratory.intrinsic+json": {
              "type": "string"
            }
          },
          "metadata": {},
          "execution_count": 8
        }
      ]
    },
    {
      "cell_type": "markdown",
      "source": [
        "### Proses Preprocessing"
      ],
      "metadata": {
        "id": "VX8O2KVf_PXr"
      }
    },
    {
      "cell_type": "markdown",
      "source": [
        "**Import Library**"
      ],
      "metadata": {
        "id": "-hUQHJzhAO_7"
      }
    },
    {
      "cell_type": "code",
      "source": [
        "import re\n",
        "import string"
      ],
      "metadata": {
        "id": "KrsVQju9_3dh"
      },
      "execution_count": 9,
      "outputs": []
    },
    {
      "cell_type": "markdown",
      "source": [
        "**Membuat Function Preprocessing**"
      ],
      "metadata": {
        "id": "1IVLIoqX_eE2"
      }
    },
    {
      "cell_type": "code",
      "source": [
        "def clean_tweet(tweet):\n",
        "  # Case folding\n",
        "  print(\"Case folding\")\n",
        "  tweet = tweet.lower()\n",
        "  print(tweet)\n",
        "  \n",
        "  # Cleansing (Remove URL)\n",
        "  print(\"Cleansing (Remove URL)\")\n",
        "  tweet = re.sub('http\\S+|\\S+co\\S+', ' ', tweet)\n",
        "  print(tweet)\n",
        "    \n",
        "  # Cleansing (Remove Mention)\n",
        "  print(\"Cleansing (Remove Mention)\")\n",
        "  tweet = re.sub(\"@[A-Za-z0-9\\S]+\", \"\", tweet)\n",
        "  print(tweet)\n",
        "  \n",
        "  # Cleansing (Remove Hastag)\n",
        "  print(\"Cleansing (Remove Hastag)\")\n",
        "  tweet = re.sub(r'#([^\\s]+)', r'\\1', tweet)\n",
        "  print(tweet)\n",
        "  \n",
        "  # Cleansing (Remove Number and Punctuation)\n",
        "  print(\"Cleansing (Remove Number and Punctuation)\")\n",
        "  wrem_list = ('rt')\n",
        "  exclude = set (string.punctuation)\n",
        "  rem_list = []\n",
        "  token = tweet.split()\n",
        "  for w in token:\n",
        "    if w not in wrem_list:\n",
        "      for x in w:\n",
        "        if x in exclude or x.isdigit():\n",
        "          x=\"\"\n",
        "          rem_list.append(x)\n",
        "        else:\n",
        "          rem_list.append(x)\n",
        "      rem_list.append(\" \")\n",
        "  tweet = \"\".join(rem_list)\n",
        "  print(tweet)\n",
        "\n",
        "  # Replace karakter berulang\n",
        "  print(\"Replace karakter berulang\")\n",
        "  def hapus_katadouble(tweet):\n",
        "    pattern = re.compile(r\"(.)\\1{1,}\", re.DOTALL)\n",
        "    return pattern.sub(r\"\\1\\1\", tweet)\n",
        "  \n",
        "  tweet=hapus_katadouble(tweet)\n",
        "  print(tweet)\n",
        "  \n",
        "  return tweet"
      ],
      "metadata": {
        "id": "x1bd92q6_OEQ"
      },
      "execution_count": 10,
      "outputs": []
    },
    {
      "cell_type": "markdown",
      "source": [
        "**Test Function Preprocessing**"
      ],
      "metadata": {
        "id": "OftMKOZX_pc9"
      }
    },
    {
      "cell_type": "code",
      "source": [
        "print(\"Tweet Asli\")\n",
        "print(tweet)\n",
        "print(\"\")\n",
        "print(\"Tweet Setelah Cleansing\")\n",
        "print(clean_tweet(tweet))"
      ],
      "metadata": {
        "colab": {
          "base_uri": "https://localhost:8080/"
        },
        "id": "7Saapyvz_m2G",
        "outputId": "8121f353-7a95-49fa-c5b6-03d7041cfbc7"
      },
      "execution_count": 11,
      "outputs": [
        {
          "output_type": "stream",
          "name": "stdout",
          "text": [
            "Tweet Asli\n",
            " #TRAGEDIKANJURUHAN SIMPATI action in Malang, the police prostrate and apologize for the Kanjuruhan tragedy https://t.co/1cv1mbenza #peristiwahariini #polresmalang #kanjuruhan #kanjurjuruanandisaster #kanjuruhanstadium #salingsupport #salingsujiwa #usuttuntas #polri #polri #polri #polri #polri\n",
            "\n",
            "Tweet Setelah Cleansing\n",
            "Case folding\n",
            " #tragedikanjuruhan simpati action in malang, the police prostrate and apologize for the kanjuruhan tragedy https://t.co/1cv1mbenza #peristiwahariini #polresmalang #kanjuruhan #kanjurjuruanandisaster #kanjuruhanstadium #salingsupport #salingsujiwa #usuttuntas #polri #polri #polri #polri #polri\n",
            "Cleansing (Remove URL)\n",
            " #tragedikanjuruhan simpati action in malang, the police prostrate and apologize for the kanjuruhan tragedy   #peristiwahariini #polresmalang #kanjuruhan #kanjurjuruanandisaster #kanjuruhanstadium #salingsupport #salingsujiwa #usuttuntas #polri #polri #polri #polri #polri\n",
            "Cleansing (Remove Mention)\n",
            " #tragedikanjuruhan simpati action in malang, the police prostrate and apologize for the kanjuruhan tragedy   #peristiwahariini #polresmalang #kanjuruhan #kanjurjuruanandisaster #kanjuruhanstadium #salingsupport #salingsujiwa #usuttuntas #polri #polri #polri #polri #polri\n",
            "Cleansing (Remove Hastag)\n",
            " tragedikanjuruhan simpati action in malang, the police prostrate and apologize for the kanjuruhan tragedy   peristiwahariini polresmalang kanjuruhan kanjurjuruanandisaster kanjuruhanstadium salingsupport salingsujiwa usuttuntas polri polri polri polri polri\n",
            "Cleansing (Remove Number and Punctuation)\n",
            "tragedikanjuruhan simpati action in malang the police prostrate and apologize for the kanjuruhan tragedy peristiwahariini polresmalang kanjuruhan kanjurjuruanandisaster kanjuruhanstadium salingsupport salingsujiwa usuttuntas polri polri polri polri polri \n",
            "Replace karakter berulang\n",
            "tragedikanjuruhan simpati action in malang the police prostrate and apologize for the kanjuruhan tragedy peristiwahariini polresmalang kanjuruhan kanjurjuruanandisaster kanjuruhanstadium salingsupport salingsujiwa usuttuntas polri polri polri polri polri \n",
            "tragedikanjuruhan simpati action in malang the police prostrate and apologize for the kanjuruhan tragedy peristiwahariini polresmalang kanjuruhan kanjurjuruanandisaster kanjuruhanstadium salingsupport salingsujiwa usuttuntas polri polri polri polri polri \n"
          ]
        }
      ]
    }
  ]
}