{
  "nbformat": 4,
  "nbformat_minor": 0,
  "metadata": {
    "colab": {
      "provenance": [],
      "authorship_tag": "ABX9TyNcDkZWQ9Sgaw7Zh7OiWY62",
      "include_colab_link": true
    },
    "kernelspec": {
      "name": "python3",
      "display_name": "Python 3"
    },
    "language_info": {
      "name": "python"
    }
  },
  "cells": [
    {
      "cell_type": "markdown",
      "metadata": {
        "id": "view-in-github",
        "colab_type": "text"
      },
      "source": [
        "<a href=\"https://colab.research.google.com/github/ghamawell/crawling-data-by-twitter/blob/main/stadion_kanjuruhan.ipynb\" target=\"_parent\"><img src=\"https://colab.research.google.com/assets/colab-badge.svg\" alt=\"Open In Colab\"/></a>"
      ]
    },
    {
      "cell_type": "markdown",
      "source": [
        "Crawling Data Twitter\n"
      ],
      "metadata": {
        "id": "BOb7jxcoDda4"
      }
    },
    {
      "cell_type": "markdown",
      "source": [
        "Install & Import Requirement Library"
      ],
      "metadata": {
        "id": "ElcTfR21Dm0W"
      }
    },
    {
      "cell_type": "markdown",
      "source": [
        "Install Library\n"
      ],
      "metadata": {
        "id": "kHtKPghaDpKa"
      }
    },
    {
      "cell_type": "code",
      "execution_count": null,
      "metadata": {
        "colab": {
          "base_uri": "https://localhost:8080/"
        },
        "id": "FtzZgLSPWXXB",
        "outputId": "0b853311-ffd4-4266-cdb0-77ac03db0115"
      },
      "outputs": [
        {
          "output_type": "stream",
          "name": "stdout",
          "text": [
            "Looking in indexes: https://pypi.org/simple, https://us-python.pkg.dev/colab-wheels/public/simple/\n",
            "Collecting nest_asyncio\n",
            "  Downloading nest_asyncio-1.5.6-py3-none-any.whl (5.2 kB)\n",
            "Installing collected packages: nest-asyncio\n",
            "Successfully installed nest-asyncio-1.5.6\n"
          ]
        }
      ],
      "source": [
        "#!pip3 uninstall twint -y\n",
        "#!pip3 install --user --upgrade git+https://github.com/twintproject/twint.git@origin/master#egg=twint\n",
        "!pip3 install nest_asyncio"
      ]
    },
    {
      "cell_type": "code",
      "source": [
        "!git clone --depth=1 https://github.com/twintproject/twint.git"
      ],
      "metadata": {
        "colab": {
          "base_uri": "https://localhost:8080/"
        },
        "id": "IlWSCZIUWhyI",
        "outputId": "6060c03d-6250-43d5-94fa-c44dd6032a1b"
      },
      "execution_count": null,
      "outputs": [
        {
          "output_type": "stream",
          "name": "stdout",
          "text": [
            "Cloning into 'twint'...\n",
            "remote: Enumerating objects: 47, done.\u001b[K\n",
            "remote: Counting objects: 100% (47/47), done.\u001b[K\n",
            "remote: Compressing objects: 100% (44/44), done.\u001b[K\n",
            "remote: Total 47 (delta 3), reused 14 (delta 0), pack-reused 0\u001b[K\n",
            "Unpacking objects: 100% (47/47), done.\n"
          ]
        }
      ]
    },
    {
      "cell_type": "code",
      "source": [
        "cd twint\n"
      ],
      "metadata": {
        "colab": {
          "base_uri": "https://localhost:8080/"
        },
        "id": "_KXAW3jEWkOj",
        "outputId": "c6e5afa1-419d-4478-b557-2cae6ca8490b"
      },
      "execution_count": null,
      "outputs": [
        {
          "output_type": "stream",
          "name": "stdout",
          "text": [
            "/content/gdrive/MyDrive/Colab Notebooks/twint\n"
          ]
        }
      ]
    },
    {
      "cell_type": "code",
      "source": [
        "ls"
      ],
      "metadata": {
        "colab": {
          "base_uri": "https://localhost:8080/"
        },
        "id": "4LKE6CskWmcn",
        "outputId": "2c600e6d-fabd-4438-e337-f9125d3dd692"
      },
      "execution_count": null,
      "outputs": [
        {
          "output_type": "stream",
          "name": "stdout",
          "text": [
            "automate.py  \u001b[0m\u001b[01;34melasticsearch\u001b[0m/  MANIFEST.in  requirements.txt  test.py\n",
            "Dockerfile   LICENSE         README.md    setup.py          \u001b[01;34mtwint\u001b[0m/\n"
          ]
        }
      ]
    },
    {
      "cell_type": "code",
      "source": [
        "!pip3 install . -r requirements.txt\n"
      ],
      "metadata": {
        "colab": {
          "base_uri": "https://localhost:8080/",
          "height": 1000
        },
        "id": "nfKdMRqpWpSl",
        "outputId": "41de47c1-bb9b-4b0c-a6f5-dc725717d225"
      },
      "execution_count": null,
      "outputs": [
        {
          "output_type": "stream",
          "name": "stdout",
          "text": [
            "Looking in indexes: https://pypi.org/simple, https://us-python.pkg.dev/colab-wheels/public/simple/\n",
            "Processing /content/gdrive/MyDrive/Colab Notebooks/twint\n",
            "\u001b[33m  DEPRECATION: A future pip version will change local packages to be built in-place without first copying to a temporary directory. We recommend you use --use-feature=in-tree-build to test your packages with this new behavior before it becomes the default.\n",
            "   pip 21.3 will remove support for this functionality. You can find discussion regarding this at https://github.com/pypa/pip/issues/7555.\u001b[0m\n",
            "Requirement already satisfied: aiohttp in /usr/local/lib/python3.7/dist-packages (from -r requirements.txt (line 1)) (3.8.3)\n",
            "Collecting aiodns\n",
            "  Downloading aiodns-3.0.0-py3-none-any.whl (5.0 kB)\n",
            "Requirement already satisfied: beautifulsoup4 in /usr/local/lib/python3.7/dist-packages (from -r requirements.txt (line 3)) (4.6.3)\n",
            "Collecting cchardet\n",
            "  Downloading cchardet-2.1.7-cp37-cp37m-manylinux2010_x86_64.whl (263 kB)\n",
            "\u001b[K     |████████████████████████████████| 263 kB 5.1 MB/s \n",
            "\u001b[?25hCollecting dataclasses\n",
            "  Downloading dataclasses-0.6-py3-none-any.whl (14 kB)\n",
            "Collecting elasticsearch\n",
            "  Downloading elasticsearch-8.5.2-py3-none-any.whl (385 kB)\n",
            "\u001b[K     |████████████████████████████████| 385 kB 37.4 MB/s \n",
            "\u001b[?25hRequirement already satisfied: pysocks in /usr/local/lib/python3.7/dist-packages (from -r requirements.txt (line 7)) (1.7.1)\n",
            "Requirement already satisfied: pandas>=0.23.0 in /usr/local/lib/python3.7/dist-packages (from -r requirements.txt (line 8)) (1.3.5)\n",
            "Collecting aiohttp_socks<=0.4.1\n",
            "  Downloading aiohttp_socks-0.4.1-py3-none-any.whl (17 kB)\n",
            "Collecting schedule\n",
            "  Downloading schedule-1.1.0-py2.py3-none-any.whl (10 kB)\n",
            "Requirement already satisfied: geopy in /usr/local/lib/python3.7/dist-packages (from -r requirements.txt (line 11)) (1.17.0)\n",
            "Collecting fake-useragent\n",
            "  Downloading fake_useragent-1.1.0-py3-none-any.whl (50 kB)\n",
            "\u001b[K     |████████████████████████████████| 50 kB 5.0 MB/s \n",
            "\u001b[?25hCollecting googletransx\n",
            "  Downloading googletransx-2.4.2.tar.gz (13 kB)\n",
            "Requirement already satisfied: python-dateutil>=2.7.3 in /usr/local/lib/python3.7/dist-packages (from pandas>=0.23.0->-r requirements.txt (line 8)) (2.8.2)\n",
            "Requirement already satisfied: pytz>=2017.3 in /usr/local/lib/python3.7/dist-packages (from pandas>=0.23.0->-r requirements.txt (line 8)) (2022.6)\n",
            "Requirement already satisfied: numpy>=1.17.3 in /usr/local/lib/python3.7/dist-packages (from pandas>=0.23.0->-r requirements.txt (line 8)) (1.21.6)\n",
            "Requirement already satisfied: attrs>=19.2.0 in /usr/local/lib/python3.7/dist-packages (from aiohttp_socks<=0.4.1->-r requirements.txt (line 9)) (22.1.0)\n",
            "Requirement already satisfied: typing-extensions>=3.7.4 in /usr/local/lib/python3.7/dist-packages (from aiohttp->-r requirements.txt (line 1)) (4.1.1)\n",
            "Requirement already satisfied: aiosignal>=1.1.2 in /usr/local/lib/python3.7/dist-packages (from aiohttp->-r requirements.txt (line 1)) (1.3.1)\n",
            "Requirement already satisfied: multidict<7.0,>=4.5 in /usr/local/lib/python3.7/dist-packages (from aiohttp->-r requirements.txt (line 1)) (6.0.2)\n",
            "Requirement already satisfied: charset-normalizer<3.0,>=2.0 in /usr/local/lib/python3.7/dist-packages (from aiohttp->-r requirements.txt (line 1)) (2.1.1)\n",
            "Requirement already satisfied: yarl<2.0,>=1.0 in /usr/local/lib/python3.7/dist-packages (from aiohttp->-r requirements.txt (line 1)) (1.8.1)\n",
            "Requirement already satisfied: async-timeout<5.0,>=4.0.0a3 in /usr/local/lib/python3.7/dist-packages (from aiohttp->-r requirements.txt (line 1)) (4.0.2)\n",
            "Requirement already satisfied: asynctest==0.13.0 in /usr/local/lib/python3.7/dist-packages (from aiohttp->-r requirements.txt (line 1)) (0.13.0)\n",
            "Requirement already satisfied: frozenlist>=1.1.1 in /usr/local/lib/python3.7/dist-packages (from aiohttp->-r requirements.txt (line 1)) (1.3.3)\n",
            "Requirement already satisfied: six>=1.5 in /usr/local/lib/python3.7/dist-packages (from python-dateutil>=2.7.3->pandas>=0.23.0->-r requirements.txt (line 8)) (1.15.0)\n",
            "Requirement already satisfied: idna>=2.0 in /usr/local/lib/python3.7/dist-packages (from yarl<2.0,>=1.0->aiohttp->-r requirements.txt (line 1)) (2.10)\n",
            "Collecting pycares>=4.0.0\n",
            "  Downloading pycares-4.2.2-cp37-cp37m-manylinux_2_17_x86_64.manylinux2014_x86_64.whl (288 kB)\n",
            "\u001b[K     |████████████████████████████████| 288 kB 46.7 MB/s \n",
            "\u001b[?25hRequirement already satisfied: cffi>=1.5.0 in /usr/local/lib/python3.7/dist-packages (from pycares>=4.0.0->aiodns->-r requirements.txt (line 2)) (1.15.1)\n",
            "Requirement already satisfied: pycparser in /usr/local/lib/python3.7/dist-packages (from cffi>=1.5.0->pycares>=4.0.0->aiodns->-r requirements.txt (line 2)) (2.21)\n",
            "Collecting elastic-transport<9,>=8\n",
            "  Downloading elastic_transport-8.4.0-py3-none-any.whl (59 kB)\n",
            "\u001b[K     |████████████████████████████████| 59 kB 5.4 MB/s \n",
            "\u001b[?25hRequirement already satisfied: certifi in /usr/local/lib/python3.7/dist-packages (from elastic-transport<9,>=8->elasticsearch->-r requirements.txt (line 6)) (2022.9.24)\n",
            "Collecting urllib3<2,>=1.26.2\n",
            "  Downloading urllib3-1.26.13-py2.py3-none-any.whl (140 kB)\n",
            "\u001b[K     |████████████████████████████████| 140 kB 44.9 MB/s \n",
            "\u001b[?25hRequirement already satisfied: geographiclib<2,>=1.49 in /usr/local/lib/python3.7/dist-packages (from geopy->-r requirements.txt (line 11)) (1.52)\n",
            "Requirement already satisfied: importlib-metadata~=4.0 in /usr/local/lib/python3.7/dist-packages (from fake-useragent->-r requirements.txt (line 12)) (4.13.0)\n",
            "Requirement already satisfied: importlib-resources>=5.0 in /usr/local/lib/python3.7/dist-packages (from fake-useragent->-r requirements.txt (line 12)) (5.10.0)\n",
            "Requirement already satisfied: zipp>=0.5 in /usr/local/lib/python3.7/dist-packages (from importlib-metadata~=4.0->fake-useragent->-r requirements.txt (line 12)) (3.10.0)\n",
            "Requirement already satisfied: requests in /usr/local/lib/python3.7/dist-packages (from googletransx->-r requirements.txt (line 13)) (2.23.0)\n",
            "Collecting requests\n",
            "  Downloading requests-2.28.1-py3-none-any.whl (62 kB)\n",
            "\u001b[K     |████████████████████████████████| 62 kB 1.4 MB/s \n",
            "\u001b[?25hBuilding wheels for collected packages: twint, googletransx\n",
            "  Building wheel for twint (setup.py) ... \u001b[?25l\u001b[?25hdone\n",
            "  Created wheel for twint: filename=twint-2.1.21-py3-none-any.whl size=38870 sha256=edd2c150157f3db8555fa9768aaa98a5a56baa2e831b1f9a81ec0a12024fa077\n",
            "  Stored in directory: /tmp/pip-ephem-wheel-cache-8yvxh_ip/wheels/7c/13/c6/de22238eff0eea31813612b9d88da2eee9328a07c9b59f79b0\n",
            "  Building wheel for googletransx (setup.py) ... \u001b[?25l\u001b[?25hdone\n",
            "  Created wheel for googletransx: filename=googletransx-2.4.2-py3-none-any.whl size=15968 sha256=458ade41d9d756c801879946b889babeb7e83ac9d6abb9b668a1a0c912678a21\n",
            "  Stored in directory: /root/.cache/pip/wheels/66/d5/b1/31104b338f7fd45aa8f7d22587765db06773b13df48a89735f\n",
            "Successfully built twint googletransx\n",
            "Installing collected packages: urllib3, requests, pycares, elastic-transport, schedule, googletransx, fake-useragent, elasticsearch, dataclasses, cchardet, aiohttp-socks, aiodns, twint\n",
            "  Attempting uninstall: urllib3\n",
            "    Found existing installation: urllib3 1.24.3\n",
            "    Uninstalling urllib3-1.24.3:\n",
            "      Successfully uninstalled urllib3-1.24.3\n",
            "  Attempting uninstall: requests\n",
            "    Found existing installation: requests 2.23.0\n",
            "    Uninstalling requests-2.23.0:\n",
            "      Successfully uninstalled requests-2.23.0\n",
            "Successfully installed aiodns-3.0.0 aiohttp-socks-0.4.1 cchardet-2.1.7 dataclasses-0.6 elastic-transport-8.4.0 elasticsearch-8.5.2 fake-useragent-1.1.0 googletransx-2.4.2 pycares-4.2.2 requests-2.28.1 schedule-1.1.0 twint-2.1.21 urllib3-1.26.13\n"
          ]
        },
        {
          "output_type": "display_data",
          "data": {
            "application/vnd.colab-display-data+json": {
              "pip_warning": {
                "packages": [
                  "dataclasses"
                ]
              }
            }
          },
          "metadata": {}
        }
      ]
    },
    {
      "cell_type": "code",
      "source": [
        "!pip3 install . aiohttp==3.7.3                     \n"
      ],
      "metadata": {
        "colab": {
          "base_uri": "https://localhost:8080/"
        },
        "id": "0HOqEKgzWuit",
        "outputId": "1d7fcb1e-f7df-4798-8484-e8ace1958743"
      },
      "execution_count": null,
      "outputs": [
        {
          "output_type": "stream",
          "name": "stdout",
          "text": [
            "Looking in indexes: https://pypi.org/simple, https://us-python.pkg.dev/colab-wheels/public/simple/\n",
            "Processing /content/gdrive/MyDrive/Colab Notebooks/twint\n",
            "\u001b[33m  DEPRECATION: A future pip version will change local packages to be built in-place without first copying to a temporary directory. We recommend you use --use-feature=in-tree-build to test your packages with this new behavior before it becomes the default.\n",
            "   pip 21.3 will remove support for this functionality. You can find discussion regarding this at https://github.com/pypa/pip/issues/7555.\u001b[0m\n",
            "Collecting aiohttp==3.7.3\n",
            "  Downloading aiohttp-3.7.3-cp37-cp37m-manylinux2014_x86_64.whl (1.3 MB)\n",
            "\u001b[K     |████████████████████████████████| 1.3 MB 4.9 MB/s \n",
            "\u001b[?25hRequirement already satisfied: aiodns in /usr/local/lib/python3.7/dist-packages (from twint==2.1.21) (3.0.0)\n",
            "Requirement already satisfied: beautifulsoup4 in /usr/local/lib/python3.7/dist-packages (from twint==2.1.21) (4.6.3)\n",
            "Requirement already satisfied: cchardet in /usr/local/lib/python3.7/dist-packages (from twint==2.1.21) (2.1.7)\n",
            "Requirement already satisfied: dataclasses in /usr/local/lib/python3.7/dist-packages (from twint==2.1.21) (0.6)\n",
            "Requirement already satisfied: elasticsearch in /usr/local/lib/python3.7/dist-packages (from twint==2.1.21) (8.5.2)\n",
            "Requirement already satisfied: pysocks in /usr/local/lib/python3.7/dist-packages (from twint==2.1.21) (1.7.1)\n",
            "Requirement already satisfied: pandas in /usr/local/lib/python3.7/dist-packages (from twint==2.1.21) (1.3.5)\n",
            "Requirement already satisfied: aiohttp_socks in /usr/local/lib/python3.7/dist-packages (from twint==2.1.21) (0.4.1)\n",
            "Requirement already satisfied: schedule in /usr/local/lib/python3.7/dist-packages (from twint==2.1.21) (1.1.0)\n",
            "Requirement already satisfied: geopy in /usr/local/lib/python3.7/dist-packages (from twint==2.1.21) (1.17.0)\n",
            "Requirement already satisfied: fake-useragent in /usr/local/lib/python3.7/dist-packages (from twint==2.1.21) (1.1.0)\n",
            "Requirement already satisfied: googletransx in /usr/local/lib/python3.7/dist-packages (from twint==2.1.21) (2.4.2)\n",
            "Requirement already satisfied: yarl<2.0,>=1.0 in /usr/local/lib/python3.7/dist-packages (from aiohttp==3.7.3) (1.8.1)\n",
            "Requirement already satisfied: chardet<4.0,>=2.0 in /usr/local/lib/python3.7/dist-packages (from aiohttp==3.7.3) (3.0.4)\n",
            "Requirement already satisfied: typing-extensions>=3.6.5 in /usr/local/lib/python3.7/dist-packages (from aiohttp==3.7.3) (4.1.1)\n",
            "Collecting async-timeout<4.0,>=3.0\n",
            "  Downloading async_timeout-3.0.1-py3-none-any.whl (8.2 kB)\n",
            "Requirement already satisfied: attrs>=17.3.0 in /usr/local/lib/python3.7/dist-packages (from aiohttp==3.7.3) (22.1.0)\n",
            "Requirement already satisfied: multidict<7.0,>=4.5 in /usr/local/lib/python3.7/dist-packages (from aiohttp==3.7.3) (6.0.2)\n",
            "Requirement already satisfied: idna>=2.0 in /usr/local/lib/python3.7/dist-packages (from yarl<2.0,>=1.0->aiohttp==3.7.3) (2.10)\n",
            "Requirement already satisfied: pycares>=4.0.0 in /usr/local/lib/python3.7/dist-packages (from aiodns->twint==2.1.21) (4.2.2)\n",
            "Requirement already satisfied: cffi>=1.5.0 in /usr/local/lib/python3.7/dist-packages (from pycares>=4.0.0->aiodns->twint==2.1.21) (1.15.1)\n",
            "Requirement already satisfied: pycparser in /usr/local/lib/python3.7/dist-packages (from cffi>=1.5.0->pycares>=4.0.0->aiodns->twint==2.1.21) (2.21)\n",
            "Requirement already satisfied: elastic-transport<9,>=8 in /usr/local/lib/python3.7/dist-packages (from elasticsearch->twint==2.1.21) (8.4.0)\n",
            "Requirement already satisfied: urllib3<2,>=1.26.2 in /usr/local/lib/python3.7/dist-packages (from elastic-transport<9,>=8->elasticsearch->twint==2.1.21) (1.26.13)\n",
            "Requirement already satisfied: certifi in /usr/local/lib/python3.7/dist-packages (from elastic-transport<9,>=8->elasticsearch->twint==2.1.21) (2022.9.24)\n",
            "Requirement already satisfied: importlib-metadata~=4.0 in /usr/local/lib/python3.7/dist-packages (from fake-useragent->twint==2.1.21) (4.13.0)\n",
            "Requirement already satisfied: importlib-resources>=5.0 in /usr/local/lib/python3.7/dist-packages (from fake-useragent->twint==2.1.21) (5.10.0)\n",
            "Requirement already satisfied: zipp>=0.5 in /usr/local/lib/python3.7/dist-packages (from importlib-metadata~=4.0->fake-useragent->twint==2.1.21) (3.10.0)\n",
            "Requirement already satisfied: geographiclib<2,>=1.49 in /usr/local/lib/python3.7/dist-packages (from geopy->twint==2.1.21) (1.52)\n",
            "Requirement already satisfied: requests in /usr/local/lib/python3.7/dist-packages (from googletransx->twint==2.1.21) (2.28.1)\n",
            "Requirement already satisfied: python-dateutil>=2.7.3 in /usr/local/lib/python3.7/dist-packages (from pandas->twint==2.1.21) (2.8.2)\n",
            "Requirement already satisfied: pytz>=2017.3 in /usr/local/lib/python3.7/dist-packages (from pandas->twint==2.1.21) (2022.6)\n",
            "Requirement already satisfied: numpy>=1.17.3 in /usr/local/lib/python3.7/dist-packages (from pandas->twint==2.1.21) (1.21.6)\n",
            "Requirement already satisfied: six>=1.5 in /usr/local/lib/python3.7/dist-packages (from python-dateutil>=2.7.3->pandas->twint==2.1.21) (1.15.0)\n",
            "Requirement already satisfied: charset-normalizer<3,>=2 in /usr/local/lib/python3.7/dist-packages (from requests->googletransx->twint==2.1.21) (2.1.1)\n",
            "Building wheels for collected packages: twint\n",
            "  Building wheel for twint (setup.py) ... \u001b[?25l\u001b[?25hdone\n",
            "  Created wheel for twint: filename=twint-2.1.21-py3-none-any.whl size=38870 sha256=9c2506a7d60bf6d392c7ac64b6df3593ab361a0aaa4008f2de3bf432b7618357\n",
            "  Stored in directory: /tmp/pip-ephem-wheel-cache-yx8cxfua/wheels/7c/13/c6/de22238eff0eea31813612b9d88da2eee9328a07c9b59f79b0\n",
            "Successfully built twint\n",
            "Installing collected packages: async-timeout, aiohttp, twint\n",
            "  Attempting uninstall: async-timeout\n",
            "    Found existing installation: async-timeout 4.0.2\n",
            "    Uninstalling async-timeout-4.0.2:\n",
            "      Successfully uninstalled async-timeout-4.0.2\n",
            "  Attempting uninstall: aiohttp\n",
            "    Found existing installation: aiohttp 3.8.3\n",
            "    Uninstalling aiohttp-3.8.3:\n",
            "      Successfully uninstalled aiohttp-3.8.3\n",
            "  Attempting uninstall: twint\n",
            "    Found existing installation: twint 2.1.21\n",
            "    Uninstalling twint-2.1.21:\n",
            "      Successfully uninstalled twint-2.1.21\n",
            "Successfully installed aiohttp-3.7.3 async-timeout-3.0.1 twint-2.1.21\n"
          ]
        }
      ]
    },
    {
      "cell_type": "markdown",
      "source": [
        "Check library twint & googletransx\n"
      ],
      "metadata": {
        "id": "jNF2Wu8qD-W8"
      }
    },
    {
      "cell_type": "code",
      "source": [
        "# Cek library\n",
        "!pip list|grep twint\n",
        "!pip list|grep googletransx\n",
        "!pip list|grep aiohttp"
      ],
      "metadata": {
        "colab": {
          "base_uri": "https://localhost:8080/"
        },
        "id": "i5FSWP9JWzYY",
        "outputId": "43e2ff45-0dc0-4ca8-be07-ce9b3b8c1542"
      },
      "execution_count": null,
      "outputs": [
        {
          "output_type": "stream",
          "name": "stdout",
          "text": [
            "twint                         2.1.21\n",
            "googletransx                  2.4.2\n",
            "aiohttp                       3.7.3\n",
            "aiohttp-socks                 0.4.1\n"
          ]
        }
      ]
    },
    {
      "cell_type": "markdown",
      "source": [
        "Import Library\n"
      ],
      "metadata": {
        "id": "fDciPoRREEzJ"
      }
    },
    {
      "cell_type": "code",
      "source": [
        "import pandas as pd\n",
        "import twint\n",
        "import nest_asyncio\n",
        "\n",
        "nest_asyncio.apply()"
      ],
      "metadata": {
        "id": "YNLcU7CBW1cE"
      },
      "execution_count": null,
      "outputs": []
    },
    {
      "cell_type": "markdown",
      "source": [
        "Mounting Google Drive\n"
      ],
      "metadata": {
        "id": "Z6pq5X3gELz2"
      }
    },
    {
      "cell_type": "code",
      "source": [
        "from google.colab import drive\n",
        "drive.mount('/content/gdrive', force_remount=True)"
      ],
      "metadata": {
        "id": "Gtf1Zn3XW38U"
      },
      "execution_count": null,
      "outputs": []
    },
    {
      "cell_type": "code",
      "source": [
        "cd /content/gdrive/'My Drive'/\n"
      ],
      "metadata": {
        "id": "wkDaoW8xXet1"
      },
      "execution_count": null,
      "outputs": []
    },
    {
      "cell_type": "code",
      "source": [
        "ls"
      ],
      "metadata": {
        "id": "czR87YMWbi-8"
      },
      "execution_count": null,
      "outputs": []
    },
    {
      "cell_type": "code",
      "source": [
        "#@title Search the Tweet...\n",
        "#Create Object from library twint and class Config\n",
        "c = twint.Config()\n",
        "\n",
        "#Put the username what you want to get\n",
        "#c.Username = \"\" #@param {type:\"string\"}\n",
        "\n",
        "#Put keyword what you want to search\n",
        "c.Search = \"#kanjuruhan\" #@param {type:\"string\"}\n",
        "#c.Search = \"indonesia\" #@param {type:\"string\"}\n",
        "\n",
        "#What you want to show and export\n",
        "#c.Custom = {\"tweet\": None, \"user\": None, \"username\": None}\n",
        "\n",
        "#Set date time for the tweet\n",
        "c.Since = \"2022-10-01 00:00:00\" #@param {type:\"string\"}\n",
        "c.Until = \"2022-10-18 00:00:00\" #@param {type:\"string\"}\n",
        "\n",
        "#Set language what you want to translate it\n",
        "c.TranslateDest = \"id\" #@param {type:\"string\"}\n",
        "\n",
        "#How much text what you want to get it\n",
        "c.Limit = \"10000\" #@param {type:\"string\"}\n",
        "\n",
        "#Set language\n",
        "#c.Lang = \"id\"\n",
        "\n",
        "#c.Verified = True\n",
        "#c.Min_likes = 100\n",
        "#c.Min_retweets = 1\n",
        "#c.Min_replies = 1\n",
        "#c.Hide_output = True\n",
        "#c.Show_hashtags = True\n",
        "\n",
        "#Set it if you want to save to csv format\n",
        "c.Store_csv = True #@param {type:\"string\"}\n",
        "\n",
        "#Set destination location\n",
        "c.Output = \"result.csv\" #@param {type:\"string\"}\n",
        "\n",
        "#Execute the script\n",
        "twint.run.Search(c)"
      ],
      "metadata": {
        "id": "AYfliqqkXkAH"
      },
      "execution_count": null,
      "outputs": []
    },
    {
      "cell_type": "code",
      "source": [
        "cat result.csv"
      ],
      "metadata": {
        "id": "qh3VLZWQbmoi"
      },
      "execution_count": null,
      "outputs": []
    },
    {
      "cell_type": "code",
      "source": [
        "df = pd.read_csv ('result.csv')\n",
        "display(df)"
      ],
      "metadata": {
        "id": "EtbMQlwJbuj6"
      },
      "execution_count": null,
      "outputs": []
    },
    {
      "cell_type": "markdown",
      "source": [
        "Install Library\n"
      ],
      "metadata": {
        "id": "C7_XfJuYHr8k"
      }
    },
    {
      "cell_type": "code",
      "source": [
        "# Install library\n",
        "!pip install googletrans\n",
        "!pip install emoji\n",
        "!pip install joblib\n",
        "!pip install wordcloud\n",
        "!pip install Sastrawi"
      ],
      "metadata": {
        "id": "uytssvpEYjsy",
        "colab": {
          "base_uri": "https://localhost:8080/"
        },
        "outputId": "585cc6cd-7bf1-4be3-cd23-510ac375b21f"
      },
      "execution_count": null,
      "outputs": [
        {
          "output_type": "stream",
          "name": "stdout",
          "text": [
            "Looking in indexes: https://pypi.org/simple, https://us-python.pkg.dev/colab-wheels/public/simple/\n",
            "Requirement already satisfied: googletrans in /usr/local/lib/python3.8/dist-packages (3.0.0)\n",
            "Requirement already satisfied: httpx==0.13.3 in /usr/local/lib/python3.8/dist-packages (from googletrans) (0.13.3)\n",
            "Requirement already satisfied: httpcore==0.9.* in /usr/local/lib/python3.8/dist-packages (from httpx==0.13.3->googletrans) (0.9.1)\n",
            "Requirement already satisfied: idna==2.* in /usr/local/lib/python3.8/dist-packages (from httpx==0.13.3->googletrans) (2.10)\n",
            "Requirement already satisfied: hstspreload in /usr/local/lib/python3.8/dist-packages (from httpx==0.13.3->googletrans) (2022.12.1)\n",
            "Requirement already satisfied: certifi in /usr/local/lib/python3.8/dist-packages (from httpx==0.13.3->googletrans) (2022.12.7)\n",
            "Requirement already satisfied: sniffio in /usr/local/lib/python3.8/dist-packages (from httpx==0.13.3->googletrans) (1.3.0)\n",
            "Requirement already satisfied: chardet==3.* in /usr/local/lib/python3.8/dist-packages (from httpx==0.13.3->googletrans) (3.0.4)\n",
            "Requirement already satisfied: rfc3986<2,>=1.3 in /usr/local/lib/python3.8/dist-packages (from httpx==0.13.3->googletrans) (1.5.0)\n",
            "Requirement already satisfied: h11<0.10,>=0.8 in /usr/local/lib/python3.8/dist-packages (from httpcore==0.9.*->httpx==0.13.3->googletrans) (0.9.0)\n",
            "Requirement already satisfied: h2==3.* in /usr/local/lib/python3.8/dist-packages (from httpcore==0.9.*->httpx==0.13.3->googletrans) (3.2.0)\n",
            "Requirement already satisfied: hyperframe<6,>=5.2.0 in /usr/local/lib/python3.8/dist-packages (from h2==3.*->httpcore==0.9.*->httpx==0.13.3->googletrans) (5.2.0)\n",
            "Requirement already satisfied: hpack<4,>=3.0 in /usr/local/lib/python3.8/dist-packages (from h2==3.*->httpcore==0.9.*->httpx==0.13.3->googletrans) (3.0.0)\n",
            "Looking in indexes: https://pypi.org/simple, https://us-python.pkg.dev/colab-wheels/public/simple/\n",
            "Requirement already satisfied: emoji in /usr/local/lib/python3.8/dist-packages (2.2.0)\n",
            "Looking in indexes: https://pypi.org/simple, https://us-python.pkg.dev/colab-wheels/public/simple/\n",
            "Requirement already satisfied: joblib in /usr/local/lib/python3.8/dist-packages (1.2.0)\n",
            "Looking in indexes: https://pypi.org/simple, https://us-python.pkg.dev/colab-wheels/public/simple/\n",
            "Requirement already satisfied: wordcloud in /usr/local/lib/python3.8/dist-packages (1.8.2.2)\n",
            "Requirement already satisfied: pillow in /usr/local/lib/python3.8/dist-packages (from wordcloud) (7.1.2)\n",
            "Requirement already satisfied: numpy>=1.6.1 in /usr/local/lib/python3.8/dist-packages (from wordcloud) (1.21.6)\n",
            "Requirement already satisfied: matplotlib in /usr/local/lib/python3.8/dist-packages (from wordcloud) (3.2.2)\n",
            "Requirement already satisfied: python-dateutil>=2.1 in /usr/local/lib/python3.8/dist-packages (from matplotlib->wordcloud) (2.8.2)\n",
            "Requirement already satisfied: cycler>=0.10 in /usr/local/lib/python3.8/dist-packages (from matplotlib->wordcloud) (0.11.0)\n",
            "Requirement already satisfied: kiwisolver>=1.0.1 in /usr/local/lib/python3.8/dist-packages (from matplotlib->wordcloud) (1.4.4)\n",
            "Requirement already satisfied: pyparsing!=2.0.4,!=2.1.2,!=2.1.6,>=2.0.1 in /usr/local/lib/python3.8/dist-packages (from matplotlib->wordcloud) (3.0.9)\n",
            "Requirement already satisfied: six>=1.5 in /usr/local/lib/python3.8/dist-packages (from python-dateutil>=2.1->matplotlib->wordcloud) (1.15.0)\n",
            "Looking in indexes: https://pypi.org/simple, https://us-python.pkg.dev/colab-wheels/public/simple/\n",
            "Requirement already satisfied: Sastrawi in /usr/local/lib/python3.8/dist-packages (1.0.1)\n"
          ]
        }
      ]
    },
    {
      "cell_type": "markdown",
      "source": [
        "Mounting Google Drive"
      ],
      "metadata": {
        "id": "aDBxC49oIAAY"
      }
    },
    {
      "cell_type": "code",
      "source": [
        "# Mounting Gdrive\n",
        "from google.colab import drive\n",
        "drive.mount('/content/gdrive', force_remount=True)"
      ],
      "metadata": {
        "id": "1ZIJFDOmY0Xo",
        "colab": {
          "base_uri": "https://localhost:8080/"
        },
        "outputId": "b760e182-a11d-4be7-f2f0-7c8e10b1db2d"
      },
      "execution_count": null,
      "outputs": [
        {
          "output_type": "stream",
          "name": "stdout",
          "text": [
            "Mounted at /content/gdrive\n"
          ]
        }
      ]
    },
    {
      "cell_type": "code",
      "source": [
        "!pwd"
      ],
      "metadata": {
        "id": "mcYMR4-BY60J",
        "colab": {
          "base_uri": "https://localhost:8080/"
        },
        "outputId": "b0cfb07a-c1e0-49fa-bdbe-3d0e840c862c"
      },
      "execution_count": null,
      "outputs": [
        {
          "output_type": "stream",
          "name": "stdout",
          "text": [
            "/content\n"
          ]
        }
      ]
    },
    {
      "cell_type": "code",
      "source": [
        "cd /content/gdrive/My\\ Drive/'Colab Notebooks'/"
      ],
      "metadata": {
        "id": "9lH6MIGGY846",
        "colab": {
          "base_uri": "https://localhost:8080/"
        },
        "outputId": "358e6983-6278-446f-f1ce-7a18be8c8939"
      },
      "execution_count": null,
      "outputs": [
        {
          "output_type": "stream",
          "name": "stdout",
          "text": [
            "/content/gdrive/My Drive/Colab Notebooks\n"
          ]
        }
      ]
    },
    {
      "cell_type": "code",
      "source": [
        "!ls"
      ],
      "metadata": {
        "id": "35K-mucoY-0n",
        "colab": {
          "base_uri": "https://localhost:8080/"
        },
        "outputId": "84fdae03-4baa-40bd-bf71-186ed9be3464"
      },
      "execution_count": null,
      "outputs": [
        {
          "output_type": "stream",
          "name": "stdout",
          "text": [
            " belajar\n",
            "'Copy of Sentiment Analysis Anies Baswedan.ipynb'\n",
            " emotion.txt\n",
            " kerusuhan.png\n",
            " negative.png\n",
            "'percobaan ke sekian .ipynb'\n",
            " polemik-gabung.csv\n",
            " polemik-gabung.xlsx\n",
            " positive.png\n",
            "'Proses clensing dan  memberikan algoritma.ipynb'\n",
            "'Sentiment Analysis'\n",
            " Sentiment_Analysis_dengan_VADER_dan_TextBlob.ipynb\n",
            " testinglabel.csv\n",
            " testinglabel.xlsx\n"
          ]
        }
      ]
    },
    {
      "cell_type": "code",
      "source": [
        "# untuk decode kata, contoh : 𝓘𝓷𝓭𝓸𝓷𝓮𝓼𝓲𝓪 menjadi indonesia\n",
        "#from unidecode import unidecode\n",
        "\n",
        "# untuk analisis dan memanipulasi data\n",
        "import pandas as pd\n",
        "\n",
        "# untuk operasi matematika\n",
        "import numpy as np\n",
        "\n",
        "# untuk menghitung waktu prediksi\n",
        "import time\n",
        "\n",
        "# untuk fungsi regex\n",
        "import re\n",
        "\n",
        "# untuk mengambil punctuation data\n",
        "import string\n",
        "\n",
        "# untuk translate tweet\n",
        "#from googletrans import Translator\n",
        "\n",
        "# untuk deteksi emoji\n",
        "#import emoji\n",
        "\n",
        "# import StemmerFactory class\n",
        "from Sastrawi.Stemmer.StemmerFactory import StemmerFactory\n",
        "\n",
        "# untuk membuat wordcloud\n",
        "from PIL import Image\n",
        "from wordcloud import WordCloud\n",
        "\n",
        "# untuk membuat plot\n",
        "import matplotlib.pyplot as plt\n",
        "import seaborn as sns\n",
        "\n",
        "\n",
        "# untuk Stemming, Tokenize, Stopword dan Vader\n",
        "import nltk\n",
        "from nltk.stem import PorterStemmer\n",
        "from nltk.stem import WordNetLemmatizer\n",
        "from nltk.tokenize import word_tokenize\n",
        "from nltk.corpus import stopwords\n",
        "nltk.download('stopwords')\n",
        "nltk.download('wordnet')\n",
        "from nltk.sentiment.vader import SentimentIntensityAnalyzer\n",
        "nltk.download('vader_lexicon')\n",
        "nltk.download('punkt')\n",
        "\n",
        "\n",
        "# untuk encoding data label\n",
        "from sklearn.preprocessing import LabelEncoder\n",
        "\n",
        "# untuk TF-IDF\n",
        "from sklearn.feature_extraction.text import TfidfVectorizer\n",
        "\n",
        "# untuk K-Fold cross validation\n",
        "from sklearn.model_selection import StratifiedKFold, cross_val_score, cross_val_predict\n",
        "\n",
        "# untuk algoritma naive bayes, svm dan metrics\n",
        "from sklearn.naive_bayes import GaussianNB\n",
        "from sklearn.svm import LinearSVC\n",
        "from sklearn.metrics import accuracy_score,recall_score,precision_score,f1_score, roc_auc_score, confusion_matrix, roc_curve, auc, classification_report\n",
        "\n",
        "# untuk mengurutkan matric score\n",
        "from collections import OrderedDict\n",
        "\n",
        "# untuk melakukan teknik resampling data yang tidak seimbang dan pipeline\n",
        "from imblearn.over_sampling import SMOTE\n",
        "from imblearn import pipeline\n",
        "\n",
        "# untuk export model\n",
        "import pickle"
      ],
      "metadata": {
        "id": "4I_Xq7xWZHOL",
        "colab": {
          "base_uri": "https://localhost:8080/"
        },
        "outputId": "5bbdbcf8-46bc-4fa7-b56c-51c5484b21a7"
      },
      "execution_count": null,
      "outputs": [
        {
          "output_type": "stream",
          "name": "stderr",
          "text": [
            "[nltk_data] Downloading package stopwords to /root/nltk_data...\n",
            "[nltk_data]   Package stopwords is already up-to-date!\n",
            "[nltk_data] Downloading package wordnet to /root/nltk_data...\n",
            "[nltk_data]   Package wordnet is already up-to-date!\n",
            "[nltk_data] Downloading package vader_lexicon to /root/nltk_data...\n",
            "[nltk_data]   Package vader_lexicon is already up-to-date!\n",
            "[nltk_data] Downloading package punkt to /root/nltk_data...\n",
            "[nltk_data]   Package punkt is already up-to-date!\n"
          ]
        }
      ]
    },
    {
      "cell_type": "code",
      "source": [
        "# Read data\n",
        "#rawdata = pd.read_csv('polemik-gabung.csv',dtype=str)\n",
        "rawdata = pd.read_csv('polemik-gabung.csv',dtype=str)\n",
        "\n",
        "# Cek data\n",
        "display(rawdata.head())\n",
        "\n",
        "# Cek attribut dataset\n",
        "display(rawdata.columns)\n",
        "\n",
        "# Cek jumlah baris dan kolom dataset\n",
        "display(rawdata.shape)\n",
        "\n",
        "# Cek Nilai Null\n",
        "print(rawdata.isnull().sum())"
      ],
      "metadata": {
        "id": "UNIwN5DjZSv6",
        "colab": {
          "base_uri": "https://localhost:8080/",
          "height": 293
        },
        "outputId": "b3fcb0c5-f08d-4afc-f665-760e87ee244f"
      },
      "execution_count": null,
      "outputs": [
        {
          "output_type": "display_data",
          "data": {
            "text/plain": [
              "                                               tweet  \\\n",
              "0  Jangan sampai tragedi Kanjuruhan terulang kemb...   \n",
              "1  Tragedi kajuruhan jangan sampai tetulang kemba...   \n",
              "2  3 jam lebih rekaman CCTV di Kanjuruhan sengaja...   \n",
              "3  Polda Jatim Periksa Ketum PSSI Hari Ini  #Ketu...   \n",
              "4  Polisi mengakui penembakan gas air mata, apala...   \n",
              "\n",
              "                                           translate  \n",
              "0  Don't let the Kanjuruhan tragedy repeat. #kanj...  \n",
              "1  The Kajing Tragedy should not be returned. #Ka...  \n",
              "2  More than 3 hours CCTV footage in Kanjuruhan w...  \n",
              "3  East Java Regional Police Check the PSSI Ketum...  \n",
              "4  The police recognize tear gas shooting, what e...  "
            ],
            "text/html": [
              "\n",
              "  <div id=\"df-181db180-a758-4b71-bc51-54209c3d0fd8\">\n",
              "    <div class=\"colab-df-container\">\n",
              "      <div>\n",
              "<style scoped>\n",
              "    .dataframe tbody tr th:only-of-type {\n",
              "        vertical-align: middle;\n",
              "    }\n",
              "\n",
              "    .dataframe tbody tr th {\n",
              "        vertical-align: top;\n",
              "    }\n",
              "\n",
              "    .dataframe thead th {\n",
              "        text-align: right;\n",
              "    }\n",
              "</style>\n",
              "<table border=\"1\" class=\"dataframe\">\n",
              "  <thead>\n",
              "    <tr style=\"text-align: right;\">\n",
              "      <th></th>\n",
              "      <th>tweet</th>\n",
              "      <th>translate</th>\n",
              "    </tr>\n",
              "  </thead>\n",
              "  <tbody>\n",
              "    <tr>\n",
              "      <th>0</th>\n",
              "      <td>Jangan sampai tragedi Kanjuruhan terulang kemb...</td>\n",
              "      <td>Don't let the Kanjuruhan tragedy repeat. #kanj...</td>\n",
              "    </tr>\n",
              "    <tr>\n",
              "      <th>1</th>\n",
              "      <td>Tragedi kajuruhan jangan sampai tetulang kemba...</td>\n",
              "      <td>The Kajing Tragedy should not be returned. #Ka...</td>\n",
              "    </tr>\n",
              "    <tr>\n",
              "      <th>2</th>\n",
              "      <td>3 jam lebih rekaman CCTV di Kanjuruhan sengaja...</td>\n",
              "      <td>More than 3 hours CCTV footage in Kanjuruhan w...</td>\n",
              "    </tr>\n",
              "    <tr>\n",
              "      <th>3</th>\n",
              "      <td>Polda Jatim Periksa Ketum PSSI Hari Ini  #Ketu...</td>\n",
              "      <td>East Java Regional Police Check the PSSI Ketum...</td>\n",
              "    </tr>\n",
              "    <tr>\n",
              "      <th>4</th>\n",
              "      <td>Polisi mengakui penembakan gas air mata, apala...</td>\n",
              "      <td>The police recognize tear gas shooting, what e...</td>\n",
              "    </tr>\n",
              "  </tbody>\n",
              "</table>\n",
              "</div>\n",
              "      <button class=\"colab-df-convert\" onclick=\"convertToInteractive('df-181db180-a758-4b71-bc51-54209c3d0fd8')\"\n",
              "              title=\"Convert this dataframe to an interactive table.\"\n",
              "              style=\"display:none;\">\n",
              "        \n",
              "  <svg xmlns=\"http://www.w3.org/2000/svg\" height=\"24px\"viewBox=\"0 0 24 24\"\n",
              "       width=\"24px\">\n",
              "    <path d=\"M0 0h24v24H0V0z\" fill=\"none\"/>\n",
              "    <path d=\"M18.56 5.44l.94 2.06.94-2.06 2.06-.94-2.06-.94-.94-2.06-.94 2.06-2.06.94zm-11 1L8.5 8.5l.94-2.06 2.06-.94-2.06-.94L8.5 2.5l-.94 2.06-2.06.94zm10 10l.94 2.06.94-2.06 2.06-.94-2.06-.94-.94-2.06-.94 2.06-2.06.94z\"/><path d=\"M17.41 7.96l-1.37-1.37c-.4-.4-.92-.59-1.43-.59-.52 0-1.04.2-1.43.59L10.3 9.45l-7.72 7.72c-.78.78-.78 2.05 0 2.83L4 21.41c.39.39.9.59 1.41.59.51 0 1.02-.2 1.41-.59l7.78-7.78 2.81-2.81c.8-.78.8-2.07 0-2.86zM5.41 20L4 18.59l7.72-7.72 1.47 1.35L5.41 20z\"/>\n",
              "  </svg>\n",
              "      </button>\n",
              "      \n",
              "  <style>\n",
              "    .colab-df-container {\n",
              "      display:flex;\n",
              "      flex-wrap:wrap;\n",
              "      gap: 12px;\n",
              "    }\n",
              "\n",
              "    .colab-df-convert {\n",
              "      background-color: #E8F0FE;\n",
              "      border: none;\n",
              "      border-radius: 50%;\n",
              "      cursor: pointer;\n",
              "      display: none;\n",
              "      fill: #1967D2;\n",
              "      height: 32px;\n",
              "      padding: 0 0 0 0;\n",
              "      width: 32px;\n",
              "    }\n",
              "\n",
              "    .colab-df-convert:hover {\n",
              "      background-color: #E2EBFA;\n",
              "      box-shadow: 0px 1px 2px rgba(60, 64, 67, 0.3), 0px 1px 3px 1px rgba(60, 64, 67, 0.15);\n",
              "      fill: #174EA6;\n",
              "    }\n",
              "\n",
              "    [theme=dark] .colab-df-convert {\n",
              "      background-color: #3B4455;\n",
              "      fill: #D2E3FC;\n",
              "    }\n",
              "\n",
              "    [theme=dark] .colab-df-convert:hover {\n",
              "      background-color: #434B5C;\n",
              "      box-shadow: 0px 1px 3px 1px rgba(0, 0, 0, 0.15);\n",
              "      filter: drop-shadow(0px 1px 2px rgba(0, 0, 0, 0.3));\n",
              "      fill: #FFFFFF;\n",
              "    }\n",
              "  </style>\n",
              "\n",
              "      <script>\n",
              "        const buttonEl =\n",
              "          document.querySelector('#df-181db180-a758-4b71-bc51-54209c3d0fd8 button.colab-df-convert');\n",
              "        buttonEl.style.display =\n",
              "          google.colab.kernel.accessAllowed ? 'block' : 'none';\n",
              "\n",
              "        async function convertToInteractive(key) {\n",
              "          const element = document.querySelector('#df-181db180-a758-4b71-bc51-54209c3d0fd8');\n",
              "          const dataTable =\n",
              "            await google.colab.kernel.invokeFunction('convertToInteractive',\n",
              "                                                     [key], {});\n",
              "          if (!dataTable) return;\n",
              "\n",
              "          const docLinkHtml = 'Like what you see? Visit the ' +\n",
              "            '<a target=\"_blank\" href=https://colab.research.google.com/notebooks/data_table.ipynb>data table notebook</a>'\n",
              "            + ' to learn more about interactive tables.';\n",
              "          element.innerHTML = '';\n",
              "          dataTable['output_type'] = 'display_data';\n",
              "          await google.colab.output.renderOutput(dataTable, element);\n",
              "          const docLink = document.createElement('div');\n",
              "          docLink.innerHTML = docLinkHtml;\n",
              "          element.appendChild(docLink);\n",
              "        }\n",
              "      </script>\n",
              "    </div>\n",
              "  </div>\n",
              "  "
            ]
          },
          "metadata": {}
        },
        {
          "output_type": "display_data",
          "data": {
            "text/plain": [
              "Index(['tweet', 'translate'], dtype='object')"
            ]
          },
          "metadata": {}
        },
        {
          "output_type": "display_data",
          "data": {
            "text/plain": [
              "(1183, 2)"
            ]
          },
          "metadata": {}
        },
        {
          "output_type": "stream",
          "name": "stdout",
          "text": [
            "tweet        0\n",
            "translate    0\n",
            "dtype: int64\n"
          ]
        }
      ]
    },
    {
      "cell_type": "code",
      "source": [
        "data= rawdata.filter(['tweet','translate'])"
      ],
      "metadata": {
        "id": "IbIB15pKZ1n2"
      },
      "execution_count": null,
      "outputs": []
    },
    {
      "cell_type": "code",
      "source": [
        "display(data)"
      ],
      "metadata": {
        "id": "Ab23T_a1a3x1",
        "colab": {
          "base_uri": "https://localhost:8080/",
          "height": 424
        },
        "outputId": "d1c70c38-0b20-401f-a5d1-b74c2c18551b"
      },
      "execution_count": null,
      "outputs": [
        {
          "output_type": "display_data",
          "data": {
            "text/plain": [
              "                                                  tweet  \\\n",
              "0     Jangan sampai tragedi Kanjuruhan terulang kemb...   \n",
              "1     Tragedi kajuruhan jangan sampai tetulang kemba...   \n",
              "2     3 jam lebih rekaman CCTV di Kanjuruhan sengaja...   \n",
              "3     Polda Jatim Periksa Ketum PSSI Hari Ini  #Ketu...   \n",
              "4     Polisi mengakui penembakan gas air mata, apala...   \n",
              "...                                                 ...   \n",
              "1178  Jadi tidak ada yang pulang, dengan kondisi tid...   \n",
              "1179  Nyawa tak sebanding euforia sepakbola  #greenn...   \n",
              "1180  #emildardak #emildardakwakilgubernurjatim #jaw...   \n",
              "1181  Video sexy artis indo  https://t.co/SlMeccv8c5...   \n",
              "1182  Tim Gabungan Independen Pencari Fakta (TGIPF) ...   \n",
              "\n",
              "                                              translate  \n",
              "0     Don't let the Kanjuruhan tragedy repeat. #kanj...  \n",
              "1     The Kajing Tragedy should not be returned. #Ka...  \n",
              "2     More than 3 hours CCTV footage in Kanjuruhan w...  \n",
              "3     East Java Regional Police Check the PSSI Ketum...  \n",
              "4     The police recognize tear gas shooting, what e...  \n",
              "...                                                 ...  \n",
              "1178  So no one goes home, with unstable conditions,...  \n",
              "1179  The lives are not comparable to football eupho...  \n",
              "1180                                                  \"  \n",
              "1181     Indo Indo Artist Video https://t.co/slmeccv8c5  \n",
              "1182  The Joint Independent Fact Finding Team (TGIPF...  \n",
              "\n",
              "[1183 rows x 2 columns]"
            ],
            "text/html": [
              "\n",
              "  <div id=\"df-5b2adc1a-433b-492e-acfa-a86fcfc7b70c\">\n",
              "    <div class=\"colab-df-container\">\n",
              "      <div>\n",
              "<style scoped>\n",
              "    .dataframe tbody tr th:only-of-type {\n",
              "        vertical-align: middle;\n",
              "    }\n",
              "\n",
              "    .dataframe tbody tr th {\n",
              "        vertical-align: top;\n",
              "    }\n",
              "\n",
              "    .dataframe thead th {\n",
              "        text-align: right;\n",
              "    }\n",
              "</style>\n",
              "<table border=\"1\" class=\"dataframe\">\n",
              "  <thead>\n",
              "    <tr style=\"text-align: right;\">\n",
              "      <th></th>\n",
              "      <th>tweet</th>\n",
              "      <th>translate</th>\n",
              "    </tr>\n",
              "  </thead>\n",
              "  <tbody>\n",
              "    <tr>\n",
              "      <th>0</th>\n",
              "      <td>Jangan sampai tragedi Kanjuruhan terulang kemb...</td>\n",
              "      <td>Don't let the Kanjuruhan tragedy repeat. #kanj...</td>\n",
              "    </tr>\n",
              "    <tr>\n",
              "      <th>1</th>\n",
              "      <td>Tragedi kajuruhan jangan sampai tetulang kemba...</td>\n",
              "      <td>The Kajing Tragedy should not be returned. #Ka...</td>\n",
              "    </tr>\n",
              "    <tr>\n",
              "      <th>2</th>\n",
              "      <td>3 jam lebih rekaman CCTV di Kanjuruhan sengaja...</td>\n",
              "      <td>More than 3 hours CCTV footage in Kanjuruhan w...</td>\n",
              "    </tr>\n",
              "    <tr>\n",
              "      <th>3</th>\n",
              "      <td>Polda Jatim Periksa Ketum PSSI Hari Ini  #Ketu...</td>\n",
              "      <td>East Java Regional Police Check the PSSI Ketum...</td>\n",
              "    </tr>\n",
              "    <tr>\n",
              "      <th>4</th>\n",
              "      <td>Polisi mengakui penembakan gas air mata, apala...</td>\n",
              "      <td>The police recognize tear gas shooting, what e...</td>\n",
              "    </tr>\n",
              "    <tr>\n",
              "      <th>...</th>\n",
              "      <td>...</td>\n",
              "      <td>...</td>\n",
              "    </tr>\n",
              "    <tr>\n",
              "      <th>1178</th>\n",
              "      <td>Jadi tidak ada yang pulang, dengan kondisi tid...</td>\n",
              "      <td>So no one goes home, with unstable conditions,...</td>\n",
              "    </tr>\n",
              "    <tr>\n",
              "      <th>1179</th>\n",
              "      <td>Nyawa tak sebanding euforia sepakbola  #greenn...</td>\n",
              "      <td>The lives are not comparable to football eupho...</td>\n",
              "    </tr>\n",
              "    <tr>\n",
              "      <th>1180</th>\n",
              "      <td>#emildardak #emildardakwakilgubernurjatim #jaw...</td>\n",
              "      <td>\"</td>\n",
              "    </tr>\n",
              "    <tr>\n",
              "      <th>1181</th>\n",
              "      <td>Video sexy artis indo  https://t.co/SlMeccv8c5...</td>\n",
              "      <td>Indo Indo Artist Video https://t.co/slmeccv8c5</td>\n",
              "    </tr>\n",
              "    <tr>\n",
              "      <th>1182</th>\n",
              "      <td>Tim Gabungan Independen Pencari Fakta (TGIPF) ...</td>\n",
              "      <td>The Joint Independent Fact Finding Team (TGIPF...</td>\n",
              "    </tr>\n",
              "  </tbody>\n",
              "</table>\n",
              "<p>1183 rows × 2 columns</p>\n",
              "</div>\n",
              "      <button class=\"colab-df-convert\" onclick=\"convertToInteractive('df-5b2adc1a-433b-492e-acfa-a86fcfc7b70c')\"\n",
              "              title=\"Convert this dataframe to an interactive table.\"\n",
              "              style=\"display:none;\">\n",
              "        \n",
              "  <svg xmlns=\"http://www.w3.org/2000/svg\" height=\"24px\"viewBox=\"0 0 24 24\"\n",
              "       width=\"24px\">\n",
              "    <path d=\"M0 0h24v24H0V0z\" fill=\"none\"/>\n",
              "    <path d=\"M18.56 5.44l.94 2.06.94-2.06 2.06-.94-2.06-.94-.94-2.06-.94 2.06-2.06.94zm-11 1L8.5 8.5l.94-2.06 2.06-.94-2.06-.94L8.5 2.5l-.94 2.06-2.06.94zm10 10l.94 2.06.94-2.06 2.06-.94-2.06-.94-.94-2.06-.94 2.06-2.06.94z\"/><path d=\"M17.41 7.96l-1.37-1.37c-.4-.4-.92-.59-1.43-.59-.52 0-1.04.2-1.43.59L10.3 9.45l-7.72 7.72c-.78.78-.78 2.05 0 2.83L4 21.41c.39.39.9.59 1.41.59.51 0 1.02-.2 1.41-.59l7.78-7.78 2.81-2.81c.8-.78.8-2.07 0-2.86zM5.41 20L4 18.59l7.72-7.72 1.47 1.35L5.41 20z\"/>\n",
              "  </svg>\n",
              "      </button>\n",
              "      \n",
              "  <style>\n",
              "    .colab-df-container {\n",
              "      display:flex;\n",
              "      flex-wrap:wrap;\n",
              "      gap: 12px;\n",
              "    }\n",
              "\n",
              "    .colab-df-convert {\n",
              "      background-color: #E8F0FE;\n",
              "      border: none;\n",
              "      border-radius: 50%;\n",
              "      cursor: pointer;\n",
              "      display: none;\n",
              "      fill: #1967D2;\n",
              "      height: 32px;\n",
              "      padding: 0 0 0 0;\n",
              "      width: 32px;\n",
              "    }\n",
              "\n",
              "    .colab-df-convert:hover {\n",
              "      background-color: #E2EBFA;\n",
              "      box-shadow: 0px 1px 2px rgba(60, 64, 67, 0.3), 0px 1px 3px 1px rgba(60, 64, 67, 0.15);\n",
              "      fill: #174EA6;\n",
              "    }\n",
              "\n",
              "    [theme=dark] .colab-df-convert {\n",
              "      background-color: #3B4455;\n",
              "      fill: #D2E3FC;\n",
              "    }\n",
              "\n",
              "    [theme=dark] .colab-df-convert:hover {\n",
              "      background-color: #434B5C;\n",
              "      box-shadow: 0px 1px 3px 1px rgba(0, 0, 0, 0.15);\n",
              "      filter: drop-shadow(0px 1px 2px rgba(0, 0, 0, 0.3));\n",
              "      fill: #FFFFFF;\n",
              "    }\n",
              "  </style>\n",
              "\n",
              "      <script>\n",
              "        const buttonEl =\n",
              "          document.querySelector('#df-5b2adc1a-433b-492e-acfa-a86fcfc7b70c button.colab-df-convert');\n",
              "        buttonEl.style.display =\n",
              "          google.colab.kernel.accessAllowed ? 'block' : 'none';\n",
              "\n",
              "        async function convertToInteractive(key) {\n",
              "          const element = document.querySelector('#df-5b2adc1a-433b-492e-acfa-a86fcfc7b70c');\n",
              "          const dataTable =\n",
              "            await google.colab.kernel.invokeFunction('convertToInteractive',\n",
              "                                                     [key], {});\n",
              "          if (!dataTable) return;\n",
              "\n",
              "          const docLinkHtml = 'Like what you see? Visit the ' +\n",
              "            '<a target=\"_blank\" href=https://colab.research.google.com/notebooks/data_table.ipynb>data table notebook</a>'\n",
              "            + ' to learn more about interactive tables.';\n",
              "          element.innerHTML = '';\n",
              "          dataTable['output_type'] = 'display_data';\n",
              "          await google.colab.output.renderOutput(dataTable, element);\n",
              "          const docLink = document.createElement('div');\n",
              "          docLink.innerHTML = docLinkHtml;\n",
              "          element.appendChild(docLink);\n",
              "        }\n",
              "      </script>\n",
              "    </div>\n",
              "  </div>\n",
              "  "
            ]
          },
          "metadata": {}
        }
      ]
    },
    {
      "cell_type": "code",
      "source": [
        "display(data.columns)"
      ],
      "metadata": {
        "id": "3bPwqwjJa5eu",
        "colab": {
          "base_uri": "https://localhost:8080/",
          "height": 34
        },
        "outputId": "64570762-a4da-446b-cdd5-7474cfffb422"
      },
      "execution_count": null,
      "outputs": [
        {
          "output_type": "display_data",
          "data": {
            "text/plain": [
              "Index(['tweet', 'translate'], dtype='object')"
            ]
          },
          "metadata": {}
        }
      ]
    },
    {
      "cell_type": "code",
      "source": [
        "display(data.shape)"
      ],
      "metadata": {
        "id": "RNHhb4vxbAeF",
        "colab": {
          "base_uri": "https://localhost:8080/",
          "height": 34
        },
        "outputId": "cb0b5b6e-9a8f-4fa8-c3c5-ab68b1e20335"
      },
      "execution_count": null,
      "outputs": [
        {
          "output_type": "display_data",
          "data": {
            "text/plain": [
              "(1183, 2)"
            ]
          },
          "metadata": {}
        }
      ]
    },
    {
      "cell_type": "code",
      "source": [
        "# mengapus data yang kosong di column translate\n",
        "data = data.dropna(subset=['translate'])"
      ],
      "metadata": {
        "id": "6RFl6hnpbF6s"
      },
      "execution_count": null,
      "outputs": []
    },
    {
      "cell_type": "code",
      "source": [
        "# reset index\n",
        "data = data.reset_index(drop=True)"
      ],
      "metadata": {
        "id": "dfwccvNubIpw"
      },
      "execution_count": null,
      "outputs": []
    },
    {
      "cell_type": "code",
      "source": [
        "print(data.isnull().sum())"
      ],
      "metadata": {
        "id": "X-XB0OsBbKcw",
        "colab": {
          "base_uri": "https://localhost:8080/"
        },
        "outputId": "a1a0f619-6dff-4306-e7fa-4bcd68f581a7"
      },
      "execution_count": null,
      "outputs": [
        {
          "output_type": "stream",
          "name": "stdout",
          "text": [
            "tweet        0\n",
            "translate    0\n",
            "dtype: int64\n"
          ]
        }
      ]
    },
    {
      "cell_type": "code",
      "source": [
        "# fungsi untuk cleansing data\n",
        "def clean_tweet(tweet):\n",
        "  # Case folding\n",
        "  tweet = tweet.lower()\n",
        "  \n",
        "  # Cleansing (Remove URL)\n",
        "  tweet = re.sub('http\\S+|\\S+co\\S+', ' ', tweet)\n",
        "    \n",
        "  # Cleansing (Remove Mention)\n",
        "  #tweet = re.sub(\"@[A-Za-z0-9\\S]+\", \"\", tweet)\n",
        "  \n",
        "  # Cleansing (Remove Hastag)\n",
        "  tweet = re.sub(r'#([^\\s]+)', r'\\1', tweet)\n",
        "\n",
        "\n",
        "  # Cleansing (Convert Emoticon)\n",
        "  emotion\t= [emot.strip('\\n').strip('\\r') for emot in open('emotion.txt')]\n",
        "  dic={}\n",
        "  token = tweet.split()\n",
        "  for i in emotion:\n",
        "    (key,val)=i.split('\\t')\n",
        "    dic[str(key)]=val\n",
        "  tweet = ' '.join(str(dic.get(word, word)) for word in token)\n",
        "\n",
        "  # Hapus semua special characters\n",
        "  tweet = re.sub(r'\\W', ' ', str(tweet))\n",
        "\n",
        "  # Hapus semua single characters\n",
        "  tweet = re.sub(r'\\s+[a-zA-Z]\\s+', ' ', tweet)\n",
        "\n",
        "  # Hapus single characters dari awal\n",
        "  tweet = re.sub(r'\\^[a-zA-Z]\\s+', ' ', tweet) \n",
        "\n",
        "  # Substitusi multiple spaces dengan single space\n",
        "  tweet= re.sub(r'\\s+', ' ', tweet, flags=re.I)\n",
        "\n",
        "  # Hapus prefixed 'b'\n",
        "  tweet = re.sub(r'^b\\s+', '', tweet)\n",
        "\n",
        "\n",
        "  # Cleansing (Remove Number and Punctuation)\n",
        "  wrem_list = ('rt') #masukkan kata yang ingin dihapus\n",
        "  exclude = set (string.punctuation)\n",
        "  rem_list = []\n",
        "  token = tweet.split()\n",
        "  for w in token:\n",
        "    if w not in wrem_list and len(w) > 1 and len(w) < 25 and not w.isdigit():\n",
        "      for x in w:\n",
        "        if x in exclude:\n",
        "          x=\"\"\n",
        "          rem_list.append(x)\n",
        "        else:\n",
        "          rem_list.append(x)\n",
        "      rem_list.append(\" \")\n",
        "  tweet = \"\".join(rem_list)\n",
        "\n",
        "  return tweet"
      ],
      "metadata": {
        "id": "8yOdwYnhbMS5"
      },
      "execution_count": null,
      "outputs": []
    },
    {
      "cell_type": "code",
      "source": [
        "# Preprocessing indonesia\n",
        "def preprocessing_id(tweet):\n",
        "  # create stemmer with sastrawi\n",
        "  stemmer = StemmerFactory().create_stemmer()\n",
        "  tweet = stemmer.stem(tweet)\n",
        "  \n",
        "  return tweet"
      ],
      "metadata": {
        "id": "xeSz8xHmbZkj"
      },
      "execution_count": null,
      "outputs": []
    },
    {
      "cell_type": "code",
      "source": [
        "# Preprocessing english\n",
        "def preprocessing_en(tweet):\n",
        "\n",
        "  # PorterStemmer English dari library NLTK\n",
        "  stemmer = PorterStemmer()\n",
        "  #stemmer = WordNetLemmatizer()\n",
        "  tweet = stemmer.stem(tweet)\n",
        "  #tweet = stemmer.lemmatize(tweet,pos='v')\n",
        "  \n",
        "  return tweet"
      ],
      "metadata": {
        "id": "9B7R-6n5bgXZ"
      },
      "execution_count": null,
      "outputs": []
    },
    {
      "cell_type": "code",
      "source": [
        "# Klasifikasi Tweet menggunakan Vader base on corpus\n",
        "def sentiment_Vader(tweet):\n",
        "  analysis = SentimentIntensityAnalyzer()\n",
        "  analysis = analysis.polarity_scores(tweet)\n",
        "  comm = analysis['compound']\n",
        "  if (comm >= 0.05):\n",
        "    return \"Positive\"\n",
        "  elif ((comm > -0.05) and (comm < 0.05)):\n",
        "    return \"Neutral\"\n",
        "  else:\n",
        "    return \"Negative\""
      ],
      "metadata": {
        "id": "K4ggyw8ubjIT"
      },
      "execution_count": null,
      "outputs": []
    },
    {
      "cell_type": "code",
      "source": [
        "data = pd.read_csv('polemik-gabung.csv',dtype=str)"
      ],
      "metadata": {
        "id": "9fFzvTyKcBNU"
      },
      "execution_count": null,
      "outputs": []
    },
    {
      "cell_type": "code",
      "source": [
        "data['Cleansing_Tweet'] = data['tweet'].apply(lambda x: str(clean_tweet(x)))"
      ],
      "metadata": {
        "id": "hvpooP5tcd5u"
      },
      "execution_count": null,
      "outputs": []
    },
    {
      "cell_type": "code",
      "source": [
        "data['Cleansing_Tweet_en'] = data['translate'].apply(lambda x: str(clean_tweet(x)))"
      ],
      "metadata": {
        "id": "CWQECq6AcjrR"
      },
      "execution_count": null,
      "outputs": []
    },
    {
      "cell_type": "code",
      "source": [
        "data['Cleansing_Tweet_Stem'] = data['Cleansing_Tweet'].apply(lambda x: str(preprocessing_id(x)))"
      ],
      "metadata": {
        "id": "cexIzO7Bcofa"
      },
      "execution_count": null,
      "outputs": []
    },
    {
      "cell_type": "code",
      "source": [
        "data['Sentiment'] = np.array([sentiment_Vader(tweet) for tweet in data['Cleansing_Tweet_en']])"
      ],
      "metadata": {
        "id": "ABnRposrkBUP"
      },
      "execution_count": null,
      "outputs": []
    },
    {
      "cell_type": "code",
      "source": [
        "display(data)"
      ],
      "metadata": {
        "colab": {
          "base_uri": "https://localhost:8080/",
          "height": 641
        },
        "id": "ULDMxxJlkHDS",
        "outputId": "9d56e2ac-a3ed-4d95-b29d-bed5ec4bd715"
      },
      "execution_count": null,
      "outputs": [
        {
          "output_type": "display_data",
          "data": {
            "text/plain": [
              "                                                  tweet  \\\n",
              "0     Jangan sampai tragedi Kanjuruhan terulang kemb...   \n",
              "1     Tragedi kajuruhan jangan sampai tetulang kemba...   \n",
              "2     3 jam lebih rekaman CCTV di Kanjuruhan sengaja...   \n",
              "3     Polda Jatim Periksa Ketum PSSI Hari Ini  #Ketu...   \n",
              "4     Polisi mengakui penembakan gas air mata, apala...   \n",
              "...                                                 ...   \n",
              "1178  Jadi tidak ada yang pulang, dengan kondisi tid...   \n",
              "1179  Nyawa tak sebanding euforia sepakbola  #greenn...   \n",
              "1180  #emildardak #emildardakwakilgubernurjatim #jaw...   \n",
              "1181  Video sexy artis indo  https://t.co/SlMeccv8c5...   \n",
              "1182  Tim Gabungan Independen Pencari Fakta (TGIPF) ...   \n",
              "\n",
              "                                              translate  \\\n",
              "0     Don't let the Kanjuruhan tragedy repeat. #kanj...   \n",
              "1     The Kajing Tragedy should not be returned. #Ka...   \n",
              "2     More than 3 hours CCTV footage in Kanjuruhan w...   \n",
              "3     East Java Regional Police Check the PSSI Ketum...   \n",
              "4     The police recognize tear gas shooting, what e...   \n",
              "...                                                 ...   \n",
              "1178  So no one goes home, with unstable conditions,...   \n",
              "1179  The lives are not comparable to football eupho...   \n",
              "1180                                                  \"   \n",
              "1181     Indo Indo Artist Video https://t.co/slmeccv8c5   \n",
              "1182  The Joint Independent Fact Finding Team (TGIPF...   \n",
              "\n",
              "                                        Cleansing_Tweet  \\\n",
              "0     jangan sampai tragedi kanjuruhan terulang kemb...   \n",
              "1     tragedi kajuruhan jangan sampai tetulang kemba...   \n",
              "2     jam lebih rekaman cctv di kanjuruhan sengaja d...   \n",
              "3     polda jatim periksa ketum pssi hari ini ketump...   \n",
              "4     polisi mengakui penembakan gas air mata apalag...   \n",
              "...                                                 ...   \n",
              "1178  jadi tidak ada yang pulang dengan kondisi tida...   \n",
              "1179  nyawa tak sebanding euforia sepakbola greennor...   \n",
              "1180  emildardak jawatimur jatim jatimhebat wagubjat...   \n",
              "1181  video sexy artis indo kanjuruhan kanjuruhansta...   \n",
              "1182  tim gabungan independen pencari fakta tgipf me...   \n",
              "\n",
              "                                     Cleansing_Tweet_en Sentiment  \\\n",
              "0     don let the kanjuruhan tragedy repeat kanjuruh...  Negative   \n",
              "1     the kajing tragedy should not be returned kanj...  Negative   \n",
              "2     more than hours cctv footage in kanjuruhan was...  Negative   \n",
              "3     east java regional police check the pssi ketum...   Neutral   \n",
              "4     the police tear gas shooting what else must be...  Negative   \n",
              "...                                                 ...       ...   \n",
              "1178  so no one goes home with unstable conditions e...  Negative   \n",
              "1179  the lives are not comparable to football eupho...  Positive   \n",
              "1180                                                      Neutral   \n",
              "1181                            indo indo artist video    Neutral   \n",
              "1182  the joint independent fact finding team tgipf ...   Neutral   \n",
              "\n",
              "                                   Cleansing_Tweet_Stem  \n",
              "0     jangan sampai tragedi kanjuruhan ulang kembali...  \n",
              "1     tragedi kajuruhan jangan sampai tetulang kemba...  \n",
              "2     jam lebih rekam cctv di kanjuruhan sengaja hap...  \n",
              "3     polda jatim periksa tum pssi hari ini ketumpss...  \n",
              "4     polisi aku tembak gas air mata apalagi yg haru...  \n",
              "...                                                 ...  \n",
              "1178  jadi tidak ada yang pulang dengan kondisi tida...  \n",
              "1179  nyawa tak banding euforia sepakbola greennord ...  \n",
              "1180  emildardak jawatimur jatim jatimhebat wagubjat...  \n",
              "1181  video sexy artis indo kanjuruhan kanjuruhansta...  \n",
              "1182  tim gabung independen cari fakta tgipf beber t...  \n",
              "\n",
              "[1183 rows x 6 columns]"
            ],
            "text/html": [
              "\n",
              "  <div id=\"df-056d8c01-d09b-4977-a907-6d03a31f171b\">\n",
              "    <div class=\"colab-df-container\">\n",
              "      <div>\n",
              "<style scoped>\n",
              "    .dataframe tbody tr th:only-of-type {\n",
              "        vertical-align: middle;\n",
              "    }\n",
              "\n",
              "    .dataframe tbody tr th {\n",
              "        vertical-align: top;\n",
              "    }\n",
              "\n",
              "    .dataframe thead th {\n",
              "        text-align: right;\n",
              "    }\n",
              "</style>\n",
              "<table border=\"1\" class=\"dataframe\">\n",
              "  <thead>\n",
              "    <tr style=\"text-align: right;\">\n",
              "      <th></th>\n",
              "      <th>tweet</th>\n",
              "      <th>translate</th>\n",
              "      <th>Cleansing_Tweet</th>\n",
              "      <th>Cleansing_Tweet_en</th>\n",
              "      <th>Sentiment</th>\n",
              "      <th>Cleansing_Tweet_Stem</th>\n",
              "    </tr>\n",
              "  </thead>\n",
              "  <tbody>\n",
              "    <tr>\n",
              "      <th>0</th>\n",
              "      <td>Jangan sampai tragedi Kanjuruhan terulang kemb...</td>\n",
              "      <td>Don't let the Kanjuruhan tragedy repeat. #kanj...</td>\n",
              "      <td>jangan sampai tragedi kanjuruhan terulang kemb...</td>\n",
              "      <td>don let the kanjuruhan tragedy repeat kanjuruh...</td>\n",
              "      <td>Negative</td>\n",
              "      <td>jangan sampai tragedi kanjuruhan ulang kembali...</td>\n",
              "    </tr>\n",
              "    <tr>\n",
              "      <th>1</th>\n",
              "      <td>Tragedi kajuruhan jangan sampai tetulang kemba...</td>\n",
              "      <td>The Kajing Tragedy should not be returned. #Ka...</td>\n",
              "      <td>tragedi kajuruhan jangan sampai tetulang kemba...</td>\n",
              "      <td>the kajing tragedy should not be returned kanj...</td>\n",
              "      <td>Negative</td>\n",
              "      <td>tragedi kajuruhan jangan sampai tetulang kemba...</td>\n",
              "    </tr>\n",
              "    <tr>\n",
              "      <th>2</th>\n",
              "      <td>3 jam lebih rekaman CCTV di Kanjuruhan sengaja...</td>\n",
              "      <td>More than 3 hours CCTV footage in Kanjuruhan w...</td>\n",
              "      <td>jam lebih rekaman cctv di kanjuruhan sengaja d...</td>\n",
              "      <td>more than hours cctv footage in kanjuruhan was...</td>\n",
              "      <td>Negative</td>\n",
              "      <td>jam lebih rekam cctv di kanjuruhan sengaja hap...</td>\n",
              "    </tr>\n",
              "    <tr>\n",
              "      <th>3</th>\n",
              "      <td>Polda Jatim Periksa Ketum PSSI Hari Ini  #Ketu...</td>\n",
              "      <td>East Java Regional Police Check the PSSI Ketum...</td>\n",
              "      <td>polda jatim periksa ketum pssi hari ini ketump...</td>\n",
              "      <td>east java regional police check the pssi ketum...</td>\n",
              "      <td>Neutral</td>\n",
              "      <td>polda jatim periksa tum pssi hari ini ketumpss...</td>\n",
              "    </tr>\n",
              "    <tr>\n",
              "      <th>4</th>\n",
              "      <td>Polisi mengakui penembakan gas air mata, apala...</td>\n",
              "      <td>The police recognize tear gas shooting, what e...</td>\n",
              "      <td>polisi mengakui penembakan gas air mata apalag...</td>\n",
              "      <td>the police tear gas shooting what else must be...</td>\n",
              "      <td>Negative</td>\n",
              "      <td>polisi aku tembak gas air mata apalagi yg haru...</td>\n",
              "    </tr>\n",
              "    <tr>\n",
              "      <th>...</th>\n",
              "      <td>...</td>\n",
              "      <td>...</td>\n",
              "      <td>...</td>\n",
              "      <td>...</td>\n",
              "      <td>...</td>\n",
              "      <td>...</td>\n",
              "    </tr>\n",
              "    <tr>\n",
              "      <th>1178</th>\n",
              "      <td>Jadi tidak ada yang pulang, dengan kondisi tid...</td>\n",
              "      <td>So no one goes home, with unstable conditions,...</td>\n",
              "      <td>jadi tidak ada yang pulang dengan kondisi tida...</td>\n",
              "      <td>so no one goes home with unstable conditions e...</td>\n",
              "      <td>Negative</td>\n",
              "      <td>jadi tidak ada yang pulang dengan kondisi tida...</td>\n",
              "    </tr>\n",
              "    <tr>\n",
              "      <th>1179</th>\n",
              "      <td>Nyawa tak sebanding euforia sepakbola  #greenn...</td>\n",
              "      <td>The lives are not comparable to football eupho...</td>\n",
              "      <td>nyawa tak sebanding euforia sepakbola greennor...</td>\n",
              "      <td>the lives are not comparable to football eupho...</td>\n",
              "      <td>Positive</td>\n",
              "      <td>nyawa tak banding euforia sepakbola greennord ...</td>\n",
              "    </tr>\n",
              "    <tr>\n",
              "      <th>1180</th>\n",
              "      <td>#emildardak #emildardakwakilgubernurjatim #jaw...</td>\n",
              "      <td>\"</td>\n",
              "      <td>emildardak jawatimur jatim jatimhebat wagubjat...</td>\n",
              "      <td></td>\n",
              "      <td>Neutral</td>\n",
              "      <td>emildardak jawatimur jatim jatimhebat wagubjat...</td>\n",
              "    </tr>\n",
              "    <tr>\n",
              "      <th>1181</th>\n",
              "      <td>Video sexy artis indo  https://t.co/SlMeccv8c5...</td>\n",
              "      <td>Indo Indo Artist Video https://t.co/slmeccv8c5</td>\n",
              "      <td>video sexy artis indo kanjuruhan kanjuruhansta...</td>\n",
              "      <td>indo indo artist video</td>\n",
              "      <td>Neutral</td>\n",
              "      <td>video sexy artis indo kanjuruhan kanjuruhansta...</td>\n",
              "    </tr>\n",
              "    <tr>\n",
              "      <th>1182</th>\n",
              "      <td>Tim Gabungan Independen Pencari Fakta (TGIPF) ...</td>\n",
              "      <td>The Joint Independent Fact Finding Team (TGIPF...</td>\n",
              "      <td>tim gabungan independen pencari fakta tgipf me...</td>\n",
              "      <td>the joint independent fact finding team tgipf ...</td>\n",
              "      <td>Neutral</td>\n",
              "      <td>tim gabung independen cari fakta tgipf beber t...</td>\n",
              "    </tr>\n",
              "  </tbody>\n",
              "</table>\n",
              "<p>1183 rows × 6 columns</p>\n",
              "</div>\n",
              "      <button class=\"colab-df-convert\" onclick=\"convertToInteractive('df-056d8c01-d09b-4977-a907-6d03a31f171b')\"\n",
              "              title=\"Convert this dataframe to an interactive table.\"\n",
              "              style=\"display:none;\">\n",
              "        \n",
              "  <svg xmlns=\"http://www.w3.org/2000/svg\" height=\"24px\"viewBox=\"0 0 24 24\"\n",
              "       width=\"24px\">\n",
              "    <path d=\"M0 0h24v24H0V0z\" fill=\"none\"/>\n",
              "    <path d=\"M18.56 5.44l.94 2.06.94-2.06 2.06-.94-2.06-.94-.94-2.06-.94 2.06-2.06.94zm-11 1L8.5 8.5l.94-2.06 2.06-.94-2.06-.94L8.5 2.5l-.94 2.06-2.06.94zm10 10l.94 2.06.94-2.06 2.06-.94-2.06-.94-.94-2.06-.94 2.06-2.06.94z\"/><path d=\"M17.41 7.96l-1.37-1.37c-.4-.4-.92-.59-1.43-.59-.52 0-1.04.2-1.43.59L10.3 9.45l-7.72 7.72c-.78.78-.78 2.05 0 2.83L4 21.41c.39.39.9.59 1.41.59.51 0 1.02-.2 1.41-.59l7.78-7.78 2.81-2.81c.8-.78.8-2.07 0-2.86zM5.41 20L4 18.59l7.72-7.72 1.47 1.35L5.41 20z\"/>\n",
              "  </svg>\n",
              "      </button>\n",
              "      \n",
              "  <style>\n",
              "    .colab-df-container {\n",
              "      display:flex;\n",
              "      flex-wrap:wrap;\n",
              "      gap: 12px;\n",
              "    }\n",
              "\n",
              "    .colab-df-convert {\n",
              "      background-color: #E8F0FE;\n",
              "      border: none;\n",
              "      border-radius: 50%;\n",
              "      cursor: pointer;\n",
              "      display: none;\n",
              "      fill: #1967D2;\n",
              "      height: 32px;\n",
              "      padding: 0 0 0 0;\n",
              "      width: 32px;\n",
              "    }\n",
              "\n",
              "    .colab-df-convert:hover {\n",
              "      background-color: #E2EBFA;\n",
              "      box-shadow: 0px 1px 2px rgba(60, 64, 67, 0.3), 0px 1px 3px 1px rgba(60, 64, 67, 0.15);\n",
              "      fill: #174EA6;\n",
              "    }\n",
              "\n",
              "    [theme=dark] .colab-df-convert {\n",
              "      background-color: #3B4455;\n",
              "      fill: #D2E3FC;\n",
              "    }\n",
              "\n",
              "    [theme=dark] .colab-df-convert:hover {\n",
              "      background-color: #434B5C;\n",
              "      box-shadow: 0px 1px 3px 1px rgba(0, 0, 0, 0.15);\n",
              "      filter: drop-shadow(0px 1px 2px rgba(0, 0, 0, 0.3));\n",
              "      fill: #FFFFFF;\n",
              "    }\n",
              "  </style>\n",
              "\n",
              "      <script>\n",
              "        const buttonEl =\n",
              "          document.querySelector('#df-056d8c01-d09b-4977-a907-6d03a31f171b button.colab-df-convert');\n",
              "        buttonEl.style.display =\n",
              "          google.colab.kernel.accessAllowed ? 'block' : 'none';\n",
              "\n",
              "        async function convertToInteractive(key) {\n",
              "          const element = document.querySelector('#df-056d8c01-d09b-4977-a907-6d03a31f171b');\n",
              "          const dataTable =\n",
              "            await google.colab.kernel.invokeFunction('convertToInteractive',\n",
              "                                                     [key], {});\n",
              "          if (!dataTable) return;\n",
              "\n",
              "          const docLinkHtml = 'Like what you see? Visit the ' +\n",
              "            '<a target=\"_blank\" href=https://colab.research.google.com/notebooks/data_table.ipynb>data table notebook</a>'\n",
              "            + ' to learn more about interactive tables.';\n",
              "          element.innerHTML = '';\n",
              "          dataTable['output_type'] = 'display_data';\n",
              "          await google.colab.output.renderOutput(dataTable, element);\n",
              "          const docLink = document.createElement('div');\n",
              "          docLink.innerHTML = docLinkHtml;\n",
              "          element.appendChild(docLink);\n",
              "        }\n",
              "      </script>\n",
              "    </div>\n",
              "  </div>\n",
              "  "
            ]
          },
          "metadata": {}
        }
      ]
    },
    {
      "cell_type": "code",
      "source": [
        "# Cek jumlah positive, negative dan neutral\n",
        "positives = data[data['Sentiment'] == 'Positive']\n",
        "negatives = data[data['Sentiment'] == 'Negative']\n",
        "neutral = data[data['Sentiment'] == 'Neutral']\n",
        "\n",
        "print('Total Positive       : {}'.format(len(positives)))\n",
        "print('Total Negative       : {}'.format(len(negatives)))\n",
        "print('Total Neutral        : {}'.format(len(neutral)))\n",
        "print('Total Data           : {}'.format(data.shape[0]))\n",
        "print('')\n",
        "\n",
        "# Melihat hasil distribusi sentimen menggunakan vader\n",
        "sns.countplot(x='Sentiment', data=data)\n",
        "plt.title('Sentiment Data Distribution VADER', fontsize=16)\n",
        "plt.ylabel('Class Counts', fontsize=16)\n",
        "plt.xlabel('Class Label', fontsize=16)\n",
        "plt.xticks(rotation='horizontal');"
      ],
      "metadata": {
        "colab": {
          "base_uri": "https://localhost:8080/",
          "height": 389
        },
        "id": "pz1JdZnWzFCq",
        "outputId": "eab8a3f4-1b53-4332-ffdb-93aaaa6ac05e"
      },
      "execution_count": null,
      "outputs": [
        {
          "output_type": "stream",
          "name": "stdout",
          "text": [
            "Total Positive       : 237\n",
            "Total Negative       : 658\n",
            "Total Neutral        : 288\n",
            "Total Data           : 1183\n",
            "\n"
          ]
        },
        {
          "output_type": "display_data",
          "data": {
            "text/plain": [
              "<Figure size 432x288 with 1 Axes>"
            ],
            "image/png": "[encoded data removed]"
          },
          "metadata": {
            "needs_background": "light"
          }
        }
      ]
    },
    {
      "cell_type": "code",
      "source": [
        "# Export dataset\n",
        "loc_data = ('polemik-gabung.csv')\n",
        "export_data = data.to_csv (loc_data, index=False, header=True, encoding='utf-8')\n",
        "export_data"
      ],
      "metadata": {
        "id": "M_-NCb-2zPJK"
      },
      "execution_count": null,
      "outputs": []
    },
    {
      "cell_type": "code",
      "source": [
        "# Mengambil data Sentimen Positive dan Negative masing-masing 450 menggunakan random under-sampling\n",
        "t_1 = data[data['Sentiment']=='Positive']#.sample(450,replace=True)\n",
        "t_2 = data[data['Sentiment']=='Negative']#.sample(450,replace=True)\n",
        "df = pd.concat([t_1, t_2])"
      ],
      "metadata": {
        "id": "CGUuUiBYzX1v"
      },
      "execution_count": null,
      "outputs": []
    },
    {
      "cell_type": "code",
      "source": [
        "# Cek nilai Null pada data\n",
        "print('Nilai Null:')\n",
        "print (df.isnull().sum())\n",
        "print(\"\")\n",
        "\n",
        "\n",
        "# Cek jumlah positive, negative dan neutral\n",
        "positives = df[df['Sentiment'] == 'Positive']\n",
        "negatives = df[df['Sentiment'] == 'Negative']\n",
        "\n",
        "print('Total positive      : {}'.format(len(positives)))\n",
        "print('Total negative      : {}'.format(len(negatives)))\n",
        "print('total data          : {}'.format(df.shape[0]))\n",
        "print('')\n",
        "\n",
        "# Mengecek distribusi sentimen pada dataframe baru\n",
        "sns.countplot(x='Sentiment', data=df)\n",
        "plt.title('Distribusi Sentimen', fontsize=16)\n",
        "plt.ylabel('Class Counts', fontsize=16)\n",
        "plt.xlabel('Class Label', fontsize=16)\n",
        "plt.xticks(rotation='horizontal')"
      ],
      "metadata": {
        "colab": {
          "base_uri": "https://localhost:8080/",
          "height": 545
        },
        "id": "KbuXhd-UzbGt",
        "outputId": "16cf0974-af2f-4b53-8572-ae9e929a01a4"
      },
      "execution_count": null,
      "outputs": [
        {
          "output_type": "stream",
          "name": "stdout",
          "text": [
            "Nilai Null:\n",
            "tweet                   0\n",
            "translate               0\n",
            "Cleansing_Tweet         0\n",
            "Cleansing_Tweet_en      0\n",
            "Sentiment               0\n",
            "Cleansing_Tweet_Stem    0\n",
            "dtype: int64\n",
            "\n",
            "Total positive      : 237\n",
            "Total negative      : 658\n",
            "total data          : 895\n",
            "\n"
          ]
        },
        {
          "output_type": "execute_result",
          "data": {
            "text/plain": [
              "(array([0, 1]), <a list of 2 Text major ticklabel objects>)"
            ]
          },
          "metadata": {},
          "execution_count": 31
        },
        {
          "output_type": "display_data",
          "data": {
            "text/plain": [
              "<Figure size 432x288 with 1 Axes>"
            ],
            "image/png": "[encoded data removed]"
          },
          "metadata": {
            "needs_background": "light"
          }
        }
      ]
    },
    {
      "cell_type": "code",
      "source": [
        "display(df)"
      ],
      "metadata": {
        "colab": {
          "base_uri": "https://localhost:8080/",
          "height": 659
        },
        "id": "76oQo7ejzfln",
        "outputId": "a08656b3-456d-4da6-bf7a-deb739927a32"
      },
      "execution_count": null,
      "outputs": [
        {
          "output_type": "display_data",
          "data": {
            "text/plain": [
              "                                                  tweet  \\\n",
              "5     Juaranya memang, harus diusut tuntas @ListyoSi...   \n",
              "10    Akun media sosial PSSI tidak lagi mengunggah f...   \n",
              "12    Penasihat hukum Security Officer Arema FC Suko...   \n",
              "19    \"TaPi KaN iNi SaLaH GaS aIr MaTa\" \"iNi kAn SuD...   \n",
              "20    Stadion Kanjuruhan Direnovasi, Arema FC Dipers...   \n",
              "...                                                 ...   \n",
              "1172  Panglima TNI Andika Perkasa Perintahkan Usut T...   \n",
              "1173  Many have been deeply saddened at the devastat...   \n",
              "1174  Soal Tragedi Kanjuruhan, Ketua Komisi X: Saya ...   \n",
              "1176  Naik motor mau berangkat kerja berjalan keutar...   \n",
              "1178  Jadi tidak ada yang pulang, dengan kondisi tid...   \n",
              "\n",
              "                                              translate  \\\n",
              "5     The champion is indeed, it must be thoroughly ...   \n",
              "10    PSSI social media accounts no longer upload bl...   \n",
              "12    Arema FC Security Officer Legal Counsel Suko S...   \n",
              "19    \"But this is wrong with tear gas\" \"This is alr...   \n",
              "20    Kanjuruhan Stadium was renovated, Arema FC was...   \n",
              "...                                                 ...   \n",
              "1172  TNI Commander Andika Perkasa ordered the Compl...   \n",
              "1173  Many have been deeply saddened at the devastat...   \n",
              "1174  About the Kanjuruhan Tragedy, Chair of Commiss...   \n",
              "1176  Riding a motorcycle wanting to go to work walk...   \n",
              "1178  So no one goes home, with unstable conditions,...   \n",
              "\n",
              "                                        Cleansing_Tweet  \\\n",
              "5     juaranya memang harus diusut tuntas listyosigi...   \n",
              "10    akun media sosial pssi tidak lagi mengunggah f...   \n",
              "12    penasihat hukum security officer arema fc suko...   \n",
              "19    tapi kan ini salah gas air mata ini kan sudah ...   \n",
              "20    stadion kanjuruhan direnovasi arema fc dipersi...   \n",
              "...                                                 ...   \n",
              "1172  panglima tni andika perkasa perintahkan usut t...   \n",
              "1173  many have been deeply saddened at the devastat...   \n",
              "1174  soal tragedi kanjuruhan ketua komisi saya mena...   \n",
              "1176  naik motor mau berangkat kerja berjalan keutar...   \n",
              "1178  jadi tidak ada yang pulang dengan kondisi tida...   \n",
              "\n",
              "                                     Cleansing_Tweet_en Sentiment  \\\n",
              "5     the champion is indeed it must be thoroughly i...  Positive   \n",
              "10    pssi social media no longer upload black and w...  Positive   \n",
              "12    arema fc security officer legal counsel suko s...  Positive   \n",
              "19    but this is wrong with tear gas this is alread...  Positive   \n",
              "20    kanjuruhan stadium was renovated arema fc was ...  Positive   \n",
              "...                                                 ...       ...   \n",
              "1172  tni commander andika perkasa ordered the compl...  Negative   \n",
              "1173  many have been deeply saddened at the devastat...  Negative   \n",
              "1174  about the kanjuruhan tragedy chair of commissi...  Negative   \n",
              "1176  riding motorcycle wanting to go to work walkin...  Negative   \n",
              "1178  so no one goes home with unstable conditions e...  Negative   \n",
              "\n",
              "                                   Cleansing_Tweet_Stem  \n",
              "5     juara memang harus usut tuntas listyosigitp mo...  \n",
              "10    akun media sosial pssi tidak lagi unggah foto ...  \n",
              "12    nasihat hukum security officer arema fc suko s...  \n",
              "19    tapi kan ini salah gas air mata ini kan sudah ...  \n",
              "20    stadion kanjuruhan renovasi arema fc sila boyo...  \n",
              "...                                                 ...  \n",
              "1172  panglima tni andika perkasa perintah usut tunt...  \n",
              "1173  many have been deeply saddened at the devastat...  \n",
              "1174  soal tragedi kanjuruhan ketua komisi saya tang...  \n",
              "1176  naik motor mau berangkat kerja jalan utara tak...  \n",
              "1178  jadi tidak ada yang pulang dengan kondisi tida...  \n",
              "\n",
              "[895 rows x 6 columns]"
            ],
            "text/html": [
              "\n",
              "  <div id=\"df-82ede6f0-e103-47be-ae3b-5221cf15ab0a\">\n",
              "    <div class=\"colab-df-container\">\n",
              "      <div>\n",
              "<style scoped>\n",
              "    .dataframe tbody tr th:only-of-type {\n",
              "        vertical-align: middle;\n",
              "    }\n",
              "\n",
              "    .dataframe tbody tr th {\n",
              "        vertical-align: top;\n",
              "    }\n",
              "\n",
              "    .dataframe thead th {\n",
              "        text-align: right;\n",
              "    }\n",
              "</style>\n",
              "<table border=\"1\" class=\"dataframe\">\n",
              "  <thead>\n",
              "    <tr style=\"text-align: right;\">\n",
              "      <th></th>\n",
              "      <th>tweet</th>\n",
              "      <th>translate</th>\n",
              "      <th>Cleansing_Tweet</th>\n",
              "      <th>Cleansing_Tweet_en</th>\n",
              "      <th>Sentiment</th>\n",
              "      <th>Cleansing_Tweet_Stem</th>\n",
              "    </tr>\n",
              "  </thead>\n",
              "  <tbody>\n",
              "    <tr>\n",
              "      <th>5</th>\n",
              "      <td>Juaranya memang, harus diusut tuntas @ListyoSi...</td>\n",
              "      <td>The champion is indeed, it must be thoroughly ...</td>\n",
              "      <td>juaranya memang harus diusut tuntas listyosigi...</td>\n",
              "      <td>the champion is indeed it must be thoroughly i...</td>\n",
              "      <td>Positive</td>\n",
              "      <td>juara memang harus usut tuntas listyosigitp mo...</td>\n",
              "    </tr>\n",
              "    <tr>\n",
              "      <th>10</th>\n",
              "      <td>Akun media sosial PSSI tidak lagi mengunggah f...</td>\n",
              "      <td>PSSI social media accounts no longer upload bl...</td>\n",
              "      <td>akun media sosial pssi tidak lagi mengunggah f...</td>\n",
              "      <td>pssi social media no longer upload black and w...</td>\n",
              "      <td>Positive</td>\n",
              "      <td>akun media sosial pssi tidak lagi unggah foto ...</td>\n",
              "    </tr>\n",
              "    <tr>\n",
              "      <th>12</th>\n",
              "      <td>Penasihat hukum Security Officer Arema FC Suko...</td>\n",
              "      <td>Arema FC Security Officer Legal Counsel Suko S...</td>\n",
              "      <td>penasihat hukum security officer arema fc suko...</td>\n",
              "      <td>arema fc security officer legal counsel suko s...</td>\n",
              "      <td>Positive</td>\n",
              "      <td>nasihat hukum security officer arema fc suko s...</td>\n",
              "    </tr>\n",
              "    <tr>\n",
              "      <th>19</th>\n",
              "      <td>\"TaPi KaN iNi SaLaH GaS aIr MaTa\" \"iNi kAn SuD...</td>\n",
              "      <td>\"But this is wrong with tear gas\" \"This is alr...</td>\n",
              "      <td>tapi kan ini salah gas air mata ini kan sudah ...</td>\n",
              "      <td>but this is wrong with tear gas this is alread...</td>\n",
              "      <td>Positive</td>\n",
              "      <td>tapi kan ini salah gas air mata ini kan sudah ...</td>\n",
              "    </tr>\n",
              "    <tr>\n",
              "      <th>20</th>\n",
              "      <td>Stadion Kanjuruhan Direnovasi, Arema FC Dipers...</td>\n",
              "      <td>Kanjuruhan Stadium was renovated, Arema FC was...</td>\n",
              "      <td>stadion kanjuruhan direnovasi arema fc dipersi...</td>\n",
              "      <td>kanjuruhan stadium was renovated arema fc was ...</td>\n",
              "      <td>Positive</td>\n",
              "      <td>stadion kanjuruhan renovasi arema fc sila boyo...</td>\n",
              "    </tr>\n",
              "    <tr>\n",
              "      <th>...</th>\n",
              "      <td>...</td>\n",
              "      <td>...</td>\n",
              "      <td>...</td>\n",
              "      <td>...</td>\n",
              "      <td>...</td>\n",
              "      <td>...</td>\n",
              "    </tr>\n",
              "    <tr>\n",
              "      <th>1172</th>\n",
              "      <td>Panglima TNI Andika Perkasa Perintahkan Usut T...</td>\n",
              "      <td>TNI Commander Andika Perkasa ordered the Compl...</td>\n",
              "      <td>panglima tni andika perkasa perintahkan usut t...</td>\n",
              "      <td>tni commander andika perkasa ordered the compl...</td>\n",
              "      <td>Negative</td>\n",
              "      <td>panglima tni andika perkasa perintah usut tunt...</td>\n",
              "    </tr>\n",
              "    <tr>\n",
              "      <th>1173</th>\n",
              "      <td>Many have been deeply saddened at the devastat...</td>\n",
              "      <td>Many have been deeply saddened at the devastat...</td>\n",
              "      <td>many have been deeply saddened at the devastat...</td>\n",
              "      <td>many have been deeply saddened at the devastat...</td>\n",
              "      <td>Negative</td>\n",
              "      <td>many have been deeply saddened at the devastat...</td>\n",
              "    </tr>\n",
              "    <tr>\n",
              "      <th>1174</th>\n",
              "      <td>Soal Tragedi Kanjuruhan, Ketua Komisi X: Saya ...</td>\n",
              "      <td>About the Kanjuruhan Tragedy, Chair of Commiss...</td>\n",
              "      <td>soal tragedi kanjuruhan ketua komisi saya mena...</td>\n",
              "      <td>about the kanjuruhan tragedy chair of commissi...</td>\n",
              "      <td>Negative</td>\n",
              "      <td>soal tragedi kanjuruhan ketua komisi saya tang...</td>\n",
              "    </tr>\n",
              "    <tr>\n",
              "      <th>1176</th>\n",
              "      <td>Naik motor mau berangkat kerja berjalan keutar...</td>\n",
              "      <td>Riding a motorcycle wanting to go to work walk...</td>\n",
              "      <td>naik motor mau berangkat kerja berjalan keutar...</td>\n",
              "      <td>riding motorcycle wanting to go to work walkin...</td>\n",
              "      <td>Negative</td>\n",
              "      <td>naik motor mau berangkat kerja jalan utara tak...</td>\n",
              "    </tr>\n",
              "    <tr>\n",
              "      <th>1178</th>\n",
              "      <td>Jadi tidak ada yang pulang, dengan kondisi tid...</td>\n",
              "      <td>So no one goes home, with unstable conditions,...</td>\n",
              "      <td>jadi tidak ada yang pulang dengan kondisi tida...</td>\n",
              "      <td>so no one goes home with unstable conditions e...</td>\n",
              "      <td>Negative</td>\n",
              "      <td>jadi tidak ada yang pulang dengan kondisi tida...</td>\n",
              "    </tr>\n",
              "  </tbody>\n",
              "</table>\n",
              "<p>895 rows × 6 columns</p>\n",
              "</div>\n",
              "      <button class=\"colab-df-convert\" onclick=\"convertToInteractive('df-82ede6f0-e103-47be-ae3b-5221cf15ab0a')\"\n",
              "              title=\"Convert this dataframe to an interactive table.\"\n",
              "              style=\"display:none;\">\n",
              "        \n",
              "  <svg xmlns=\"http://www.w3.org/2000/svg\" height=\"24px\"viewBox=\"0 0 24 24\"\n",
              "       width=\"24px\">\n",
              "    <path d=\"M0 0h24v24H0V0z\" fill=\"none\"/>\n",
              "    <path d=\"M18.56 5.44l.94 2.06.94-2.06 2.06-.94-2.06-.94-.94-2.06-.94 2.06-2.06.94zm-11 1L8.5 8.5l.94-2.06 2.06-.94-2.06-.94L8.5 2.5l-.94 2.06-2.06.94zm10 10l.94 2.06.94-2.06 2.06-.94-2.06-.94-.94-2.06-.94 2.06-2.06.94z\"/><path d=\"M17.41 7.96l-1.37-1.37c-.4-.4-.92-.59-1.43-.59-.52 0-1.04.2-1.43.59L10.3 9.45l-7.72 7.72c-.78.78-.78 2.05 0 2.83L4 21.41c.39.39.9.59 1.41.59.51 0 1.02-.2 1.41-.59l7.78-7.78 2.81-2.81c.8-.78.8-2.07 0-2.86zM5.41 20L4 18.59l7.72-7.72 1.47 1.35L5.41 20z\"/>\n",
              "  </svg>\n",
              "      </button>\n",
              "      \n",
              "  <style>\n",
              "    .colab-df-container {\n",
              "      display:flex;\n",
              "      flex-wrap:wrap;\n",
              "      gap: 12px;\n",
              "    }\n",
              "\n",
              "    .colab-df-convert {\n",
              "      background-color: #E8F0FE;\n",
              "      border: none;\n",
              "      border-radius: 50%;\n",
              "      cursor: pointer;\n",
              "      display: none;\n",
              "      fill: #1967D2;\n",
              "      height: 32px;\n",
              "      padding: 0 0 0 0;\n",
              "      width: 32px;\n",
              "    }\n",
              "\n",
              "    .colab-df-convert:hover {\n",
              "      background-color: #E2EBFA;\n",
              "      box-shadow: 0px 1px 2px rgba(60, 64, 67, 0.3), 0px 1px 3px 1px rgba(60, 64, 67, 0.15);\n",
              "      fill: #174EA6;\n",
              "    }\n",
              "\n",
              "    [theme=dark] .colab-df-convert {\n",
              "      background-color: #3B4455;\n",
              "      fill: #D2E3FC;\n",
              "    }\n",
              "\n",
              "    [theme=dark] .colab-df-convert:hover {\n",
              "      background-color: #434B5C;\n",
              "      box-shadow: 0px 1px 3px 1px rgba(0, 0, 0, 0.15);\n",
              "      filter: drop-shadow(0px 1px 2px rgba(0, 0, 0, 0.3));\n",
              "      fill: #FFFFFF;\n",
              "    }\n",
              "  </style>\n",
              "\n",
              "      <script>\n",
              "        const buttonEl =\n",
              "          document.querySelector('#df-82ede6f0-e103-47be-ae3b-5221cf15ab0a button.colab-df-convert');\n",
              "        buttonEl.style.display =\n",
              "          google.colab.kernel.accessAllowed ? 'block' : 'none';\n",
              "\n",
              "        async function convertToInteractive(key) {\n",
              "          const element = document.querySelector('#df-82ede6f0-e103-47be-ae3b-5221cf15ab0a');\n",
              "          const dataTable =\n",
              "            await google.colab.kernel.invokeFunction('convertToInteractive',\n",
              "                                                     [key], {});\n",
              "          if (!dataTable) return;\n",
              "\n",
              "          const docLinkHtml = 'Like what you see? Visit the ' +\n",
              "            '<a target=\"_blank\" href=https://colab.research.google.com/notebooks/data_table.ipynb>data table notebook</a>'\n",
              "            + ' to learn more about interactive tables.';\n",
              "          element.innerHTML = '';\n",
              "          dataTable['output_type'] = 'display_data';\n",
              "          await google.colab.output.renderOutput(dataTable, element);\n",
              "          const docLink = document.createElement('div');\n",
              "          docLink.innerHTML = docLinkHtml;\n",
              "          element.appendChild(docLink);\n",
              "        }\n",
              "      </script>\n",
              "    </div>\n",
              "  </div>\n",
              "  "
            ]
          },
          "metadata": {}
        }
      ]
    },
    {
      "cell_type": "code",
      "source": [
        "# Sort DataFrame berdasarkan values\n",
        "#df.sort_values(\"Cleansing_Tweet\", ascending=True, inplace = True)\n",
        "df=df.reset_index(drop=True)\n",
        "df.head()"
      ],
      "metadata": {
        "colab": {
          "base_uri": "https://localhost:8080/",
          "height": 337
        },
        "id": "bchy0pqOznnG",
        "outputId": "7f8ebf43-fc9c-41cb-9a13-7f521142b544"
      },
      "execution_count": null,
      "outputs": [
        {
          "output_type": "execute_result",
          "data": {
            "text/plain": [
              "                                               tweet  \\\n",
              "0  Juaranya memang, harus diusut tuntas @ListyoSi...   \n",
              "1  Akun media sosial PSSI tidak lagi mengunggah f...   \n",
              "2  Penasihat hukum Security Officer Arema FC Suko...   \n",
              "3  \"TaPi KaN iNi SaLaH GaS aIr MaTa\" \"iNi kAn SuD...   \n",
              "4  Stadion Kanjuruhan Direnovasi, Arema FC Dipers...   \n",
              "\n",
              "                                           translate  \\\n",
              "0  The champion is indeed, it must be thoroughly ...   \n",
              "1  PSSI social media accounts no longer upload bl...   \n",
              "2  Arema FC Security Officer Legal Counsel Suko S...   \n",
              "3  \"But this is wrong with tear gas\" \"This is alr...   \n",
              "4  Kanjuruhan Stadium was renovated, Arema FC was...   \n",
              "\n",
              "                                     Cleansing_Tweet  \\\n",
              "0  juaranya memang harus diusut tuntas listyosigi...   \n",
              "1  akun media sosial pssi tidak lagi mengunggah f...   \n",
              "2  penasihat hukum security officer arema fc suko...   \n",
              "3  tapi kan ini salah gas air mata ini kan sudah ...   \n",
              "4  stadion kanjuruhan direnovasi arema fc dipersi...   \n",
              "\n",
              "                                  Cleansing_Tweet_en Sentiment  \\\n",
              "0  the champion is indeed it must be thoroughly i...  Positive   \n",
              "1  pssi social media no longer upload black and w...  Positive   \n",
              "2  arema fc security officer legal counsel suko s...  Positive   \n",
              "3  but this is wrong with tear gas this is alread...  Positive   \n",
              "4  kanjuruhan stadium was renovated arema fc was ...  Positive   \n",
              "\n",
              "                                Cleansing_Tweet_Stem  \n",
              "0  juara memang harus usut tuntas listyosigitp mo...  \n",
              "1  akun media sosial pssi tidak lagi unggah foto ...  \n",
              "2  nasihat hukum security officer arema fc suko s...  \n",
              "3  tapi kan ini salah gas air mata ini kan sudah ...  \n",
              "4  stadion kanjuruhan renovasi arema fc sila boyo...  "
            ],
            "text/html": [
              "\n",
              "  <div id=\"df-f81dd405-af5d-40d6-8691-0aa830fa8319\">\n",
              "    <div class=\"colab-df-container\">\n",
              "      <div>\n",
              "<style scoped>\n",
              "    .dataframe tbody tr th:only-of-type {\n",
              "        vertical-align: middle;\n",
              "    }\n",
              "\n",
              "    .dataframe tbody tr th {\n",
              "        vertical-align: top;\n",
              "    }\n",
              "\n",
              "    .dataframe thead th {\n",
              "        text-align: right;\n",
              "    }\n",
              "</style>\n",
              "<table border=\"1\" class=\"dataframe\">\n",
              "  <thead>\n",
              "    <tr style=\"text-align: right;\">\n",
              "      <th></th>\n",
              "      <th>tweet</th>\n",
              "      <th>translate</th>\n",
              "      <th>Cleansing_Tweet</th>\n",
              "      <th>Cleansing_Tweet_en</th>\n",
              "      <th>Sentiment</th>\n",
              "      <th>Cleansing_Tweet_Stem</th>\n",
              "    </tr>\n",
              "  </thead>\n",
              "  <tbody>\n",
              "    <tr>\n",
              "      <th>0</th>\n",
              "      <td>Juaranya memang, harus diusut tuntas @ListyoSi...</td>\n",
              "      <td>The champion is indeed, it must be thoroughly ...</td>\n",
              "      <td>juaranya memang harus diusut tuntas listyosigi...</td>\n",
              "      <td>the champion is indeed it must be thoroughly i...</td>\n",
              "      <td>Positive</td>\n",
              "      <td>juara memang harus usut tuntas listyosigitp mo...</td>\n",
              "    </tr>\n",
              "    <tr>\n",
              "      <th>1</th>\n",
              "      <td>Akun media sosial PSSI tidak lagi mengunggah f...</td>\n",
              "      <td>PSSI social media accounts no longer upload bl...</td>\n",
              "      <td>akun media sosial pssi tidak lagi mengunggah f...</td>\n",
              "      <td>pssi social media no longer upload black and w...</td>\n",
              "      <td>Positive</td>\n",
              "      <td>akun media sosial pssi tidak lagi unggah foto ...</td>\n",
              "    </tr>\n",
              "    <tr>\n",
              "      <th>2</th>\n",
              "      <td>Penasihat hukum Security Officer Arema FC Suko...</td>\n",
              "      <td>Arema FC Security Officer Legal Counsel Suko S...</td>\n",
              "      <td>penasihat hukum security officer arema fc suko...</td>\n",
              "      <td>arema fc security officer legal counsel suko s...</td>\n",
              "      <td>Positive</td>\n",
              "      <td>nasihat hukum security officer arema fc suko s...</td>\n",
              "    </tr>\n",
              "    <tr>\n",
              "      <th>3</th>\n",
              "      <td>\"TaPi KaN iNi SaLaH GaS aIr MaTa\" \"iNi kAn SuD...</td>\n",
              "      <td>\"But this is wrong with tear gas\" \"This is alr...</td>\n",
              "      <td>tapi kan ini salah gas air mata ini kan sudah ...</td>\n",
              "      <td>but this is wrong with tear gas this is alread...</td>\n",
              "      <td>Positive</td>\n",
              "      <td>tapi kan ini salah gas air mata ini kan sudah ...</td>\n",
              "    </tr>\n",
              "    <tr>\n",
              "      <th>4</th>\n",
              "      <td>Stadion Kanjuruhan Direnovasi, Arema FC Dipers...</td>\n",
              "      <td>Kanjuruhan Stadium was renovated, Arema FC was...</td>\n",
              "      <td>stadion kanjuruhan direnovasi arema fc dipersi...</td>\n",
              "      <td>kanjuruhan stadium was renovated arema fc was ...</td>\n",
              "      <td>Positive</td>\n",
              "      <td>stadion kanjuruhan renovasi arema fc sila boyo...</td>\n",
              "    </tr>\n",
              "  </tbody>\n",
              "</table>\n",
              "</div>\n",
              "      <button class=\"colab-df-convert\" onclick=\"convertToInteractive('df-f81dd405-af5d-40d6-8691-0aa830fa8319')\"\n",
              "              title=\"Convert this dataframe to an interactive table.\"\n",
              "              style=\"display:none;\">\n",
              "        \n",
              "  <svg xmlns=\"http://www.w3.org/2000/svg\" height=\"24px\"viewBox=\"0 0 24 24\"\n",
              "       width=\"24px\">\n",
              "    <path d=\"M0 0h24v24H0V0z\" fill=\"none\"/>\n",
              "    <path d=\"M18.56 5.44l.94 2.06.94-2.06 2.06-.94-2.06-.94-.94-2.06-.94 2.06-2.06.94zm-11 1L8.5 8.5l.94-2.06 2.06-.94-2.06-.94L8.5 2.5l-.94 2.06-2.06.94zm10 10l.94 2.06.94-2.06 2.06-.94-2.06-.94-.94-2.06-.94 2.06-2.06.94z\"/><path d=\"M17.41 7.96l-1.37-1.37c-.4-.4-.92-.59-1.43-.59-.52 0-1.04.2-1.43.59L10.3 9.45l-7.72 7.72c-.78.78-.78 2.05 0 2.83L4 21.41c.39.39.9.59 1.41.59.51 0 1.02-.2 1.41-.59l7.78-7.78 2.81-2.81c.8-.78.8-2.07 0-2.86zM5.41 20L4 18.59l7.72-7.72 1.47 1.35L5.41 20z\"/>\n",
              "  </svg>\n",
              "      </button>\n",
              "      \n",
              "  <style>\n",
              "    .colab-df-container {\n",
              "      display:flex;\n",
              "      flex-wrap:wrap;\n",
              "      gap: 12px;\n",
              "    }\n",
              "\n",
              "    .colab-df-convert {\n",
              "      background-color: #E8F0FE;\n",
              "      border: none;\n",
              "      border-radius: 50%;\n",
              "      cursor: pointer;\n",
              "      display: none;\n",
              "      fill: #1967D2;\n",
              "      height: 32px;\n",
              "      padding: 0 0 0 0;\n",
              "      width: 32px;\n",
              "    }\n",
              "\n",
              "    .colab-df-convert:hover {\n",
              "      background-color: #E2EBFA;\n",
              "      box-shadow: 0px 1px 2px rgba(60, 64, 67, 0.3), 0px 1px 3px 1px rgba(60, 64, 67, 0.15);\n",
              "      fill: #174EA6;\n",
              "    }\n",
              "\n",
              "    [theme=dark] .colab-df-convert {\n",
              "      background-color: #3B4455;\n",
              "      fill: #D2E3FC;\n",
              "    }\n",
              "\n",
              "    [theme=dark] .colab-df-convert:hover {\n",
              "      background-color: #434B5C;\n",
              "      box-shadow: 0px 1px 3px 1px rgba(0, 0, 0, 0.15);\n",
              "      filter: drop-shadow(0px 1px 2px rgba(0, 0, 0, 0.3));\n",
              "      fill: #FFFFFF;\n",
              "    }\n",
              "  </style>\n",
              "\n",
              "      <script>\n",
              "        const buttonEl =\n",
              "          document.querySelector('#df-f81dd405-af5d-40d6-8691-0aa830fa8319 button.colab-df-convert');\n",
              "        buttonEl.style.display =\n",
              "          google.colab.kernel.accessAllowed ? 'block' : 'none';\n",
              "\n",
              "        async function convertToInteractive(key) {\n",
              "          const element = document.querySelector('#df-f81dd405-af5d-40d6-8691-0aa830fa8319');\n",
              "          const dataTable =\n",
              "            await google.colab.kernel.invokeFunction('convertToInteractive',\n",
              "                                                     [key], {});\n",
              "          if (!dataTable) return;\n",
              "\n",
              "          const docLinkHtml = 'Like what you see? Visit the ' +\n",
              "            '<a target=\"_blank\" href=https://colab.research.google.com/notebooks/data_table.ipynb>data table notebook</a>'\n",
              "            + ' to learn more about interactive tables.';\n",
              "          element.innerHTML = '';\n",
              "          dataTable['output_type'] = 'display_data';\n",
              "          await google.colab.output.renderOutput(dataTable, element);\n",
              "          const docLink = document.createElement('div');\n",
              "          docLink.innerHTML = docLinkHtml;\n",
              "          element.appendChild(docLink);\n",
              "        }\n",
              "      </script>\n",
              "    </div>\n",
              "  </div>\n",
              "  "
            ]
          },
          "metadata": {},
          "execution_count": 33
        }
      ]
    },
    {
      "cell_type": "code",
      "source": [
        "# Export dataset\n",
        "loc_data = ('polemik-gabung.csv')\n",
        "export_data = df.to_csv (loc_data, index=False, header=True, encoding='utf-8')\n",
        "export_data"
      ],
      "metadata": {
        "id": "2zR5QThvz5c6"
      },
      "execution_count": null,
      "outputs": []
    },
    {
      "cell_type": "code",
      "source": [
        "# Buat object baru untuk di analisa\n",
        "X = df.iloc[:, 2].values\n",
        "\n",
        "# Encode Data Label agar bisa diproses algoritma\n",
        "le = LabelEncoder()\n",
        "le.fit([\"Positive\", \"Negative\"])\n",
        "\n",
        "print(list(le.classes_))\n",
        "y = le.transform(df['Sentiment'])\n",
        "\n",
        "# Mengecek contoh hasil column baru\n",
        "#print(X.shape)\n",
        "#print(y.shape)\n",
        "print(X[10])\n",
        "print(y[0])\n",
        "print(X.dtype)\n",
        "print(y.dtype)"
      ],
      "metadata": {
        "colab": {
          "base_uri": "https://localhost:8080/"
        },
        "id": "zQXe3Giu0Umw",
        "outputId": "38d4167f-c832-4bcc-82ec-bddff5b881d5"
      },
      "execution_count": null,
      "outputs": [
        {
          "output_type": "stream",
          "name": "stdout",
          "text": [
            "['Negative', 'Positive']\n",
            "tolong sebutkan dosa dosa pssi ditangan iwan bule dibawah ini elclasico indonesiamemanggil byegubernurngibul kanjuruhan pssiwajibtanggungjawab \n",
            "1\n",
            "object\n",
            "int64\n"
          ]
        }
      ]
    },
    {
      "cell_type": "code",
      "source": [
        "# Melakukan proses TF-IDF\n",
        "t0_tfidf = time.time()\n",
        "tfidfconverter = TfidfVectorizer(max_features=100,min_df=5, max_df=0.7, ngram_range=(1,2), stop_words = word_tokenize('indonesian'),tokenizer=preprocessing_id)\n",
        "X_vect = tfidfconverter.fit_transform(X).toarray()\n",
        "t1_tfidf = time.time()\n",
        "time_tfidf = t1_tfidf-t0_tfidf\n",
        "\n",
        "print(\"TF-IDF time: %fs\" % (time_tfidf))\n",
        "X_vect.shape"
      ],
      "metadata": {
        "colab": {
          "base_uri": "https://localhost:8080/"
        },
        "id": "CHpBa8Gc0Y2o",
        "outputId": "1446eb07-65da-4f9d-f843-5d2c97c6e82f"
      },
      "execution_count": null,
      "outputs": [
        {
          "output_type": "stream",
          "name": "stderr",
          "text": [
            "/usr/local/lib/python3.8/dist-packages/sklearn/feature_extraction/text.py:396: UserWarning: Your stop_words may be inconsistent with your preprocessing. Tokenizing the stop words generated tokens ['a', 'd', 'e', 'i', 'n', 'o', 's'] not in stop_words.\n",
            "  warnings.warn(\n"
          ]
        },
        {
          "output_type": "stream",
          "name": "stdout",
          "text": [
            "TF-IDF time: 1397.568265s\n"
          ]
        },
        {
          "output_type": "execute_result",
          "data": {
            "text/plain": [
              "(895, 100)"
            ]
          },
          "metadata": {},
          "execution_count": 36
        }
      ]
    },
    {
      "cell_type": "code",
      "source": [
        "# Cek semua feature\n",
        "print(tfidfconverter.get_feature_names())\n",
        "# Melihat total feature dari yang terbesar\n",
        "words = pd.DataFrame.from_dict(tfidfconverter.vocabulary_,orient='index',columns=['Count'])\n",
        "words.sort_values('Count',ascending=False)[:10]"
      ],
      "metadata": {
        "colab": {
          "base_uri": "https://localhost:8080/",
          "height": 435
        },
        "id": "6fQghxR46n2G",
        "outputId": "7b81f1df-999e-416e-c4b8-8dc8fa003363"
      },
      "execution_count": null,
      "outputs": [
        {
          "output_type": "stream",
          "name": "stdout",
          "text": [
            "['  b', '  g', '  h', '  i', '  j', '  l', '  n', '  r', '  u', '  y', 'a b', 'a d', 'a g', 'a h', 'a i', 'a k', 'a m', 'a p', 'a t', 'a w', 'b a', 'b e', 'b u', 'c', 'd a', 'd e', 'd o', 'd u', 'e  ', 'e d', 'e l', 'e m', 'e n', 'e r', 'e s', 'f', 'g  ', 'g a', 'g e', 'g i', 'h  ', 'i a', 'i k', 'i m', 'i n', 'i r', 'i s', 'i t', 'j a', 'k  ', 'k e', 'k o', 'l  ', 'l a', 'l e', 'l i', 'm  ', 'm e', 'm u', 'n a', 'n d', 'n e', 'n i', 'n t', 'o  ', 'o k', 'o l', 'o n', 'o r', 'p a', 'p e', 'p o', 'p s', 'r  ', 'r e', 'r i', 's  ', 's a', 's e', 's s', 's t', 's u', 't  ', 't e', 't i', 't o', 't r', 't u', 'u  ', 'u a', 'u k', 'u m', 'u n', 'u s', 'u t', 'v', 'w', 'w a', 'y', 'y a']\n"
          ]
        },
        {
          "output_type": "stream",
          "name": "stderr",
          "text": [
            "/usr/local/lib/python3.8/dist-packages/sklearn/utils/deprecation.py:87: FutureWarning: Function get_feature_names is deprecated; get_feature_names is deprecated in 1.0 and will be removed in 1.2. Please use get_feature_names_out instead.\n",
            "  warnings.warn(msg, category=FutureWarning)\n"
          ]
        },
        {
          "output_type": "execute_result",
          "data": {
            "text/plain": [
              "     Count\n",
              "y a     99\n",
              "y       98\n",
              "w a     97\n",
              "w       96\n",
              "v       95\n",
              "u t     94\n",
              "u s     93\n",
              "u n     92\n",
              "u m     91\n",
              "u k     90"
            ],
            "text/html": [
              "\n",
              "  <div id=\"df-1e899a15-4633-407f-b5ea-8822008b24d7\">\n",
              "    <div class=\"colab-df-container\">\n",
              "      <div>\n",
              "<style scoped>\n",
              "    .dataframe tbody tr th:only-of-type {\n",
              "        vertical-align: middle;\n",
              "    }\n",
              "\n",
              "    .dataframe tbody tr th {\n",
              "        vertical-align: top;\n",
              "    }\n",
              "\n",
              "    .dataframe thead th {\n",
              "        text-align: right;\n",
              "    }\n",
              "</style>\n",
              "<table border=\"1\" class=\"dataframe\">\n",
              "  <thead>\n",
              "    <tr style=\"text-align: right;\">\n",
              "      <th></th>\n",
              "      <th>Count</th>\n",
              "    </tr>\n",
              "  </thead>\n",
              "  <tbody>\n",
              "    <tr>\n",
              "      <th>y a</th>\n",
              "      <td>99</td>\n",
              "    </tr>\n",
              "    <tr>\n",
              "      <th>y</th>\n",
              "      <td>98</td>\n",
              "    </tr>\n",
              "    <tr>\n",
              "      <th>w a</th>\n",
              "      <td>97</td>\n",
              "    </tr>\n",
              "    <tr>\n",
              "      <th>w</th>\n",
              "      <td>96</td>\n",
              "    </tr>\n",
              "    <tr>\n",
              "      <th>v</th>\n",
              "      <td>95</td>\n",
              "    </tr>\n",
              "    <tr>\n",
              "      <th>u t</th>\n",
              "      <td>94</td>\n",
              "    </tr>\n",
              "    <tr>\n",
              "      <th>u s</th>\n",
              "      <td>93</td>\n",
              "    </tr>\n",
              "    <tr>\n",
              "      <th>u n</th>\n",
              "      <td>92</td>\n",
              "    </tr>\n",
              "    <tr>\n",
              "      <th>u m</th>\n",
              "      <td>91</td>\n",
              "    </tr>\n",
              "    <tr>\n",
              "      <th>u k</th>\n",
              "      <td>90</td>\n",
              "    </tr>\n",
              "  </tbody>\n",
              "</table>\n",
              "</div>\n",
              "      <button class=\"colab-df-convert\" onclick=\"convertToInteractive('df-1e899a15-4633-407f-b5ea-8822008b24d7')\"\n",
              "              title=\"Convert this dataframe to an interactive table.\"\n",
              "              style=\"display:none;\">\n",
              "        \n",
              "  <svg xmlns=\"http://www.w3.org/2000/svg\" height=\"24px\"viewBox=\"0 0 24 24\"\n",
              "       width=\"24px\">\n",
              "    <path d=\"M0 0h24v24H0V0z\" fill=\"none\"/>\n",
              "    <path d=\"M18.56 5.44l.94 2.06.94-2.06 2.06-.94-2.06-.94-.94-2.06-.94 2.06-2.06.94zm-11 1L8.5 8.5l.94-2.06 2.06-.94-2.06-.94L8.5 2.5l-.94 2.06-2.06.94zm10 10l.94 2.06.94-2.06 2.06-.94-2.06-.94-.94-2.06-.94 2.06-2.06.94z\"/><path d=\"M17.41 7.96l-1.37-1.37c-.4-.4-.92-.59-1.43-.59-.52 0-1.04.2-1.43.59L10.3 9.45l-7.72 7.72c-.78.78-.78 2.05 0 2.83L4 21.41c.39.39.9.59 1.41.59.51 0 1.02-.2 1.41-.59l7.78-7.78 2.81-2.81c.8-.78.8-2.07 0-2.86zM5.41 20L4 18.59l7.72-7.72 1.47 1.35L5.41 20z\"/>\n",
              "  </svg>\n",
              "      </button>\n",
              "      \n",
              "  <style>\n",
              "    .colab-df-container {\n",
              "      display:flex;\n",
              "      flex-wrap:wrap;\n",
              "      gap: 12px;\n",
              "    }\n",
              "\n",
              "    .colab-df-convert {\n",
              "      background-color: #E8F0FE;\n",
              "      border: none;\n",
              "      border-radius: 50%;\n",
              "      cursor: pointer;\n",
              "      display: none;\n",
              "      fill: #1967D2;\n",
              "      height: 32px;\n",
              "      padding: 0 0 0 0;\n",
              "      width: 32px;\n",
              "    }\n",
              "\n",
              "    .colab-df-convert:hover {\n",
              "      background-color: #E2EBFA;\n",
              "      box-shadow: 0px 1px 2px rgba(60, 64, 67, 0.3), 0px 1px 3px 1px rgba(60, 64, 67, 0.15);\n",
              "      fill: #174EA6;\n",
              "    }\n",
              "\n",
              "    [theme=dark] .colab-df-convert {\n",
              "      background-color: #3B4455;\n",
              "      fill: #D2E3FC;\n",
              "    }\n",
              "\n",
              "    [theme=dark] .colab-df-convert:hover {\n",
              "      background-color: #434B5C;\n",
              "      box-shadow: 0px 1px 3px 1px rgba(0, 0, 0, 0.15);\n",
              "      filter: drop-shadow(0px 1px 2px rgba(0, 0, 0, 0.3));\n",
              "      fill: #FFFFFF;\n",
              "    }\n",
              "  </style>\n",
              "\n",
              "      <script>\n",
              "        const buttonEl =\n",
              "          document.querySelector('#df-1e899a15-4633-407f-b5ea-8822008b24d7 button.colab-df-convert');\n",
              "        buttonEl.style.display =\n",
              "          google.colab.kernel.accessAllowed ? 'block' : 'none';\n",
              "\n",
              "        async function convertToInteractive(key) {\n",
              "          const element = document.querySelector('#df-1e899a15-4633-407f-b5ea-8822008b24d7');\n",
              "          const dataTable =\n",
              "            await google.colab.kernel.invokeFunction('convertToInteractive',\n",
              "                                                     [key], {});\n",
              "          if (!dataTable) return;\n",
              "\n",
              "          const docLinkHtml = 'Like what you see? Visit the ' +\n",
              "            '<a target=\"_blank\" href=https://colab.research.google.com/notebooks/data_table.ipynb>data table notebook</a>'\n",
              "            + ' to learn more about interactive tables.';\n",
              "          element.innerHTML = '';\n",
              "          dataTable['output_type'] = 'display_data';\n",
              "          await google.colab.output.renderOutput(dataTable, element);\n",
              "          const docLink = document.createElement('div');\n",
              "          docLink.innerHTML = docLinkHtml;\n",
              "          element.appendChild(docLink);\n",
              "        }\n",
              "      </script>\n",
              "    </div>\n",
              "  </div>\n",
              "  "
            ]
          },
          "metadata": {},
          "execution_count": 37
        }
      ]
    },
    {
      "cell_type": "code",
      "source": [
        "# Mengecek bobot kata dari TF-IDF\n",
        "df_tfidf = pd.DataFrame(X_vect,columns=tfidfconverter.get_feature_names())\n",
        "df_tfidf['Sentiment']= y\n",
        "df_tfidf"
      ],
      "metadata": {
        "colab": {
          "base_uri": "https://localhost:8080/",
          "height": 522
        },
        "id": "LKcdWvLe7h8K",
        "outputId": "0518b477-6796-4695-da8a-9efbd533b0fc"
      },
      "execution_count": null,
      "outputs": [
        {
          "output_type": "stream",
          "name": "stderr",
          "text": [
            "/usr/local/lib/python3.8/dist-packages/sklearn/utils/deprecation.py:87: FutureWarning: Function get_feature_names is deprecated; get_feature_names is deprecated in 1.0 and will be removed in 1.2. Please use get_feature_names_out instead.\n",
            "  warnings.warn(msg, category=FutureWarning)\n"
          ]
        },
        {
          "output_type": "execute_result",
          "data": {
            "text/plain": [
              "            b         g         h         i         j         l         n  \\\n",
              "0    0.000000  0.000000  0.152136  0.000000  0.000000  0.136064  0.000000   \n",
              "1    0.058837  0.000000  0.153638  0.198382  0.068888  0.068704  0.091316   \n",
              "2    0.133272  0.093871  0.087002  0.074893  0.000000  0.077811  0.000000   \n",
              "3    0.055551  0.234766  0.000000  0.124869  0.000000  0.129734  0.086216   \n",
              "4    0.084268  0.118709  0.000000  0.000000  0.000000  0.049200  0.000000   \n",
              "..        ...       ...       ...       ...       ...       ...       ...   \n",
              "890  0.000000  0.000000  0.103650  0.000000  0.000000  0.092701  0.000000   \n",
              "891  0.044954  0.000000  0.117388  0.151574  0.105268  0.052493  0.000000   \n",
              "892  0.000000  0.000000  0.000000  0.000000  0.000000  0.000000  0.000000   \n",
              "893  0.081295  0.114521  0.000000  0.091368  0.095182  0.094928  0.000000   \n",
              "894  0.039003  0.000000  0.000000  0.000000  0.182663  0.091088  0.000000   \n",
              "\n",
              "            r         u         y  ...       u m       u n       u s  \\\n",
              "0    0.000000  0.169239  0.000000  ...  0.000000  0.253304  0.330912   \n",
              "1    0.000000  0.085455  0.000000  ...  0.000000  0.255805  0.000000   \n",
              "2    0.000000  0.096783  0.000000  ...  0.108666  0.144857  0.094619   \n",
              "3    0.000000  0.080682  0.077038  ...  0.000000  0.060380  0.000000   \n",
              "4    0.064256  0.000000  0.116863  ...  0.000000  0.045796  0.059828   \n",
              "..        ...       ...       ...  ...       ...       ...       ...   \n",
              "890  0.000000  0.115302  0.110094  ...  0.000000  0.086288  0.112725   \n",
              "891  0.000000  0.000000  0.000000  ...  0.073308  0.048862  0.000000   \n",
              "892  0.165563  0.000000  0.000000  ...  0.000000  0.000000  0.000000   \n",
              "893  0.000000  0.118073  0.000000  ...  0.000000  0.088362  0.000000   \n",
              "894  0.000000  0.056648  0.054090  ...  0.000000  0.000000  0.000000   \n",
              "\n",
              "          u t         v         w       w a         y       y a  Sentiment  \n",
              "0    0.170635  0.000000  0.000000  0.000000  0.116381  0.000000          1  \n",
              "1    0.172319  0.091641  0.253219  0.293902  0.117530  0.068521          1  \n",
              "2    0.195162  0.000000  0.071697  0.083215  0.066555  0.000000          1  \n",
              "3    0.000000  0.000000  0.000000  0.000000  0.055483  0.000000          1  \n",
              "4    0.000000  0.065626  0.045334  0.000000  0.210413  0.147206          1  \n",
              "..        ...       ...       ...       ...       ...       ...        ...  \n",
              "890  0.232507  0.247299  0.000000  0.000000  0.158581  0.092453          0  \n",
              "891  0.000000  0.280075  0.096737  0.000000  0.359197  0.000000          0  \n",
              "892  0.000000  0.000000  0.000000  0.000000  0.216860  0.252860          0  \n",
              "893  0.119047  0.000000  0.087469  0.000000  0.000000  0.000000          0  \n",
              "894  0.000000  0.060749  0.083930  0.097414  0.038956  0.045422          0  \n",
              "\n",
              "[895 rows x 101 columns]"
            ],
            "text/html": [
              "\n",
              "  <div id=\"df-1ab8c738-bbfd-4591-a3fc-9dc3af4aa715\">\n",
              "    <div class=\"colab-df-container\">\n",
              "      <div>\n",
              "<style scoped>\n",
              "    .dataframe tbody tr th:only-of-type {\n",
              "        vertical-align: middle;\n",
              "    }\n",
              "\n",
              "    .dataframe tbody tr th {\n",
              "        vertical-align: top;\n",
              "    }\n",
              "\n",
              "    .dataframe thead th {\n",
              "        text-align: right;\n",
              "    }\n",
              "</style>\n",
              "<table border=\"1\" class=\"dataframe\">\n",
              "  <thead>\n",
              "    <tr style=\"text-align: right;\">\n",
              "      <th></th>\n",
              "      <th>b</th>\n",
              "      <th>g</th>\n",
              "      <th>h</th>\n",
              "      <th>i</th>\n",
              "      <th>j</th>\n",
              "      <th>l</th>\n",
              "      <th>n</th>\n",
              "      <th>r</th>\n",
              "      <th>u</th>\n",
              "      <th>y</th>\n",
              "      <th>...</th>\n",
              "      <th>u m</th>\n",
              "      <th>u n</th>\n",
              "      <th>u s</th>\n",
              "      <th>u t</th>\n",
              "      <th>v</th>\n",
              "      <th>w</th>\n",
              "      <th>w a</th>\n",
              "      <th>y</th>\n",
              "      <th>y a</th>\n",
              "      <th>Sentiment</th>\n",
              "    </tr>\n",
              "  </thead>\n",
              "  <tbody>\n",
              "    <tr>\n",
              "      <th>0</th>\n",
              "      <td>0.000000</td>\n",
              "      <td>0.000000</td>\n",
              "      <td>0.152136</td>\n",
              "      <td>0.000000</td>\n",
              "      <td>0.000000</td>\n",
              "      <td>0.136064</td>\n",
              "      <td>0.000000</td>\n",
              "      <td>0.000000</td>\n",
              "      <td>0.169239</td>\n",
              "      <td>0.000000</td>\n",
              "      <td>...</td>\n",
              "      <td>0.000000</td>\n",
              "      <td>0.253304</td>\n",
              "      <td>0.330912</td>\n",
              "      <td>0.170635</td>\n",
              "      <td>0.000000</td>\n",
              "      <td>0.000000</td>\n",
              "      <td>0.000000</td>\n",
              "      <td>0.116381</td>\n",
              "      <td>0.000000</td>\n",
              "      <td>1</td>\n",
              "    </tr>\n",
              "    <tr>\n",
              "      <th>1</th>\n",
              "      <td>0.058837</td>\n",
              "      <td>0.000000</td>\n",
              "      <td>0.153638</td>\n",
              "      <td>0.198382</td>\n",
              "      <td>0.068888</td>\n",
              "      <td>0.068704</td>\n",
              "      <td>0.091316</td>\n",
              "      <td>0.000000</td>\n",
              "      <td>0.085455</td>\n",
              "      <td>0.000000</td>\n",
              "      <td>...</td>\n",
              "      <td>0.000000</td>\n",
              "      <td>0.255805</td>\n",
              "      <td>0.000000</td>\n",
              "      <td>0.172319</td>\n",
              "      <td>0.091641</td>\n",
              "      <td>0.253219</td>\n",
              "      <td>0.293902</td>\n",
              "      <td>0.117530</td>\n",
              "      <td>0.068521</td>\n",
              "      <td>1</td>\n",
              "    </tr>\n",
              "    <tr>\n",
              "      <th>2</th>\n",
              "      <td>0.133272</td>\n",
              "      <td>0.093871</td>\n",
              "      <td>0.087002</td>\n",
              "      <td>0.074893</td>\n",
              "      <td>0.000000</td>\n",
              "      <td>0.077811</td>\n",
              "      <td>0.000000</td>\n",
              "      <td>0.000000</td>\n",
              "      <td>0.096783</td>\n",
              "      <td>0.000000</td>\n",
              "      <td>...</td>\n",
              "      <td>0.108666</td>\n",
              "      <td>0.144857</td>\n",
              "      <td>0.094619</td>\n",
              "      <td>0.195162</td>\n",
              "      <td>0.000000</td>\n",
              "      <td>0.071697</td>\n",
              "      <td>0.083215</td>\n",
              "      <td>0.066555</td>\n",
              "      <td>0.000000</td>\n",
              "      <td>1</td>\n",
              "    </tr>\n",
              "    <tr>\n",
              "      <th>3</th>\n",
              "      <td>0.055551</td>\n",
              "      <td>0.234766</td>\n",
              "      <td>0.000000</td>\n",
              "      <td>0.124869</td>\n",
              "      <td>0.000000</td>\n",
              "      <td>0.129734</td>\n",
              "      <td>0.086216</td>\n",
              "      <td>0.000000</td>\n",
              "      <td>0.080682</td>\n",
              "      <td>0.077038</td>\n",
              "      <td>...</td>\n",
              "      <td>0.000000</td>\n",
              "      <td>0.060380</td>\n",
              "      <td>0.000000</td>\n",
              "      <td>0.000000</td>\n",
              "      <td>0.000000</td>\n",
              "      <td>0.000000</td>\n",
              "      <td>0.000000</td>\n",
              "      <td>0.055483</td>\n",
              "      <td>0.000000</td>\n",
              "      <td>1</td>\n",
              "    </tr>\n",
              "    <tr>\n",
              "      <th>4</th>\n",
              "      <td>0.084268</td>\n",
              "      <td>0.118709</td>\n",
              "      <td>0.000000</td>\n",
              "      <td>0.000000</td>\n",
              "      <td>0.000000</td>\n",
              "      <td>0.049200</td>\n",
              "      <td>0.000000</td>\n",
              "      <td>0.064256</td>\n",
              "      <td>0.000000</td>\n",
              "      <td>0.116863</td>\n",
              "      <td>...</td>\n",
              "      <td>0.000000</td>\n",
              "      <td>0.045796</td>\n",
              "      <td>0.059828</td>\n",
              "      <td>0.000000</td>\n",
              "      <td>0.065626</td>\n",
              "      <td>0.045334</td>\n",
              "      <td>0.000000</td>\n",
              "      <td>0.210413</td>\n",
              "      <td>0.147206</td>\n",
              "      <td>1</td>\n",
              "    </tr>\n",
              "    <tr>\n",
              "      <th>...</th>\n",
              "      <td>...</td>\n",
              "      <td>...</td>\n",
              "      <td>...</td>\n",
              "      <td>...</td>\n",
              "      <td>...</td>\n",
              "      <td>...</td>\n",
              "      <td>...</td>\n",
              "      <td>...</td>\n",
              "      <td>...</td>\n",
              "      <td>...</td>\n",
              "      <td>...</td>\n",
              "      <td>...</td>\n",
              "      <td>...</td>\n",
              "      <td>...</td>\n",
              "      <td>...</td>\n",
              "      <td>...</td>\n",
              "      <td>...</td>\n",
              "      <td>...</td>\n",
              "      <td>...</td>\n",
              "      <td>...</td>\n",
              "      <td>...</td>\n",
              "    </tr>\n",
              "    <tr>\n",
              "      <th>890</th>\n",
              "      <td>0.000000</td>\n",
              "      <td>0.000000</td>\n",
              "      <td>0.103650</td>\n",
              "      <td>0.000000</td>\n",
              "      <td>0.000000</td>\n",
              "      <td>0.092701</td>\n",
              "      <td>0.000000</td>\n",
              "      <td>0.000000</td>\n",
              "      <td>0.115302</td>\n",
              "      <td>0.110094</td>\n",
              "      <td>...</td>\n",
              "      <td>0.000000</td>\n",
              "      <td>0.086288</td>\n",
              "      <td>0.112725</td>\n",
              "      <td>0.232507</td>\n",
              "      <td>0.247299</td>\n",
              "      <td>0.000000</td>\n",
              "      <td>0.000000</td>\n",
              "      <td>0.158581</td>\n",
              "      <td>0.092453</td>\n",
              "      <td>0</td>\n",
              "    </tr>\n",
              "    <tr>\n",
              "      <th>891</th>\n",
              "      <td>0.044954</td>\n",
              "      <td>0.000000</td>\n",
              "      <td>0.117388</td>\n",
              "      <td>0.151574</td>\n",
              "      <td>0.105268</td>\n",
              "      <td>0.052493</td>\n",
              "      <td>0.000000</td>\n",
              "      <td>0.000000</td>\n",
              "      <td>0.000000</td>\n",
              "      <td>0.000000</td>\n",
              "      <td>...</td>\n",
              "      <td>0.073308</td>\n",
              "      <td>0.048862</td>\n",
              "      <td>0.000000</td>\n",
              "      <td>0.000000</td>\n",
              "      <td>0.280075</td>\n",
              "      <td>0.096737</td>\n",
              "      <td>0.000000</td>\n",
              "      <td>0.359197</td>\n",
              "      <td>0.000000</td>\n",
              "      <td>0</td>\n",
              "    </tr>\n",
              "    <tr>\n",
              "      <th>892</th>\n",
              "      <td>0.000000</td>\n",
              "      <td>0.000000</td>\n",
              "      <td>0.000000</td>\n",
              "      <td>0.000000</td>\n",
              "      <td>0.000000</td>\n",
              "      <td>0.000000</td>\n",
              "      <td>0.000000</td>\n",
              "      <td>0.165563</td>\n",
              "      <td>0.000000</td>\n",
              "      <td>0.000000</td>\n",
              "      <td>...</td>\n",
              "      <td>0.000000</td>\n",
              "      <td>0.000000</td>\n",
              "      <td>0.000000</td>\n",
              "      <td>0.000000</td>\n",
              "      <td>0.000000</td>\n",
              "      <td>0.000000</td>\n",
              "      <td>0.000000</td>\n",
              "      <td>0.216860</td>\n",
              "      <td>0.252860</td>\n",
              "      <td>0</td>\n",
              "    </tr>\n",
              "    <tr>\n",
              "      <th>893</th>\n",
              "      <td>0.081295</td>\n",
              "      <td>0.114521</td>\n",
              "      <td>0.000000</td>\n",
              "      <td>0.091368</td>\n",
              "      <td>0.095182</td>\n",
              "      <td>0.094928</td>\n",
              "      <td>0.000000</td>\n",
              "      <td>0.000000</td>\n",
              "      <td>0.118073</td>\n",
              "      <td>0.000000</td>\n",
              "      <td>...</td>\n",
              "      <td>0.000000</td>\n",
              "      <td>0.088362</td>\n",
              "      <td>0.000000</td>\n",
              "      <td>0.119047</td>\n",
              "      <td>0.000000</td>\n",
              "      <td>0.087469</td>\n",
              "      <td>0.000000</td>\n",
              "      <td>0.000000</td>\n",
              "      <td>0.000000</td>\n",
              "      <td>0</td>\n",
              "    </tr>\n",
              "    <tr>\n",
              "      <th>894</th>\n",
              "      <td>0.039003</td>\n",
              "      <td>0.000000</td>\n",
              "      <td>0.000000</td>\n",
              "      <td>0.000000</td>\n",
              "      <td>0.182663</td>\n",
              "      <td>0.091088</td>\n",
              "      <td>0.000000</td>\n",
              "      <td>0.000000</td>\n",
              "      <td>0.056648</td>\n",
              "      <td>0.054090</td>\n",
              "      <td>...</td>\n",
              "      <td>0.000000</td>\n",
              "      <td>0.000000</td>\n",
              "      <td>0.000000</td>\n",
              "      <td>0.000000</td>\n",
              "      <td>0.060749</td>\n",
              "      <td>0.083930</td>\n",
              "      <td>0.097414</td>\n",
              "      <td>0.038956</td>\n",
              "      <td>0.045422</td>\n",
              "      <td>0</td>\n",
              "    </tr>\n",
              "  </tbody>\n",
              "</table>\n",
              "<p>895 rows × 101 columns</p>\n",
              "</div>\n",
              "      <button class=\"colab-df-convert\" onclick=\"convertToInteractive('df-1ab8c738-bbfd-4591-a3fc-9dc3af4aa715')\"\n",
              "              title=\"Convert this dataframe to an interactive table.\"\n",
              "              style=\"display:none;\">\n",
              "        \n",
              "  <svg xmlns=\"http://www.w3.org/2000/svg\" height=\"24px\"viewBox=\"0 0 24 24\"\n",
              "       width=\"24px\">\n",
              "    <path d=\"M0 0h24v24H0V0z\" fill=\"none\"/>\n",
              "    <path d=\"M18.56 5.44l.94 2.06.94-2.06 2.06-.94-2.06-.94-.94-2.06-.94 2.06-2.06.94zm-11 1L8.5 8.5l.94-2.06 2.06-.94-2.06-.94L8.5 2.5l-.94 2.06-2.06.94zm10 10l.94 2.06.94-2.06 2.06-.94-2.06-.94-.94-2.06-.94 2.06-2.06.94z\"/><path d=\"M17.41 7.96l-1.37-1.37c-.4-.4-.92-.59-1.43-.59-.52 0-1.04.2-1.43.59L10.3 9.45l-7.72 7.72c-.78.78-.78 2.05 0 2.83L4 21.41c.39.39.9.59 1.41.59.51 0 1.02-.2 1.41-.59l7.78-7.78 2.81-2.81c.8-.78.8-2.07 0-2.86zM5.41 20L4 18.59l7.72-7.72 1.47 1.35L5.41 20z\"/>\n",
              "  </svg>\n",
              "      </button>\n",
              "      \n",
              "  <style>\n",
              "    .colab-df-container {\n",
              "      display:flex;\n",
              "      flex-wrap:wrap;\n",
              "      gap: 12px;\n",
              "    }\n",
              "\n",
              "    .colab-df-convert {\n",
              "      background-color: #E8F0FE;\n",
              "      border: none;\n",
              "      border-radius: 50%;\n",
              "      cursor: pointer;\n",
              "      display: none;\n",
              "      fill: #1967D2;\n",
              "      height: 32px;\n",
              "      padding: 0 0 0 0;\n",
              "      width: 32px;\n",
              "    }\n",
              "\n",
              "    .colab-df-convert:hover {\n",
              "      background-color: #E2EBFA;\n",
              "      box-shadow: 0px 1px 2px rgba(60, 64, 67, 0.3), 0px 1px 3px 1px rgba(60, 64, 67, 0.15);\n",
              "      fill: #174EA6;\n",
              "    }\n",
              "\n",
              "    [theme=dark] .colab-df-convert {\n",
              "      background-color: #3B4455;\n",
              "      fill: #D2E3FC;\n",
              "    }\n",
              "\n",
              "    [theme=dark] .colab-df-convert:hover {\n",
              "      background-color: #434B5C;\n",
              "      box-shadow: 0px 1px 3px 1px rgba(0, 0, 0, 0.15);\n",
              "      filter: drop-shadow(0px 1px 2px rgba(0, 0, 0, 0.3));\n",
              "      fill: #FFFFFF;\n",
              "    }\n",
              "  </style>\n",
              "\n",
              "      <script>\n",
              "        const buttonEl =\n",
              "          document.querySelector('#df-1ab8c738-bbfd-4591-a3fc-9dc3af4aa715 button.colab-df-convert');\n",
              "        buttonEl.style.display =\n",
              "          google.colab.kernel.accessAllowed ? 'block' : 'none';\n",
              "\n",
              "        async function convertToInteractive(key) {\n",
              "          const element = document.querySelector('#df-1ab8c738-bbfd-4591-a3fc-9dc3af4aa715');\n",
              "          const dataTable =\n",
              "            await google.colab.kernel.invokeFunction('convertToInteractive',\n",
              "                                                     [key], {});\n",
              "          if (!dataTable) return;\n",
              "\n",
              "          const docLinkHtml = 'Like what you see? Visit the ' +\n",
              "            '<a target=\"_blank\" href=https://colab.research.google.com/notebooks/data_table.ipynb>data table notebook</a>'\n",
              "            + ' to learn more about interactive tables.';\n",
              "          element.innerHTML = '';\n",
              "          dataTable['output_type'] = 'display_data';\n",
              "          await google.colab.output.renderOutput(dataTable, element);\n",
              "          const docLink = document.createElement('div');\n",
              "          docLink.innerHTML = docLinkHtml;\n",
              "          element.appendChild(docLink);\n",
              "        }\n",
              "      </script>\n",
              "    </div>\n",
              "  </div>\n",
              "  "
            ]
          },
          "metadata": {},
          "execution_count": 38
        }
      ]
    },
    {
      "cell_type": "code",
      "source": [
        "words = df_tfidf.drop(['Sentiment'], axis=1).sum(axis=0).sort_values(ascending=False)\n",
        "words = pd.DataFrame({'Count': words}).reset_index()\n",
        "words.head()"
      ],
      "metadata": {
        "colab": {
          "base_uri": "https://localhost:8080/",
          "height": 206
        },
        "id": "tLzPrtGFBm2w",
        "outputId": "99065411-190d-4a1f-a7ce-e3704368be9c"
      },
      "execution_count": null,
      "outputs": [
        {
          "output_type": "execute_result",
          "data": {
            "text/plain": [
              "  index      Count\n",
              "0   l a  89.474525\n",
              "1   i n  85.006425\n",
              "2   a t  82.325690\n",
              "3   d a  79.353172\n",
              "4     y  78.200452"
            ],
            "text/html": [
              "\n",
              "  <div id=\"df-7565a1c3-83f9-415f-ab91-3de736080fde\">\n",
              "    <div class=\"colab-df-container\">\n",
              "      <div>\n",
              "<style scoped>\n",
              "    .dataframe tbody tr th:only-of-type {\n",
              "        vertical-align: middle;\n",
              "    }\n",
              "\n",
              "    .dataframe tbody tr th {\n",
              "        vertical-align: top;\n",
              "    }\n",
              "\n",
              "    .dataframe thead th {\n",
              "        text-align: right;\n",
              "    }\n",
              "</style>\n",
              "<table border=\"1\" class=\"dataframe\">\n",
              "  <thead>\n",
              "    <tr style=\"text-align: right;\">\n",
              "      <th></th>\n",
              "      <th>index</th>\n",
              "      <th>Count</th>\n",
              "    </tr>\n",
              "  </thead>\n",
              "  <tbody>\n",
              "    <tr>\n",
              "      <th>0</th>\n",
              "      <td>l a</td>\n",
              "      <td>89.474525</td>\n",
              "    </tr>\n",
              "    <tr>\n",
              "      <th>1</th>\n",
              "      <td>i n</td>\n",
              "      <td>85.006425</td>\n",
              "    </tr>\n",
              "    <tr>\n",
              "      <th>2</th>\n",
              "      <td>a t</td>\n",
              "      <td>82.325690</td>\n",
              "    </tr>\n",
              "    <tr>\n",
              "      <th>3</th>\n",
              "      <td>d a</td>\n",
              "      <td>79.353172</td>\n",
              "    </tr>\n",
              "    <tr>\n",
              "      <th>4</th>\n",
              "      <td>y</td>\n",
              "      <td>78.200452</td>\n",
              "    </tr>\n",
              "  </tbody>\n",
              "</table>\n",
              "</div>\n",
              "      <button class=\"colab-df-convert\" onclick=\"convertToInteractive('df-7565a1c3-83f9-415f-ab91-3de736080fde')\"\n",
              "              title=\"Convert this dataframe to an interactive table.\"\n",
              "              style=\"display:none;\">\n",
              "        \n",
              "  <svg xmlns=\"http://www.w3.org/2000/svg\" height=\"24px\"viewBox=\"0 0 24 24\"\n",
              "       width=\"24px\">\n",
              "    <path d=\"M0 0h24v24H0V0z\" fill=\"none\"/>\n",
              "    <path d=\"M18.56 5.44l.94 2.06.94-2.06 2.06-.94-2.06-.94-.94-2.06-.94 2.06-2.06.94zm-11 1L8.5 8.5l.94-2.06 2.06-.94-2.06-.94L8.5 2.5l-.94 2.06-2.06.94zm10 10l.94 2.06.94-2.06 2.06-.94-2.06-.94-.94-2.06-.94 2.06-2.06.94z\"/><path d=\"M17.41 7.96l-1.37-1.37c-.4-.4-.92-.59-1.43-.59-.52 0-1.04.2-1.43.59L10.3 9.45l-7.72 7.72c-.78.78-.78 2.05 0 2.83L4 21.41c.39.39.9.59 1.41.59.51 0 1.02-.2 1.41-.59l7.78-7.78 2.81-2.81c.8-.78.8-2.07 0-2.86zM5.41 20L4 18.59l7.72-7.72 1.47 1.35L5.41 20z\"/>\n",
              "  </svg>\n",
              "      </button>\n",
              "      \n",
              "  <style>\n",
              "    .colab-df-container {\n",
              "      display:flex;\n",
              "      flex-wrap:wrap;\n",
              "      gap: 12px;\n",
              "    }\n",
              "\n",
              "    .colab-df-convert {\n",
              "      background-color: #E8F0FE;\n",
              "      border: none;\n",
              "      border-radius: 50%;\n",
              "      cursor: pointer;\n",
              "      display: none;\n",
              "      fill: #1967D2;\n",
              "      height: 32px;\n",
              "      padding: 0 0 0 0;\n",
              "      width: 32px;\n",
              "    }\n",
              "\n",
              "    .colab-df-convert:hover {\n",
              "      background-color: #E2EBFA;\n",
              "      box-shadow: 0px 1px 2px rgba(60, 64, 67, 0.3), 0px 1px 3px 1px rgba(60, 64, 67, 0.15);\n",
              "      fill: #174EA6;\n",
              "    }\n",
              "\n",
              "    [theme=dark] .colab-df-convert {\n",
              "      background-color: #3B4455;\n",
              "      fill: #D2E3FC;\n",
              "    }\n",
              "\n",
              "    [theme=dark] .colab-df-convert:hover {\n",
              "      background-color: #434B5C;\n",
              "      box-shadow: 0px 1px 3px 1px rgba(0, 0, 0, 0.15);\n",
              "      filter: drop-shadow(0px 1px 2px rgba(0, 0, 0, 0.3));\n",
              "      fill: #FFFFFF;\n",
              "    }\n",
              "  </style>\n",
              "\n",
              "      <script>\n",
              "        const buttonEl =\n",
              "          document.querySelector('#df-7565a1c3-83f9-415f-ab91-3de736080fde button.colab-df-convert');\n",
              "        buttonEl.style.display =\n",
              "          google.colab.kernel.accessAllowed ? 'block' : 'none';\n",
              "\n",
              "        async function convertToInteractive(key) {\n",
              "          const element = document.querySelector('#df-7565a1c3-83f9-415f-ab91-3de736080fde');\n",
              "          const dataTable =\n",
              "            await google.colab.kernel.invokeFunction('convertToInteractive',\n",
              "                                                     [key], {});\n",
              "          if (!dataTable) return;\n",
              "\n",
              "          const docLinkHtml = 'Like what you see? Visit the ' +\n",
              "            '<a target=\"_blank\" href=https://colab.research.google.com/notebooks/data_table.ipynb>data table notebook</a>'\n",
              "            + ' to learn more about interactive tables.';\n",
              "          element.innerHTML = '';\n",
              "          dataTable['output_type'] = 'display_data';\n",
              "          await google.colab.output.renderOutput(dataTable, element);\n",
              "          const docLink = document.createElement('div');\n",
              "          docLink.innerHTML = docLinkHtml;\n",
              "          element.appendChild(docLink);\n",
              "        }\n",
              "      </script>\n",
              "    </div>\n",
              "  </div>\n",
              "  "
            ]
          },
          "metadata": {},
          "execution_count": 39
        }
      ]
    },
    {
      "cell_type": "code",
      "source": [
        "# Melihat frekuensi kata terbanyak pada masing-masing sentiment class\n",
        "for i in range(2):\n",
        "  word_freq_class = df_tfidf[(df_tfidf['Sentiment']==i).values]\n",
        "  word_freq_class_drop = word_freq_class.drop(['Sentiment'], axis=1).sum(axis=0)\n",
        "  order_word_freq_class_drop = word_freq_class_drop.sort_values(ascending=False)\n",
        "  print('Frekuensi kata untuk class sentimen '+ str(i))\n",
        "  print(order_word_freq_class_drop[:5])"
      ],
      "metadata": {
        "colab": {
          "base_uri": "https://localhost:8080/"
        },
        "id": "yB1hwacQBwyr",
        "outputId": "d921344b-a3ca-4c43-8ffe-be39daf6ae13"
      },
      "execution_count": null,
      "outputs": [
        {
          "output_type": "stream",
          "name": "stdout",
          "text": [
            "Frekuensi kata untuk class sentimen 0\n",
            "l a    64.683248\n",
            "i n    62.103935\n",
            "a t    61.046548\n",
            "e d    60.175410\n",
            "d a    57.757100\n",
            "dtype: float64\n",
            "Frekuensi kata untuk class sentimen 1\n",
            "  b    24.956971\n",
            "l a    24.791277\n",
            "y      23.544587\n",
            "a k    23.215261\n",
            "i n    22.902491\n",
            "dtype: float64\n"
          ]
        }
      ]
    },
    {
      "cell_type": "code",
      "source": [
        "# Membuat wordcloud\n",
        "def generate_wordcloud(filename, color, words_tem):\n",
        "    wine_mask = np.array(Image.open(\"kerusuhan.png\"))\n",
        "    def transform_format(val):\n",
        "        if val == 0:\n",
        "            return 255\n",
        "        else:\n",
        "            return val\n",
        "    transformed_wine_mask = np.ndarray((wine_mask.shape[0],wine_mask.shape[1]), np.int32)\n",
        "    for i in range(len(wine_mask)):\n",
        "        transformed_wine_mask[i] = list(map(transform_format, wine_mask[i]))\n",
        "\n",
        "    word_cloud = WordCloud(colormap=color, width = 512, height = 512, background_color='white', mode=\"RGBA\", mask=transformed_wine_mask).generate_from_frequencies(words_tem)\n",
        "    plt.figure(figsize=(10,8),facecolor = 'white', edgecolor='blue')\n",
        "    plt.imshow(word_cloud, interpolation='bilinear')\n",
        "    plt.axis('off')\n",
        "    plt.tight_layout(pad=0)\n",
        "    plt.savefig(filename, format=\"png\")\n",
        "    #plt.show()"
      ],
      "metadata": {
        "id": "PdrF2znxB0hG"
      },
      "execution_count": null,
      "outputs": []
    },
    {
      "cell_type": "code",
      "source": [
        "# Plot Confusion Matrix\n",
        "def conf_matrix(cm):\n",
        "  plt.imshow(cm, interpolation='nearest', cmap=plt.cm.Wistia)\n",
        "  classNames = ['Negative','Positive']\n",
        "  plt.title('Confusion Matrix - Test Data Positive dan Negative')\n",
        "  plt.ylabel('True label')\n",
        "  plt.xlabel('Predicted label')\n",
        "  tick_marks = np.arange(len(classNames))\n",
        "  plt.xticks(tick_marks, classNames, rotation=45)\n",
        "  plt.yticks(tick_marks, classNames)\n",
        "  s = [['TN','FP'], ['FN', 'TP']]\n",
        "  for i in range(2):\n",
        "      for j in range(2):\n",
        "          plt.text(j,i, str(s[i][j])+\" = \"+str(cm[i][j]))\n",
        "  plt.show()"
      ],
      "metadata": {
        "id": "-m0h8fh7CCnL"
      },
      "execution_count": null,
      "outputs": []
    },
    {
      "cell_type": "code",
      "source": [
        "# Membuat ROC Curve\n",
        "def roccurve(Y, y_pred):\n",
        "  fpr, tpr, thresholds = roc_curve(Y, y_pred)\n",
        "  roc_auc = auc(fpr,tpr)\n",
        "  plt.plot(fpr, tpr, 'b',label='AUC = %0.3f'% roc_auc)\n",
        "  plt.plot([0,1],[0,1],'k--')\n",
        "  plt.xlim([0.0,1.0])\n",
        "  plt.ylim([0.0,1.05])\n",
        "  plt.xlabel('False Positive Rate')\n",
        "  plt.ylabel('True Positive Rate')\n",
        "  plt.title('Receiver Operating Characteristic')\n",
        "  plt.legend(loc='lower right')\n",
        "  \n",
        "  # create the axis of thresholds (scores)\n",
        "  ax2 = plt.gca().twinx()\n",
        "  ax2.plot(fpr, thresholds, markeredgecolor='r',linestyle='dashed', color='r')\n",
        "  ax2.set_ylabel('Threshold',color='r')\n",
        "  ax2.set_ylim([thresholds[-1],thresholds[0]])\n",
        "  ax2.set_xlim([fpr[0],fpr[-1]])\n",
        "  plt.show()"
      ],
      "metadata": {
        "id": "32pTtTzWCFf0"
      },
      "execution_count": null,
      "outputs": []
    },
    {
      "cell_type": "code",
      "source": [
        "def kfoldcv(classifier, X, Y, folds, print_all_scores=False, timed=True):\n",
        "\n",
        "    # memulai timer\n",
        "    mulai_time = time.time()\n",
        "\n",
        "    # untuk mengecek feature matrix dan vector label  dengan format ndarray untuk mencegah masalah saat scalar indexing\n",
        "    if type(X) is not np.ndarray:\n",
        "        X = np.array(X)\n",
        "    if type(Y) is not np.ndarray:\n",
        "        Y = np.array(Y)\n",
        "\n",
        "    # membuat dictionary untuk score\n",
        "    scores=['accuracy', 'precision', 'recall', 'f1', 'roc_auc']\n",
        "    values = [np.array([]) for i in range(0, len(scores))]\n",
        "    dict_score = OrderedDict(zip(scores, values))\n",
        "\n",
        "    # menghitung score\n",
        "    dict_score['accuracy'] = np.append(dict_score['accuracy'],cross_val_score(classifier, X, Y, scoring='accuracy', cv=folds))\n",
        "    dict_score['precision']  = np.append(dict_score['precision'],cross_val_score(classifier, X, Y, scoring='precision', cv=folds))\n",
        "    dict_score['recall'] = np.append(dict_score['recall'],cross_val_score(classifier, X, Y, scoring='recall', cv=folds))\n",
        "    dict_score['f1'] = np.append(dict_score['f1'],cross_val_score(classifier, X, Y, scoring='f1', cv=folds))\n",
        "    dict_score['roc_auc'] = np.append(dict_score['roc_auc'],cross_val_score(classifier, X, Y, scoring='roc_auc', cv=folds))\n",
        "\n",
        "    y_pred = cross_val_predict(classifier, X, Y, cv=folds)\n",
        "    cm = confusion_matrix(Y, y_pred)\n",
        "\n",
        "    # print semua hasil score cross validation\n",
        "    if print_all_scores:\n",
        "        for score_name, scores in dict_score.items():\n",
        "            print (\"%s: %s\" % (score_name, scores))\n",
        "\n",
        "    # print hasil rata-rata score cross validation\n",
        "    for score_name, scores in dict_score.items():\n",
        "        print (\"%s: %0.3f (+/- %0.3f)\" % (score_name, scores.mean(), 2*scores.std()))\n",
        "\n",
        "    # print waktu yang dibutuhkan untuk komputasi\n",
        "    if timed:\n",
        "        print (\"Waktu yang dibutuhkan: %0.2fmins.\" % ((time.time() - mulai_time)/60))\n",
        "    \n",
        "    TN = cm[0][0]\n",
        "    FP = cm[0][1]\n",
        "    FN = cm[1][0]\n",
        "    TP = cm[1][1]\n",
        "    Totaldata = TN+FP+FN+TP\n",
        "    Accuracy = ((TP + TN) / (TP + TN + FN + FP))\n",
        "    Precision = (TP / (TP + FP))\n",
        "    Recall = (TP / (TP + FN))\n",
        "    F1 = (2 * (Precision * Recall) / (Precision + Recall))\n",
        "    \n",
        "    TPRate = Recall\n",
        "    TNRate = (TN / (TN + FP))\n",
        "    AUC = ((Recall + TNRate)/2)\n",
        "    \n",
        "    print(\"Confusion Matrix - Hitung Manual\")\n",
        "    print(\"TN %s FP %s\" % (TN,FP))\n",
        "    print(\"FN %s TP %s\" % (FN,TP))\n",
        "    print(\"Total data: %s\" % (Totaldata))\n",
        "    print(\"Accuracy  : %0.3f %%\" % (Accuracy*100))\n",
        "    print(\"Precision : %0.3f %%\" % (Precision*100))\n",
        "    print(\"Recall    : %0.3f %%\" % (Recall*100))\n",
        "    print(\"F1-Score  : %0.3f %%\" % (F1*100))\n",
        "    print(\"ROC-AUC   : %0.3f %%\" % (AUC*100))\n",
        "    conf_matrix(cm)\n",
        "    print(classification_report(Y, y_pred))\n",
        "    print(\"\")\n",
        "    print('Total Data Prediksi Negative ',sum(y_pred == 0))\n",
        "    print('Total Data Prediksi Positive ',sum(y_pred == 1))\n",
        "    print('Total Data Negative ',sum(Y == 0))\n",
        "    print('Total Data Positive ',sum(Y == 1))\n",
        "    print('Total Data ',len(Y))\n",
        "    print(\"\")    \n",
        "    roccurve(Y,y_pred)\n",
        "    \n",
        "    #df_tfidf = pd.DataFrame(X,columns=tfidfconverter.get_feature_names())\n",
        "    #df_tfidf['Sentiment'] = le.inverse_transform(Y)\n",
        "    #df_tfidf['Sentiment_Pred'] = le.inverse_transform(y_pred)\n",
        "        \n",
        "    # export model\n",
        "    #classifier.fit(X,Y)\n",
        "    #pickle.dump(classifier, open('model1.pkl','wb'))\n",
        "    # Copy ke Gdrive\n",
        "    #!cp model1.pkl /content/gdrive/My\\ Drive/'Colab Notebooks'/'Sentiment Analysis'/\n",
        "    #!ls /content/gdrive/My\\ Drive/'Colab Notebooks'/'Sentiment Analysis'/"
      ],
      "metadata": {
        "id": "8ADoVffgpv8h"
      },
      "execution_count": null,
      "outputs": []
    },
    {
      "cell_type": "code",
      "source": [
        "def algo_nb():\n",
        "  clr_nb = GaussianNB()  \n",
        "  return clr_nb\n",
        "\n",
        "def algo_svm():\n",
        "  clr_svm = LinearSVC(C=3.0)\n",
        "  return clr_svm"
      ],
      "metadata": {
        "id": "ePHhx3ooCL6p"
      },
      "execution_count": null,
      "outputs": []
    },
    {
      "cell_type": "code",
      "source": [
        "print(\"Algoritma Naive Bayes\")\n",
        "kfoldcv(classifier=algo_nb(), X=X_vect, Y=y, folds=10)\n",
        "print('___________________________________________________________')"
      ],
      "metadata": {
        "colab": {
          "base_uri": "https://localhost:8080/",
          "height": 1000
        },
        "id": "ygQrydIECOxZ",
        "outputId": "8c7220c2-033a-4fc4-88f1-b38be44d8825"
      },
      "execution_count": null,
      "outputs": [
        {
          "output_type": "stream",
          "name": "stdout",
          "text": [
            "Algoritma Naive Bayes\n",
            "accuracy: 0.683 (+/- 0.099)\n",
            "precision: 0.439 (+/- 0.128)\n",
            "recall: 0.671 (+/- 0.200)\n",
            "f1: 0.528 (+/- 0.132)\n",
            "roc_auc: 0.741 (+/- 0.147)\n",
            "Waktu yang dibutuhkan: 0.00mins.\n",
            "Confusion Matrix - Hitung Manual\n",
            "TN 452 FP 206\n",
            "FN 78 TP 159\n",
            "Total data: 895\n",
            "Accuracy  : 68.268 %\n",
            "Precision : 43.562 %\n",
            "Recall    : 67.089 %\n",
            "F1-Score  : 52.824 %\n",
            "ROC-AUC   : 67.891 %\n"
          ]
        },
        {
          "output_type": "display_data",
          "data": {
            "text/plain": [
              "<Figure size 432x288 with 1 Axes>"
            ],
            "image/png": "[encoded data removed]"
          },
          "metadata": {
            "needs_background": "light"
          }
        },
        {
          "output_type": "stream",
          "name": "stdout",
          "text": [
            "              precision    recall  f1-score   support\n",
            "\n",
            "           0       0.85      0.69      0.76       658\n",
            "           1       0.44      0.67      0.53       237\n",
            "\n",
            "    accuracy                           0.68       895\n",
            "   macro avg       0.64      0.68      0.64       895\n",
            "weighted avg       0.74      0.68      0.70       895\n",
            "\n",
            "\n",
            "Total Data Prediksi Negative  530\n",
            "Total Data Prediksi Positive  365\n",
            "Total Data Negative  658\n",
            "Total Data Positive  237\n",
            "Total Data  895\n",
            "\n"
          ]
        },
        {
          "output_type": "display_data",
          "data": {
            "text/plain": [
              "<Figure size 432x288 with 2 Axes>"
            ],
            "image/png": "[encoded data removed]"
          },
          "metadata": {
            "needs_background": "light"
          }
        },
        {
          "output_type": "stream",
          "name": "stdout",
          "text": [
            "___________________________________________________________\n"
          ]
        }
      ]
    },
    {
      "cell_type": "code",
      "source": [
        "print(\"Algoritma Support Vector Machine\")\n",
        "kfoldcv(classifier=algo_svm(), X=X_vect, Y=y, folds=10)\n",
        "print('___________________________________________________________')"
      ],
      "metadata": {
        "colab": {
          "base_uri": "https://localhost:8080/",
          "height": 1000
        },
        "id": "ALpGSl9UCR6M",
        "outputId": "a19322f9-5e0b-484b-d095-b06fb4696093"
      },
      "execution_count": null,
      "outputs": [
        {
          "output_type": "stream",
          "name": "stdout",
          "text": [
            "Algoritma Support Vector Machine\n",
            "accuracy: 0.727 (+/- 0.113)\n",
            "precision: 0.507 (+/- 0.267)\n",
            "recall: 0.396 (+/- 0.224)\n",
            "f1: 0.432 (+/- 0.197)\n",
            "roc_auc: 0.759 (+/- 0.182)\n",
            "Waktu yang dibutuhkan: 0.02mins.\n",
            "Confusion Matrix - Hitung Manual\n",
            "TN 557 FP 101\n",
            "FN 143 TP 94\n",
            "Total data: 895\n",
            "Accuracy  : 72.737 %\n",
            "Precision : 48.205 %\n",
            "Recall    : 39.662 %\n",
            "F1-Score  : 43.519 %\n",
            "ROC-AUC   : 62.156 %\n"
          ]
        },
        {
          "output_type": "display_data",
          "data": {
            "text/plain": [
              "<Figure size 432x288 with 1 Axes>"
            ],
            "image/png": "[encoded data removed]"
          },
          "metadata": {
            "needs_background": "light"
          }
        },
        {
          "output_type": "stream",
          "name": "stdout",
          "text": [
            "              precision    recall  f1-score   support\n",
            "\n",
            "           0       0.80      0.85      0.82       658\n",
            "           1       0.48      0.40      0.44       237\n",
            "\n",
            "    accuracy                           0.73       895\n",
            "   macro avg       0.64      0.62      0.63       895\n",
            "weighted avg       0.71      0.73      0.72       895\n",
            "\n",
            "\n",
            "Total Data Prediksi Negative  700\n",
            "Total Data Prediksi Positive  195\n",
            "Total Data Negative  658\n",
            "Total Data Positive  237\n",
            "Total Data  895\n",
            "\n"
          ]
        },
        {
          "output_type": "display_data",
          "data": {
            "text/plain": [
              "<Figure size 432x288 with 2 Axes>"
            ],
            "image/png": "[encoded data removed]"
          },
          "metadata": {
            "needs_background": "light"
          }
        },
        {
          "output_type": "stream",
          "name": "stdout",
          "text": [
            "___________________________________________________________\n"
          ]
        }
      ]
    },
    {
      "cell_type": "code",
      "source": [
        "# Cek prediction text NB dan SVM\n",
        "y_pred_nb = cross_val_predict(algo_nb(), X_vect, y, cv=10)\n",
        "y_pred_svm = cross_val_predict(algo_svm(), X_vect, y, cv=10)\n",
        "df_pred = pd.DataFrame(X,columns=['tweet'])\n",
        "df_pred['Cleansing'] = X_vectnew=tfidfconverter.inverse_transform(X_vect)\n",
        "df_pred['Sentiment'] = le.inverse_transform(y)\n",
        "df_pred['NB Sentiment'] = le.inverse_transform(y_pred_nb)\n",
        "df_pred['SVM Sentiment'] = le.inverse_transform(y_pred_svm)\n",
        "\n",
        "display(df_pred)"
      ],
      "metadata": {
        "colab": {
          "base_uri": "https://localhost:8080/",
          "height": 424
        },
        "id": "ymISqqsmChII",
        "outputId": "611788cc-cb0e-488e-a9c8-bdd67013fd92"
      },
      "execution_count": null,
      "outputs": [
        {
          "output_type": "display_data",
          "data": {
            "text/plain": [
              "                                                 tweet  \\\n",
              "0    juaranya memang harus diusut tuntas listyosigi...   \n",
              "1    akun media sosial pssi tidak lagi mengunggah f...   \n",
              "2    penasihat hukum security officer arema fc suko...   \n",
              "3    tapi kan ini salah gas air mata ini kan sudah ...   \n",
              "4    stadion kanjuruhan direnovasi arema fc dipersi...   \n",
              "..                                                 ...   \n",
              "890  panglima tni andika perkasa perintahkan usut t...   \n",
              "891  many have been deeply saddened at the devastat...   \n",
              "892  soal tragedi kanjuruhan ketua komisi saya mena...   \n",
              "893  naik motor mau berangkat kerja berjalan keutar...   \n",
              "894  jadi tidak ada yang pulang dengan kondisi tida...   \n",
              "\n",
              "                                             Cleansing Sentiment NB Sentiment  \\\n",
              "0    [  h,   l,   u, a g, a h, a k, b a, d u, e m, ...  Positive     Positive   \n",
              "1    [  b,   h,   i,   j,   l,   n,   u, a b, a g, ...  Positive     Negative   \n",
              "2    [  b,   g,   h,   i,   l,   u, a d, a g, a h, ...  Positive     Negative   \n",
              "3    [  b,   g,   i,   l,   n,   u,   y, a d, a h, ...  Positive     Positive   \n",
              "4    [  b,   g,   l,   r,   y, a d, a m, b a, c, d ...  Positive     Positive   \n",
              "..                                                 ...       ...          ...   \n",
              "890  [  h,   l,   u,   y, a g, a h, a p, a t, b e, ...  Negative     Negative   \n",
              "891  [  b,   h,   i,   j,   l, a d, a g, a k, a t, ...  Negative     Negative   \n",
              "892  [  r, a g, a h, a i, a k, a p, d a, e d, f, g ...  Negative     Negative   \n",
              "893  [  b,   g,   i,   j,   l,   u, a d, a i, a k, ...  Negative     Positive   \n",
              "894  [  b,   j,   l,   u,   y, a b, a d, a g, a k, ...  Negative     Negative   \n",
              "\n",
              "    SVM Sentiment  \n",
              "0        Positive  \n",
              "1        Negative  \n",
              "2        Negative  \n",
              "3        Positive  \n",
              "4        Positive  \n",
              "..            ...  \n",
              "890      Negative  \n",
              "891      Negative  \n",
              "892      Negative  \n",
              "893      Positive  \n",
              "894      Negative  \n",
              "\n",
              "[895 rows x 5 columns]"
            ],
            "text/html": [
              "\n",
              "  <div id=\"df-6d82ffdf-0af4-4e44-8470-4bca5c4fa931\">\n",
              "    <div class=\"colab-df-container\">\n",
              "      <div>\n",
              "<style scoped>\n",
              "    .dataframe tbody tr th:only-of-type {\n",
              "        vertical-align: middle;\n",
              "    }\n",
              "\n",
              "    .dataframe tbody tr th {\n",
              "        vertical-align: top;\n",
              "    }\n",
              "\n",
              "    .dataframe thead th {\n",
              "        text-align: right;\n",
              "    }\n",
              "</style>\n",
              "<table border=\"1\" class=\"dataframe\">\n",
              "  <thead>\n",
              "    <tr style=\"text-align: right;\">\n",
              "      <th></th>\n",
              "      <th>tweet</th>\n",
              "      <th>Cleansing</th>\n",
              "      <th>Sentiment</th>\n",
              "      <th>NB Sentiment</th>\n",
              "      <th>SVM Sentiment</th>\n",
              "    </tr>\n",
              "  </thead>\n",
              "  <tbody>\n",
              "    <tr>\n",
              "      <th>0</th>\n",
              "      <td>juaranya memang harus diusut tuntas listyosigi...</td>\n",
              "      <td>[  h,   l,   u, a g, a h, a k, b a, d u, e m, ...</td>\n",
              "      <td>Positive</td>\n",
              "      <td>Positive</td>\n",
              "      <td>Positive</td>\n",
              "    </tr>\n",
              "    <tr>\n",
              "      <th>1</th>\n",
              "      <td>akun media sosial pssi tidak lagi mengunggah f...</td>\n",
              "      <td>[  b,   h,   i,   j,   l,   n,   u, a b, a g, ...</td>\n",
              "      <td>Positive</td>\n",
              "      <td>Negative</td>\n",
              "      <td>Negative</td>\n",
              "    </tr>\n",
              "    <tr>\n",
              "      <th>2</th>\n",
              "      <td>penasihat hukum security officer arema fc suko...</td>\n",
              "      <td>[  b,   g,   h,   i,   l,   u, a d, a g, a h, ...</td>\n",
              "      <td>Positive</td>\n",
              "      <td>Negative</td>\n",
              "      <td>Negative</td>\n",
              "    </tr>\n",
              "    <tr>\n",
              "      <th>3</th>\n",
              "      <td>tapi kan ini salah gas air mata ini kan sudah ...</td>\n",
              "      <td>[  b,   g,   i,   l,   n,   u,   y, a d, a h, ...</td>\n",
              "      <td>Positive</td>\n",
              "      <td>Positive</td>\n",
              "      <td>Positive</td>\n",
              "    </tr>\n",
              "    <tr>\n",
              "      <th>4</th>\n",
              "      <td>stadion kanjuruhan direnovasi arema fc dipersi...</td>\n",
              "      <td>[  b,   g,   l,   r,   y, a d, a m, b a, c, d ...</td>\n",
              "      <td>Positive</td>\n",
              "      <td>Positive</td>\n",
              "      <td>Positive</td>\n",
              "    </tr>\n",
              "    <tr>\n",
              "      <th>...</th>\n",
              "      <td>...</td>\n",
              "      <td>...</td>\n",
              "      <td>...</td>\n",
              "      <td>...</td>\n",
              "      <td>...</td>\n",
              "    </tr>\n",
              "    <tr>\n",
              "      <th>890</th>\n",
              "      <td>panglima tni andika perkasa perintahkan usut t...</td>\n",
              "      <td>[  h,   l,   u,   y, a g, a h, a p, a t, b e, ...</td>\n",
              "      <td>Negative</td>\n",
              "      <td>Negative</td>\n",
              "      <td>Negative</td>\n",
              "    </tr>\n",
              "    <tr>\n",
              "      <th>891</th>\n",
              "      <td>many have been deeply saddened at the devastat...</td>\n",
              "      <td>[  b,   h,   i,   j,   l, a d, a g, a k, a t, ...</td>\n",
              "      <td>Negative</td>\n",
              "      <td>Negative</td>\n",
              "      <td>Negative</td>\n",
              "    </tr>\n",
              "    <tr>\n",
              "      <th>892</th>\n",
              "      <td>soal tragedi kanjuruhan ketua komisi saya mena...</td>\n",
              "      <td>[  r, a g, a h, a i, a k, a p, d a, e d, f, g ...</td>\n",
              "      <td>Negative</td>\n",
              "      <td>Negative</td>\n",
              "      <td>Negative</td>\n",
              "    </tr>\n",
              "    <tr>\n",
              "      <th>893</th>\n",
              "      <td>naik motor mau berangkat kerja berjalan keutar...</td>\n",
              "      <td>[  b,   g,   i,   j,   l,   u, a d, a i, a k, ...</td>\n",
              "      <td>Negative</td>\n",
              "      <td>Positive</td>\n",
              "      <td>Positive</td>\n",
              "    </tr>\n",
              "    <tr>\n",
              "      <th>894</th>\n",
              "      <td>jadi tidak ada yang pulang dengan kondisi tida...</td>\n",
              "      <td>[  b,   j,   l,   u,   y, a b, a d, a g, a k, ...</td>\n",
              "      <td>Negative</td>\n",
              "      <td>Negative</td>\n",
              "      <td>Negative</td>\n",
              "    </tr>\n",
              "  </tbody>\n",
              "</table>\n",
              "<p>895 rows × 5 columns</p>\n",
              "</div>\n",
              "      <button class=\"colab-df-convert\" onclick=\"convertToInteractive('df-6d82ffdf-0af4-4e44-8470-4bca5c4fa931')\"\n",
              "              title=\"Convert this dataframe to an interactive table.\"\n",
              "              style=\"display:none;\">\n",
              "        \n",
              "  <svg xmlns=\"http://www.w3.org/2000/svg\" height=\"24px\"viewBox=\"0 0 24 24\"\n",
              "       width=\"24px\">\n",
              "    <path d=\"M0 0h24v24H0V0z\" fill=\"none\"/>\n",
              "    <path d=\"M18.56 5.44l.94 2.06.94-2.06 2.06-.94-2.06-.94-.94-2.06-.94 2.06-2.06.94zm-11 1L8.5 8.5l.94-2.06 2.06-.94-2.06-.94L8.5 2.5l-.94 2.06-2.06.94zm10 10l.94 2.06.94-2.06 2.06-.94-2.06-.94-.94-2.06-.94 2.06-2.06.94z\"/><path d=\"M17.41 7.96l-1.37-1.37c-.4-.4-.92-.59-1.43-.59-.52 0-1.04.2-1.43.59L10.3 9.45l-7.72 7.72c-.78.78-.78 2.05 0 2.83L4 21.41c.39.39.9.59 1.41.59.51 0 1.02-.2 1.41-.59l7.78-7.78 2.81-2.81c.8-.78.8-2.07 0-2.86zM5.41 20L4 18.59l7.72-7.72 1.47 1.35L5.41 20z\"/>\n",
              "  </svg>\n",
              "      </button>\n",
              "      \n",
              "  <style>\n",
              "    .colab-df-container {\n",
              "      display:flex;\n",
              "      flex-wrap:wrap;\n",
              "      gap: 12px;\n",
              "    }\n",
              "\n",
              "    .colab-df-convert {\n",
              "      background-color: #E8F0FE;\n",
              "      border: none;\n",
              "      border-radius: 50%;\n",
              "      cursor: pointer;\n",
              "      display: none;\n",
              "      fill: #1967D2;\n",
              "      height: 32px;\n",
              "      padding: 0 0 0 0;\n",
              "      width: 32px;\n",
              "    }\n",
              "\n",
              "    .colab-df-convert:hover {\n",
              "      background-color: #E2EBFA;\n",
              "      box-shadow: 0px 1px 2px rgba(60, 64, 67, 0.3), 0px 1px 3px 1px rgba(60, 64, 67, 0.15);\n",
              "      fill: #174EA6;\n",
              "    }\n",
              "\n",
              "    [theme=dark] .colab-df-convert {\n",
              "      background-color: #3B4455;\n",
              "      fill: #D2E3FC;\n",
              "    }\n",
              "\n",
              "    [theme=dark] .colab-df-convert:hover {\n",
              "      background-color: #434B5C;\n",
              "      box-shadow: 0px 1px 3px 1px rgba(0, 0, 0, 0.15);\n",
              "      filter: drop-shadow(0px 1px 2px rgba(0, 0, 0, 0.3));\n",
              "      fill: #FFFFFF;\n",
              "    }\n",
              "  </style>\n",
              "\n",
              "      <script>\n",
              "        const buttonEl =\n",
              "          document.querySelector('#df-6d82ffdf-0af4-4e44-8470-4bca5c4fa931 button.colab-df-convert');\n",
              "        buttonEl.style.display =\n",
              "          google.colab.kernel.accessAllowed ? 'block' : 'none';\n",
              "\n",
              "        async function convertToInteractive(key) {\n",
              "          const element = document.querySelector('#df-6d82ffdf-0af4-4e44-8470-4bca5c4fa931');\n",
              "          const dataTable =\n",
              "            await google.colab.kernel.invokeFunction('convertToInteractive',\n",
              "                                                     [key], {});\n",
              "          if (!dataTable) return;\n",
              "\n",
              "          const docLinkHtml = 'Like what you see? Visit the ' +\n",
              "            '<a target=\"_blank\" href=https://colab.research.google.com/notebooks/data_table.ipynb>data table notebook</a>'\n",
              "            + ' to learn more about interactive tables.';\n",
              "          element.innerHTML = '';\n",
              "          dataTable['output_type'] = 'display_data';\n",
              "          await google.colab.output.renderOutput(dataTable, element);\n",
              "          const docLink = document.createElement('div');\n",
              "          docLink.innerHTML = docLinkHtml;\n",
              "          element.appendChild(docLink);\n",
              "        }\n",
              "      </script>\n",
              "    </div>\n",
              "  </div>\n",
              "  "
            ]
          },
          "metadata": {}
        }
      ]
    },
    {
      "cell_type": "code",
      "source": [
        "# Export dataset\n",
        "loc_data = ('polemik-gabung.csv')\n",
        "export_data = df_pred.to_csv (loc_data, index=False, header=True, encoding='utf-8')\n",
        "export_data"
      ],
      "metadata": {
        "id": "9LIFgA55ClIc"
      },
      "execution_count": null,
      "outputs": []
    },
    {
      "cell_type": "code",
      "source": [
        "ls\n"
      ],
      "metadata": {
        "colab": {
          "base_uri": "https://localhost:8080/"
        },
        "id": "jfHc4HCxCptE",
        "outputId": "a5922b22-7b75-4998-ecce-d32c3ec387c7"
      },
      "execution_count": null,
      "outputs": [
        {
          "output_type": "stream",
          "name": "stdout",
          "text": [
            " belajar\n",
            "'Copy of Sentiment Analysis Anies Baswedan.ipynb'\n",
            " emotion.txt\n",
            " kerusuhan.png\n",
            " negative.png\n",
            "'percobaan ke sekian .ipynb'\n",
            " polemik-gabung.csv\n",
            " polemik-gabung.xlsx\n",
            " positive.png\n",
            "'Proses clensing dan  memberikan algoritma.ipynb'\n",
            "\u001b[0m\u001b[01;34m'Sentiment Analysis'\u001b[0m/\n",
            " Sentiment_Analysis_dengan_VADER_dan_TextBlob.ipynb\n",
            " testinglabel.csv\n",
            " testinglabel.xlsx\n"
          ]
        }
      ]
    },
    {
      "cell_type": "code",
      "source": [
        "# Membuat word cloud\n",
        "allwords = df_tfidf.drop(['Sentiment'], axis=1).sum(axis=0).sort_values(ascending=False)\n",
        "pos_allwords = df_tfidf[(df_tfidf['Sentiment']==1).values].drop(['Sentiment'], axis=1).sum(axis=0).sort_values(ascending=False)\n",
        "neg_allwords = df_tfidf[(df_tfidf['Sentiment']==0).values].drop(['Sentiment'], axis=1).sum(axis=0).sort_values(ascending=False)\n",
        "\n",
        "\n",
        "#generate_wordcloud('test.png','gist_rainbow',allwords)\n",
        "generate_wordcloud('positive.png','Blues',pos_allwords)\n",
        "generate_wordcloud('negative.png','Reds',neg_allwords)"
      ],
      "metadata": {
        "colab": {
          "base_uri": "https://localhost:8080/",
          "height": 363
        },
        "id": "ngQgjUu5Cs--",
        "outputId": "86bb0555-c9f2-4a81-c0d5-0e46d654c2f2"
      },
      "execution_count": null,
      "outputs": [
        {
          "output_type": "error",
          "ename": "ValueError",
          "evalue": "ignored",
          "traceback": [
            "\u001b[0;31m---------------------------------------------------------------------------\u001b[0m",
            "\u001b[0;31mValueError\u001b[0m                                Traceback (most recent call last)",
            "\u001b[0;32m<ipython-input-51-7e1eb85aa857>\u001b[0m in \u001b[0;36m<module>\u001b[0;34m\u001b[0m\n\u001b[1;32m      6\u001b[0m \u001b[0;34m\u001b[0m\u001b[0m\n\u001b[1;32m      7\u001b[0m \u001b[0;31m#generate_wordcloud('test.png','gist_rainbow',allwords)\u001b[0m\u001b[0;34m\u001b[0m\u001b[0;34m\u001b[0m\u001b[0;34m\u001b[0m\u001b[0m\n\u001b[0;32m----> 8\u001b[0;31m \u001b[0mgenerate_wordcloud\u001b[0m\u001b[0;34m(\u001b[0m\u001b[0;34m'positive.png'\u001b[0m\u001b[0;34m,\u001b[0m\u001b[0;34m'Blues'\u001b[0m\u001b[0;34m,\u001b[0m\u001b[0mpos_allwords\u001b[0m\u001b[0;34m)\u001b[0m\u001b[0;34m\u001b[0m\u001b[0;34m\u001b[0m\u001b[0m\n\u001b[0m\u001b[1;32m      9\u001b[0m \u001b[0mgenerate_wordcloud\u001b[0m\u001b[0;34m(\u001b[0m\u001b[0;34m'negative.png'\u001b[0m\u001b[0;34m,\u001b[0m\u001b[0;34m'Reds'\u001b[0m\u001b[0;34m,\u001b[0m\u001b[0mneg_allwords\u001b[0m\u001b[0;34m)\u001b[0m\u001b[0;34m\u001b[0m\u001b[0;34m\u001b[0m\u001b[0m\n",
            "\u001b[0;32m<ipython-input-41-149ef2e1e4b5>\u001b[0m in \u001b[0;36mgenerate_wordcloud\u001b[0;34m(filename, color, words_tem)\u001b[0m\n\u001b[1;32m      9\u001b[0m     \u001b[0mtransformed_wine_mask\u001b[0m \u001b[0;34m=\u001b[0m \u001b[0mnp\u001b[0m\u001b[0;34m.\u001b[0m\u001b[0mndarray\u001b[0m\u001b[0;34m(\u001b[0m\u001b[0;34m(\u001b[0m\u001b[0mwine_mask\u001b[0m\u001b[0;34m.\u001b[0m\u001b[0mshape\u001b[0m\u001b[0;34m[\u001b[0m\u001b[0;36m0\u001b[0m\u001b[0;34m]\u001b[0m\u001b[0;34m,\u001b[0m\u001b[0mwine_mask\u001b[0m\u001b[0;34m.\u001b[0m\u001b[0mshape\u001b[0m\u001b[0;34m[\u001b[0m\u001b[0;36m1\u001b[0m\u001b[0;34m]\u001b[0m\u001b[0;34m)\u001b[0m\u001b[0;34m,\u001b[0m \u001b[0mnp\u001b[0m\u001b[0;34m.\u001b[0m\u001b[0mint32\u001b[0m\u001b[0;34m)\u001b[0m\u001b[0;34m\u001b[0m\u001b[0;34m\u001b[0m\u001b[0m\n\u001b[1;32m     10\u001b[0m     \u001b[0;32mfor\u001b[0m \u001b[0mi\u001b[0m \u001b[0;32min\u001b[0m \u001b[0mrange\u001b[0m\u001b[0;34m(\u001b[0m\u001b[0mlen\u001b[0m\u001b[0;34m(\u001b[0m\u001b[0mwine_mask\u001b[0m\u001b[0;34m)\u001b[0m\u001b[0;34m)\u001b[0m\u001b[0;34m:\u001b[0m\u001b[0;34m\u001b[0m\u001b[0;34m\u001b[0m\u001b[0m\n\u001b[0;32m---> 11\u001b[0;31m         \u001b[0mtransformed_wine_mask\u001b[0m\u001b[0;34m[\u001b[0m\u001b[0mi\u001b[0m\u001b[0;34m]\u001b[0m \u001b[0;34m=\u001b[0m \u001b[0mlist\u001b[0m\u001b[0;34m(\u001b[0m\u001b[0mmap\u001b[0m\u001b[0;34m(\u001b[0m\u001b[0mtransform_format\u001b[0m\u001b[0;34m,\u001b[0m \u001b[0mwine_mask\u001b[0m\u001b[0;34m[\u001b[0m\u001b[0mi\u001b[0m\u001b[0;34m]\u001b[0m\u001b[0;34m)\u001b[0m\u001b[0;34m)\u001b[0m\u001b[0;34m\u001b[0m\u001b[0;34m\u001b[0m\u001b[0m\n\u001b[0m\u001b[1;32m     12\u001b[0m \u001b[0;34m\u001b[0m\u001b[0m\n\u001b[1;32m     13\u001b[0m     \u001b[0mword_cloud\u001b[0m \u001b[0;34m=\u001b[0m \u001b[0mWordCloud\u001b[0m\u001b[0;34m(\u001b[0m\u001b[0mcolormap\u001b[0m\u001b[0;34m=\u001b[0m\u001b[0mcolor\u001b[0m\u001b[0;34m,\u001b[0m \u001b[0mwidth\u001b[0m \u001b[0;34m=\u001b[0m \u001b[0;36m512\u001b[0m\u001b[0;34m,\u001b[0m \u001b[0mheight\u001b[0m \u001b[0;34m=\u001b[0m \u001b[0;36m512\u001b[0m\u001b[0;34m,\u001b[0m \u001b[0mbackground_color\u001b[0m\u001b[0;34m=\u001b[0m\u001b[0;34m'white'\u001b[0m\u001b[0;34m,\u001b[0m \u001b[0mmode\u001b[0m\u001b[0;34m=\u001b[0m\u001b[0;34m\"RGBA\"\u001b[0m\u001b[0;34m,\u001b[0m \u001b[0mmask\u001b[0m\u001b[0;34m=\u001b[0m\u001b[0mtransformed_wine_mask\u001b[0m\u001b[0;34m)\u001b[0m\u001b[0;34m.\u001b[0m\u001b[0mgenerate_from_frequencies\u001b[0m\u001b[0;34m(\u001b[0m\u001b[0mwords_tem\u001b[0m\u001b[0;34m)\u001b[0m\u001b[0;34m\u001b[0m\u001b[0;34m\u001b[0m\u001b[0m\n",
            "\u001b[0;32m<ipython-input-41-149ef2e1e4b5>\u001b[0m in \u001b[0;36mtransform_format\u001b[0;34m(val)\u001b[0m\n\u001b[1;32m      3\u001b[0m     \u001b[0mwine_mask\u001b[0m \u001b[0;34m=\u001b[0m \u001b[0mnp\u001b[0m\u001b[0;34m.\u001b[0m\u001b[0marray\u001b[0m\u001b[0;34m(\u001b[0m\u001b[0mImage\u001b[0m\u001b[0;34m.\u001b[0m\u001b[0mopen\u001b[0m\u001b[0;34m(\u001b[0m\u001b[0;34m\"kerusuhan.png\"\u001b[0m\u001b[0;34m)\u001b[0m\u001b[0;34m)\u001b[0m\u001b[0;34m\u001b[0m\u001b[0;34m\u001b[0m\u001b[0m\n\u001b[1;32m      4\u001b[0m     \u001b[0;32mdef\u001b[0m \u001b[0mtransform_format\u001b[0m\u001b[0;34m(\u001b[0m\u001b[0mval\u001b[0m\u001b[0;34m)\u001b[0m\u001b[0;34m:\u001b[0m\u001b[0;34m\u001b[0m\u001b[0;34m\u001b[0m\u001b[0m\n\u001b[0;32m----> 5\u001b[0;31m         \u001b[0;32mif\u001b[0m \u001b[0mval\u001b[0m \u001b[0;34m==\u001b[0m \u001b[0;36m0\u001b[0m\u001b[0;34m:\u001b[0m\u001b[0;34m\u001b[0m\u001b[0;34m\u001b[0m\u001b[0m\n\u001b[0m\u001b[1;32m      6\u001b[0m             \u001b[0;32mreturn\u001b[0m \u001b[0;36m255\u001b[0m\u001b[0;34m\u001b[0m\u001b[0;34m\u001b[0m\u001b[0m\n\u001b[1;32m      7\u001b[0m         \u001b[0;32melse\u001b[0m\u001b[0;34m:\u001b[0m\u001b[0;34m\u001b[0m\u001b[0;34m\u001b[0m\u001b[0m\n",
            "\u001b[0;31mValueError\u001b[0m: The truth value of an array with more than one element is ambiguous. Use a.any() or a.all()"
          ]
        }
      ]
    },
    {
      "cell_type": "code",
      "source": [
        "# Membuat diagram\n",
        "plt.figure(figsize=(10,5))\n",
        "pos_allwords[:5].sort_values(ascending=False).plot.bar()\n",
        "plt.xticks(rotation=50)\n",
        "plt.show()\n",
        "\n",
        "plt.figure(figsize=(10,5))\n",
        "neg_allwords[:5].sort_values(ascending=False).plot.bar()\n",
        "plt.xticks(rotation=50)\n",
        "plt.show()"
      ],
      "metadata": {
        "colab": {
          "base_uri": "https://localhost:8080/",
          "height": 639
        },
        "id": "6tTW4gfRCvTK",
        "outputId": "e949d014-91fe-4782-f298-4bfcc2f0bccb"
      },
      "execution_count": null,
      "outputs": [
        {
          "output_type": "display_data",
          "data": {
            "text/plain": [
              "<Figure size 720x360 with 1 Axes>"
            ],
            "image/png": "[encoded data removed]"
          },
          "metadata": {
            "needs_background": "light"
          }
        },
        {
          "output_type": "display_data",
          "data": {
            "text/plain": [
              "<Figure size 720x360 with 1 Axes>"
            ],
            "image/png": "[encoded data removed]"
          },
          "metadata": {
            "needs_background": "light"
          }
        }
      ]
    },
    {
      "cell_type": "code",
      "source": [
        "from sklearn.model_selection import train_test_split  \n",
        "X_train, X_test, y_train, y_test = train_test_split(X_vect, y, test_size=0.2, random_state=0)"
      ],
      "metadata": {
        "id": "Pt3fg2KQCxVU"
      },
      "execution_count": null,
      "outputs": []
    },
    {
      "cell_type": "code",
      "source": [
        "import time"
      ],
      "metadata": {
        "id": "7PC9tEA9C3lx"
      },
      "execution_count": null,
      "outputs": []
    },
    {
      "cell_type": "code",
      "source": [
        "from sklearn.naive_bayes import GaussianNB\n",
        "text_classifier_nb = GaussianNB()  \n",
        "t0_nb = time.time()\n",
        "text_classifier_nb.fit(X_train, y_train)\n",
        "t1_nb = time.time()"
      ],
      "metadata": {
        "id": "G3GF0a4LC5Wz"
      },
      "execution_count": null,
      "outputs": []
    },
    {
      "cell_type": "code",
      "source": [
        "from sklearn.svm import SVC\n",
        "text_classifier_svm = SVC(kernel='linear')\n",
        "t0_svm = time.time()\n",
        "text_classifier_svm.fit(X_train, y_train)\n",
        "t1_svm = time.time()"
      ],
      "metadata": {
        "id": "WfXeHsGsC7lR"
      },
      "execution_count": null,
      "outputs": []
    },
    {
      "cell_type": "code",
      "source": [
        "predictions_nb = text_classifier_nb.predict(X_test)\n",
        "t2_nb = time.time()\n",
        "time_linear_train_nb = t1_nb-t0_nb\n",
        "time_linear_predict_nb = t2_nb-t1_nb"
      ],
      "metadata": {
        "id": "gzPgLJIxC9j-"
      },
      "execution_count": null,
      "outputs": []
    },
    {
      "cell_type": "code",
      "source": [
        "predictions_svm = text_classifier_svm.predict(X_test)\n",
        "t2_svm = time.time()\n",
        "time_linear_train_svm = t1_svm-t0_svm\n",
        "time_linear_predict_svm = t2_svm-t1_svm"
      ],
      "metadata": {
        "id": "U_96ETIdC_uD"
      },
      "execution_count": null,
      "outputs": []
    },
    {
      "cell_type": "code",
      "source": [
        "# results\n",
        "print(\"NB Training time: %fs; Prediction time: %fs\" % (time_linear_train_nb, time_linear_predict_nb))"
      ],
      "metadata": {
        "colab": {
          "base_uri": "https://localhost:8080/"
        },
        "id": "OKX58n1iDCez",
        "outputId": "6b10ce47-bf55-4b0c-ce1e-199a96607ddf"
      },
      "execution_count": null,
      "outputs": [
        {
          "output_type": "stream",
          "name": "stdout",
          "text": [
            "NB Training time: 0.007280s; Prediction time: 3.072786s\n"
          ]
        }
      ]
    },
    {
      "cell_type": "code",
      "source": [
        "print(\"SVM Training time: %fs; Prediction time: %fs\" % (time_linear_train_svm, time_linear_predict_svm))"
      ],
      "metadata": {
        "colab": {
          "base_uri": "https://localhost:8080/"
        },
        "id": "cNXsJ8uJDEv_",
        "outputId": "c51cd043-b0de-4b77-a206-f36d866b5e0f"
      },
      "execution_count": null,
      "outputs": [
        {
          "output_type": "stream",
          "name": "stdout",
          "text": [
            "SVM Training time: 0.024593s; Prediction time: 2.987003s\n"
          ]
        }
      ]
    },
    {
      "cell_type": "code",
      "source": [
        "from sklearn.metrics import classification_report, confusion_matrix, accuracy_score, recall_score, precision_score, f1_score, roc_auc_score\n",
        "print(\"Naive Bayes\")\n",
        "print('Accuracy  = ', round(accuracy_score(y_test, predictions_nb)*100,2),'%')\n",
        "print('Recall    = ', round(recall_score(y_test, predictions_nb)*100,2),'%')\n",
        "print('Precision = ', round(precision_score(y_test, predictions_nb)*100,2),'%')\n",
        "print('F1-Score  = ', round(f1_score(y_test, predictions_nb)*100,2),'%')\n",
        "print('ROC AUC   = ', roc_auc_score(y_test, predictions_nb))\n",
        "print(\"\")\n",
        "print(\"Support Vector Machine\")\n",
        "print('Accuracy  = ', round(accuracy_score(y_test, predictions_svm)*100,2),'%')\n",
        "print('Recall    = ', round(recall_score(y_test, predictions_svm)*100,2),'%')\n",
        "print('Precision = ', round(precision_score(y_test, predictions_svm)*100,2),'%')\n",
        "print('F1-Score  = ', round(f1_score(y_test, predictions_svm)*100,2),'%')\n",
        "print('ROC AUC   = ', roc_auc_score(y_test, predictions_svm))\n",
        "print(\"\")\n",
        "print(\"\")\n",
        "print(\"Naive Bayes\")\n",
        "print(confusion_matrix(y_test,predictions_nb))  \n",
        "print(\"\")\n",
        "print(\"Support Vector Machine\")\n",
        "print(confusion_matrix(y_test,predictions_svm))  \n",
        "print(\"\")\n",
        "print(\"\")\n",
        "print(\"Naive Bayes\")\n",
        "print(classification_report(y_test,predictions_nb))  \n",
        "print(\"\")\n",
        "print(\"Support Vector Machine\")\n",
        "print(classification_report(y_test,predictions_svm))"
      ],
      "metadata": {
        "colab": {
          "base_uri": "https://localhost:8080/"
        },
        "id": "VrFx0ObRDITt",
        "outputId": "94362795-71bc-4207-bbd8-37c6e63a35c8"
      },
      "execution_count": null,
      "outputs": [
        {
          "output_type": "stream",
          "name": "stdout",
          "text": [
            "Naive Bayes\n",
            "Accuracy  =  73.18 %\n",
            "Recall    =  71.79 %\n",
            "Precision =  43.08 %\n",
            "F1-Score  =  53.85 %\n",
            "ROC AUC   =  0.7268315018315019\n",
            "\n",
            "Support Vector Machine\n",
            "Accuracy  =  78.21 %\n",
            "Recall    =  15.38 %\n",
            "Precision =  50.0 %\n",
            "F1-Score  =  23.53 %\n",
            "ROC AUC   =  0.5554945054945054\n",
            "\n",
            "\n",
            "Naive Bayes\n",
            "[[103  37]\n",
            " [ 11  28]]\n",
            "\n",
            "Support Vector Machine\n",
            "[[134   6]\n",
            " [ 33   6]]\n",
            "\n",
            "\n",
            "Naive Bayes\n",
            "              precision    recall  f1-score   support\n",
            "\n",
            "           0       0.90      0.74      0.81       140\n",
            "           1       0.43      0.72      0.54        39\n",
            "\n",
            "    accuracy                           0.73       179\n",
            "   macro avg       0.67      0.73      0.67       179\n",
            "weighted avg       0.80      0.73      0.75       179\n",
            "\n",
            "\n",
            "Support Vector Machine\n",
            "              precision    recall  f1-score   support\n",
            "\n",
            "           0       0.80      0.96      0.87       140\n",
            "           1       0.50      0.15      0.24        39\n",
            "\n",
            "    accuracy                           0.78       179\n",
            "   macro avg       0.65      0.56      0.55       179\n",
            "weighted avg       0.74      0.78      0.73       179\n",
            "\n"
          ]
        }
      ]
    }
  ]
}