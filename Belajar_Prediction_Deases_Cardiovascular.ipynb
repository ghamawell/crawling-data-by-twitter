{
  "nbformat": 4,
  "nbformat_minor": 0,
  "metadata": {
    "colab": {
      "provenance": [],
      "authorship_tag": "ABX9TyPEDA5VqZ5pRj14X+nCTVxA",
      "include_colab_link": true
    },
    "kernelspec": {
      "name": "python3",
      "display_name": "Python 3"
    },
    "language_info": {
      "name": "python"
    }
  },
  "cells": [
    {
      "cell_type": "markdown",
      "metadata": {
        "id": "view-in-github",
        "colab_type": "text"
      },
      "source": [
        "<a href=\"https://colab.research.google.com/github/ghamawell/crawling-data-by-twitter/blob/main/Belajar_Prediction_Deases_Cardiovascular.ipynb\" target=\"_parent\"><img src=\"https://colab.research.google.com/assets/colab-badge.svg\" alt=\"Open In Colab\"/></a>"
      ]
    },
    {
      "cell_type": "code",
      "execution_count": null,
      "metadata": {
        "id": "p8j6VZPvtOOm"
      },
      "outputs": [],
      "source": [
        "#1 Importing the libraries\n",
        "import numpy as np\n",
        "import matplotlib.pyplot as plt\n",
        "import pandas as pd\n",
        "import seaborn as sns\n",
        "\n",
        "from sklearn.linear_model import LogisticRegression\n",
        "from sklearn.tree import DecisionTreeClassifier\n",
        "from sklearn.neighbors import KNeighborsClassifier\n",
        "from sklearn.discriminant_analysis import LinearDiscriminantAnalysis\n",
        "from sklearn.naive_bayes import GaussianNB\n",
        "\n",
        "from sklearn.pipeline import Pipeline"
      ]
    },
    {
      "cell_type": "code",
      "source": [
        "from google.colab import drive\n",
        "drive.mount('/content/gdrive', force_remount=True)"
      ],
      "metadata": {
        "colab": {
          "base_uri": "https://localhost:8080/"
        },
        "id": "33K1wH8btcDr",
        "outputId": "e7224bdd-5130-4546-8a67-37f48e36e8f6"
      },
      "execution_count": null,
      "outputs": [
        {
          "output_type": "stream",
          "name": "stdout",
          "text": [
            "Mounted at /content/gdrive\n"
          ]
        }
      ]
    },
    {
      "cell_type": "code",
      "source": [
        "cd /content/gdrive/'My Drive'/"
      ],
      "metadata": {
        "colab": {
          "base_uri": "https://localhost:8080/"
        },
        "id": "zjgStIW2tiF7",
        "outputId": "6a8e4a5e-ded9-4bd5-e884-e69e4d7fc14b"
      },
      "execution_count": null,
      "outputs": [
        {
          "output_type": "stream",
          "name": "stdout",
          "text": [
            "/content/gdrive/My Drive\n"
          ]
        }
      ]
    },
    {
      "cell_type": "code",
      "source": [
        "ls"
      ],
      "metadata": {
        "id": "FGSyKnKptjns"
      },
      "execution_count": null,
      "outputs": []
    },
    {
      "cell_type": "code",
      "source": [
        "#2 Importing the dataset\n",
        "dataset = pd.read_csv('cardio_train.csv', sep=';')\n",
        "df_cardio = pd.DataFrame(dataset)\n",
        "df_cardio.head()"
      ],
      "metadata": {
        "colab": {
          "base_uri": "https://localhost:8080/",
          "height": 213
        },
        "id": "CGJLjt8Dt4Hb",
        "outputId": "2692b250-15f7-4d11-f169-f14657e0040c"
      },
      "execution_count": null,
      "outputs": [
        {
          "output_type": "execute_result",
          "data": {
            "text/plain": [
              "    id    age  gender  height  weight  ap_hi  ap_lo  cholesterol  gluc  smoke  \\\n",
              "0  988  22469       1     155    69.0    130     80            2     2      0   \n",
              "1  989  14648       1     163    71.0    110     70            1     1      0   \n",
              "2  990  21901       1     165    70.0    120     80            1     1      0   \n",
              "3  991  14549       2     165    85.0    120     80            1     1      1   \n",
              "4  992  23393       1     155    62.0    120     80            1     1      0   \n",
              "\n",
              "   alco  active  cardio  \n",
              "0     0       1       0  \n",
              "1     0       1       1  \n",
              "2     0       1       0  \n",
              "3     1       1       0  \n",
              "4     0       1       0  "
            ],
            "text/html": [
              "\n",
              "  <div id=\"df-5be2216a-33e6-49ba-835a-f8223e81a6bc\">\n",
              "    <div class=\"colab-df-container\">\n",
              "      <div>\n",
              "<style scoped>\n",
              "    .dataframe tbody tr th:only-of-type {\n",
              "        vertical-align: middle;\n",
              "    }\n",
              "\n",
              "    .dataframe tbody tr th {\n",
              "        vertical-align: top;\n",
              "    }\n",
              "\n",
              "    .dataframe thead th {\n",
              "        text-align: right;\n",
              "    }\n",
              "</style>\n",
              "<table border=\"1\" class=\"dataframe\">\n",
              "  <thead>\n",
              "    <tr style=\"text-align: right;\">\n",
              "      <th></th>\n",
              "      <th>id</th>\n",
              "      <th>age</th>\n",
              "      <th>gender</th>\n",
              "      <th>height</th>\n",
              "      <th>weight</th>\n",
              "      <th>ap_hi</th>\n",
              "      <th>ap_lo</th>\n",
              "      <th>cholesterol</th>\n",
              "      <th>gluc</th>\n",
              "      <th>smoke</th>\n",
              "      <th>alco</th>\n",
              "      <th>active</th>\n",
              "      <th>cardio</th>\n",
              "    </tr>\n",
              "  </thead>\n",
              "  <tbody>\n",
              "    <tr>\n",
              "      <th>0</th>\n",
              "      <td>988</td>\n",
              "      <td>22469</td>\n",
              "      <td>1</td>\n",
              "      <td>155</td>\n",
              "      <td>69.0</td>\n",
              "      <td>130</td>\n",
              "      <td>80</td>\n",
              "      <td>2</td>\n",
              "      <td>2</td>\n",
              "      <td>0</td>\n",
              "      <td>0</td>\n",
              "      <td>1</td>\n",
              "      <td>0</td>\n",
              "    </tr>\n",
              "    <tr>\n",
              "      <th>1</th>\n",
              "      <td>989</td>\n",
              "      <td>14648</td>\n",
              "      <td>1</td>\n",
              "      <td>163</td>\n",
              "      <td>71.0</td>\n",
              "      <td>110</td>\n",
              "      <td>70</td>\n",
              "      <td>1</td>\n",
              "      <td>1</td>\n",
              "      <td>0</td>\n",
              "      <td>0</td>\n",
              "      <td>1</td>\n",
              "      <td>1</td>\n",
              "    </tr>\n",
              "    <tr>\n",
              "      <th>2</th>\n",
              "      <td>990</td>\n",
              "      <td>21901</td>\n",
              "      <td>1</td>\n",
              "      <td>165</td>\n",
              "      <td>70.0</td>\n",
              "      <td>120</td>\n",
              "      <td>80</td>\n",
              "      <td>1</td>\n",
              "      <td>1</td>\n",
              "      <td>0</td>\n",
              "      <td>0</td>\n",
              "      <td>1</td>\n",
              "      <td>0</td>\n",
              "    </tr>\n",
              "    <tr>\n",
              "      <th>3</th>\n",
              "      <td>991</td>\n",
              "      <td>14549</td>\n",
              "      <td>2</td>\n",
              "      <td>165</td>\n",
              "      <td>85.0</td>\n",
              "      <td>120</td>\n",
              "      <td>80</td>\n",
              "      <td>1</td>\n",
              "      <td>1</td>\n",
              "      <td>1</td>\n",
              "      <td>1</td>\n",
              "      <td>1</td>\n",
              "      <td>0</td>\n",
              "    </tr>\n",
              "    <tr>\n",
              "      <th>4</th>\n",
              "      <td>992</td>\n",
              "      <td>23393</td>\n",
              "      <td>1</td>\n",
              "      <td>155</td>\n",
              "      <td>62.0</td>\n",
              "      <td>120</td>\n",
              "      <td>80</td>\n",
              "      <td>1</td>\n",
              "      <td>1</td>\n",
              "      <td>0</td>\n",
              "      <td>0</td>\n",
              "      <td>1</td>\n",
              "      <td>0</td>\n",
              "    </tr>\n",
              "  </tbody>\n",
              "</table>\n",
              "</div>\n",
              "      <button class=\"colab-df-convert\" onclick=\"convertToInteractive('df-5be2216a-33e6-49ba-835a-f8223e81a6bc')\"\n",
              "              title=\"Convert this dataframe to an interactive table.\"\n",
              "              style=\"display:none;\">\n",
              "        \n",
              "  <svg xmlns=\"http://www.w3.org/2000/svg\" height=\"24px\"viewBox=\"0 0 24 24\"\n",
              "       width=\"24px\">\n",
              "    <path d=\"M0 0h24v24H0V0z\" fill=\"none\"/>\n",
              "    <path d=\"M18.56 5.44l.94 2.06.94-2.06 2.06-.94-2.06-.94-.94-2.06-.94 2.06-2.06.94zm-11 1L8.5 8.5l.94-2.06 2.06-.94-2.06-.94L8.5 2.5l-.94 2.06-2.06.94zm10 10l.94 2.06.94-2.06 2.06-.94-2.06-.94-.94-2.06-.94 2.06-2.06.94z\"/><path d=\"M17.41 7.96l-1.37-1.37c-.4-.4-.92-.59-1.43-.59-.52 0-1.04.2-1.43.59L10.3 9.45l-7.72 7.72c-.78.78-.78 2.05 0 2.83L4 21.41c.39.39.9.59 1.41.59.51 0 1.02-.2 1.41-.59l7.78-7.78 2.81-2.81c.8-.78.8-2.07 0-2.86zM5.41 20L4 18.59l7.72-7.72 1.47 1.35L5.41 20z\"/>\n",
              "  </svg>\n",
              "      </button>\n",
              "      \n",
              "  <style>\n",
              "    .colab-df-container {\n",
              "      display:flex;\n",
              "      flex-wrap:wrap;\n",
              "      gap: 12px;\n",
              "    }\n",
              "\n",
              "    .colab-df-convert {\n",
              "      background-color: #E8F0FE;\n",
              "      border: none;\n",
              "      border-radius: 50%;\n",
              "      cursor: pointer;\n",
              "      display: none;\n",
              "      fill: #1967D2;\n",
              "      height: 32px;\n",
              "      padding: 0 0 0 0;\n",
              "      width: 32px;\n",
              "    }\n",
              "\n",
              "    .colab-df-convert:hover {\n",
              "      background-color: #E2EBFA;\n",
              "      box-shadow: 0px 1px 2px rgba(60, 64, 67, 0.3), 0px 1px 3px 1px rgba(60, 64, 67, 0.15);\n",
              "      fill: #174EA6;\n",
              "    }\n",
              "\n",
              "    [theme=dark] .colab-df-convert {\n",
              "      background-color: #3B4455;\n",
              "      fill: #D2E3FC;\n",
              "    }\n",
              "\n",
              "    [theme=dark] .colab-df-convert:hover {\n",
              "      background-color: #434B5C;\n",
              "      box-shadow: 0px 1px 3px 1px rgba(0, 0, 0, 0.15);\n",
              "      filter: drop-shadow(0px 1px 2px rgba(0, 0, 0, 0.3));\n",
              "      fill: #FFFFFF;\n",
              "    }\n",
              "  </style>\n",
              "\n",
              "      <script>\n",
              "        const buttonEl =\n",
              "          document.querySelector('#df-5be2216a-33e6-49ba-835a-f8223e81a6bc button.colab-df-convert');\n",
              "        buttonEl.style.display =\n",
              "          google.colab.kernel.accessAllowed ? 'block' : 'none';\n",
              "\n",
              "        async function convertToInteractive(key) {\n",
              "          const element = document.querySelector('#df-5be2216a-33e6-49ba-835a-f8223e81a6bc');\n",
              "          const dataTable =\n",
              "            await google.colab.kernel.invokeFunction('convertToInteractive',\n",
              "                                                     [key], {});\n",
              "          if (!dataTable) return;\n",
              "\n",
              "          const docLinkHtml = 'Like what you see? Visit the ' +\n",
              "            '<a target=\"_blank\" href=https://colab.research.google.com/notebooks/data_table.ipynb>data table notebook</a>'\n",
              "            + ' to learn more about interactive tables.';\n",
              "          element.innerHTML = '';\n",
              "          dataTable['output_type'] = 'display_data';\n",
              "          await google.colab.output.renderOutput(dataTable, element);\n",
              "          const docLink = document.createElement('div');\n",
              "          docLink.innerHTML = docLinkHtml;\n",
              "          element.appendChild(docLink);\n",
              "        }\n",
              "      </script>\n",
              "    </div>\n",
              "  </div>\n",
              "  "
            ]
          },
          "metadata": {},
          "execution_count": 22
        }
      ]
    },
    {
      "cell_type": "code",
      "source": [
        "df_cardio = df_cardio.drop(['id'], axis = 1)"
      ],
      "metadata": {
        "id": "0206tj5-t50J"
      },
      "execution_count": null,
      "outputs": []
    },
    {
      "cell_type": "code",
      "source": [
        "df_cardio.info()\n",
        "df_cardio.shape"
      ],
      "metadata": {
        "colab": {
          "base_uri": "https://localhost:8080/"
        },
        "id": "rC1RM6sot8i9",
        "outputId": "9c0b520a-fd44-4f25-a2f0-fea087ff1997"
      },
      "execution_count": null,
      "outputs": [
        {
          "output_type": "stream",
          "name": "stdout",
          "text": [
            "<class 'pandas.core.frame.DataFrame'>\n",
            "RangeIndex: 69301 entries, 0 to 69300\n",
            "Data columns (total 12 columns):\n",
            " #   Column       Non-Null Count  Dtype  \n",
            "---  ------       --------------  -----  \n",
            " 0   age          69301 non-null  int64  \n",
            " 1   gender       69301 non-null  int64  \n",
            " 2   height       69301 non-null  int64  \n",
            " 3   weight       69301 non-null  float64\n",
            " 4   ap_hi        69301 non-null  int64  \n",
            " 5   ap_lo        69301 non-null  int64  \n",
            " 6   cholesterol  69301 non-null  int64  \n",
            " 7   gluc         69301 non-null  int64  \n",
            " 8   smoke        69301 non-null  int64  \n",
            " 9   alco         69301 non-null  int64  \n",
            " 10  active       69301 non-null  int64  \n",
            " 11  cardio       69301 non-null  int64  \n",
            "dtypes: float64(1), int64(11)\n",
            "memory usage: 6.3 MB\n"
          ]
        },
        {
          "output_type": "execute_result",
          "data": {
            "text/plain": [
              "(69301, 12)"
            ]
          },
          "metadata": {},
          "execution_count": 9
        }
      ]
    },
    {
      "cell_type": "code",
      "source": [
        "df_cardio.value_counts(['cardio'])"
      ],
      "metadata": {
        "colab": {
          "base_uri": "https://localhost:8080/"
        },
        "id": "zw1T3gh8t_K3",
        "outputId": "fd4ad028-4f92-4f41-dac7-080091780bae"
      },
      "execution_count": null,
      "outputs": [
        {
          "output_type": "execute_result",
          "data": {
            "text/plain": [
              "cardio\n",
              "0         34679\n",
              "1         34622\n",
              "dtype: int64"
            ]
          },
          "metadata": {},
          "execution_count": 10
        }
      ]
    },
    {
      "cell_type": "code",
      "source": [
        "corr_matrix = df_cardio.corr().abs()\n",
        "corr_matrix"
      ],
      "metadata": {
        "colab": {
          "base_uri": "https://localhost:8080/",
          "height": 425
        },
        "id": "z8InKnCquBgW",
        "outputId": "43e54a31-2cc1-4dfa-e046-f13ad5e82821"
      },
      "execution_count": null,
      "outputs": [
        {
          "output_type": "execute_result",
          "data": {
            "text/plain": [
              "                  age    gender    height    weight     ap_hi     ap_lo  \\\n",
              "age          1.000000  0.023150  0.081304  0.054409  0.020663  0.017717   \n",
              "gender       0.023150  1.000000  0.499373  0.155649  0.005980  0.015396   \n",
              "height       0.081304  0.499373  1.000000  0.290333  0.005492  0.006215   \n",
              "weight       0.054409  0.155649  0.290333  1.000000  0.030665  0.043652   \n",
              "ap_hi        0.020663  0.005980  0.005492  0.030665  1.000000  0.015919   \n",
              "ap_lo        0.017717  0.015396  0.006215  0.043652  0.015919  1.000000   \n",
              "cholesterol  0.154343  0.036335  0.050632  0.141901  0.023573  0.024023   \n",
              "gluc         0.099095  0.021154  0.018929  0.107255  0.011821  0.010895   \n",
              "smoke        0.047680  0.337608  0.187899  0.068304  0.000933  0.004948   \n",
              "alco         0.029435  0.171015  0.094164  0.067259  0.001385  0.010764   \n",
              "active       0.009926  0.006241  0.005974  0.016514  0.000032  0.004962   \n",
              "cardio       0.238095  0.008592  0.011015  0.182094  0.054211  0.065290   \n",
              "\n",
              "             cholesterol      gluc     smoke      alco    active    cardio  \n",
              "age             0.154343  0.099095  0.047680  0.029435  0.009926  0.238095  \n",
              "gender          0.036335  0.021154  0.337608  0.171015  0.006241  0.008592  \n",
              "height          0.050632  0.018929  0.187899  0.094164  0.005974  0.011015  \n",
              "weight          0.141901  0.107255  0.068304  0.067259  0.016514  0.182094  \n",
              "ap_hi           0.023573  0.011821  0.000933  0.001385  0.000032  0.054211  \n",
              "ap_lo           0.024023  0.010895  0.004948  0.010764  0.004962  0.065290  \n",
              "cholesterol     1.000000  0.451741  0.010237  0.036015  0.009708  0.220752  \n",
              "gluc            0.451741  1.000000  0.004608  0.011442  0.007301  0.089062  \n",
              "smoke           0.010237  0.004608  1.000000  0.339709  0.025794  0.015225  \n",
              "alco            0.036015  0.011442  0.339709  1.000000  0.025745  0.007217  \n",
              "active          0.009708  0.007301  0.025794  0.025745  1.000000  0.035592  \n",
              "cardio          0.220752  0.089062  0.015225  0.007217  0.035592  1.000000  "
            ],
            "text/html": [
              "\n",
              "  <div id=\"df-d9a2d185-66b8-4723-b0e6-4ad3c23e5a18\">\n",
              "    <div class=\"colab-df-container\">\n",
              "      <div>\n",
              "<style scoped>\n",
              "    .dataframe tbody tr th:only-of-type {\n",
              "        vertical-align: middle;\n",
              "    }\n",
              "\n",
              "    .dataframe tbody tr th {\n",
              "        vertical-align: top;\n",
              "    }\n",
              "\n",
              "    .dataframe thead th {\n",
              "        text-align: right;\n",
              "    }\n",
              "</style>\n",
              "<table border=\"1\" class=\"dataframe\">\n",
              "  <thead>\n",
              "    <tr style=\"text-align: right;\">\n",
              "      <th></th>\n",
              "      <th>age</th>\n",
              "      <th>gender</th>\n",
              "      <th>height</th>\n",
              "      <th>weight</th>\n",
              "      <th>ap_hi</th>\n",
              "      <th>ap_lo</th>\n",
              "      <th>cholesterol</th>\n",
              "      <th>gluc</th>\n",
              "      <th>smoke</th>\n",
              "      <th>alco</th>\n",
              "      <th>active</th>\n",
              "      <th>cardio</th>\n",
              "    </tr>\n",
              "  </thead>\n",
              "  <tbody>\n",
              "    <tr>\n",
              "      <th>age</th>\n",
              "      <td>1.000000</td>\n",
              "      <td>0.023150</td>\n",
              "      <td>0.081304</td>\n",
              "      <td>0.054409</td>\n",
              "      <td>0.020663</td>\n",
              "      <td>0.017717</td>\n",
              "      <td>0.154343</td>\n",
              "      <td>0.099095</td>\n",
              "      <td>0.047680</td>\n",
              "      <td>0.029435</td>\n",
              "      <td>0.009926</td>\n",
              "      <td>0.238095</td>\n",
              "    </tr>\n",
              "    <tr>\n",
              "      <th>gender</th>\n",
              "      <td>0.023150</td>\n",
              "      <td>1.000000</td>\n",
              "      <td>0.499373</td>\n",
              "      <td>0.155649</td>\n",
              "      <td>0.005980</td>\n",
              "      <td>0.015396</td>\n",
              "      <td>0.036335</td>\n",
              "      <td>0.021154</td>\n",
              "      <td>0.337608</td>\n",
              "      <td>0.171015</td>\n",
              "      <td>0.006241</td>\n",
              "      <td>0.008592</td>\n",
              "    </tr>\n",
              "    <tr>\n",
              "      <th>height</th>\n",
              "      <td>0.081304</td>\n",
              "      <td>0.499373</td>\n",
              "      <td>1.000000</td>\n",
              "      <td>0.290333</td>\n",
              "      <td>0.005492</td>\n",
              "      <td>0.006215</td>\n",
              "      <td>0.050632</td>\n",
              "      <td>0.018929</td>\n",
              "      <td>0.187899</td>\n",
              "      <td>0.094164</td>\n",
              "      <td>0.005974</td>\n",
              "      <td>0.011015</td>\n",
              "    </tr>\n",
              "    <tr>\n",
              "      <th>weight</th>\n",
              "      <td>0.054409</td>\n",
              "      <td>0.155649</td>\n",
              "      <td>0.290333</td>\n",
              "      <td>1.000000</td>\n",
              "      <td>0.030665</td>\n",
              "      <td>0.043652</td>\n",
              "      <td>0.141901</td>\n",
              "      <td>0.107255</td>\n",
              "      <td>0.068304</td>\n",
              "      <td>0.067259</td>\n",
              "      <td>0.016514</td>\n",
              "      <td>0.182094</td>\n",
              "    </tr>\n",
              "    <tr>\n",
              "      <th>ap_hi</th>\n",
              "      <td>0.020663</td>\n",
              "      <td>0.005980</td>\n",
              "      <td>0.005492</td>\n",
              "      <td>0.030665</td>\n",
              "      <td>1.000000</td>\n",
              "      <td>0.015919</td>\n",
              "      <td>0.023573</td>\n",
              "      <td>0.011821</td>\n",
              "      <td>0.000933</td>\n",
              "      <td>0.001385</td>\n",
              "      <td>0.000032</td>\n",
              "      <td>0.054211</td>\n",
              "    </tr>\n",
              "    <tr>\n",
              "      <th>ap_lo</th>\n",
              "      <td>0.017717</td>\n",
              "      <td>0.015396</td>\n",
              "      <td>0.006215</td>\n",
              "      <td>0.043652</td>\n",
              "      <td>0.015919</td>\n",
              "      <td>1.000000</td>\n",
              "      <td>0.024023</td>\n",
              "      <td>0.010895</td>\n",
              "      <td>0.004948</td>\n",
              "      <td>0.010764</td>\n",
              "      <td>0.004962</td>\n",
              "      <td>0.065290</td>\n",
              "    </tr>\n",
              "    <tr>\n",
              "      <th>cholesterol</th>\n",
              "      <td>0.154343</td>\n",
              "      <td>0.036335</td>\n",
              "      <td>0.050632</td>\n",
              "      <td>0.141901</td>\n",
              "      <td>0.023573</td>\n",
              "      <td>0.024023</td>\n",
              "      <td>1.000000</td>\n",
              "      <td>0.451741</td>\n",
              "      <td>0.010237</td>\n",
              "      <td>0.036015</td>\n",
              "      <td>0.009708</td>\n",
              "      <td>0.220752</td>\n",
              "    </tr>\n",
              "    <tr>\n",
              "      <th>gluc</th>\n",
              "      <td>0.099095</td>\n",
              "      <td>0.021154</td>\n",
              "      <td>0.018929</td>\n",
              "      <td>0.107255</td>\n",
              "      <td>0.011821</td>\n",
              "      <td>0.010895</td>\n",
              "      <td>0.451741</td>\n",
              "      <td>1.000000</td>\n",
              "      <td>0.004608</td>\n",
              "      <td>0.011442</td>\n",
              "      <td>0.007301</td>\n",
              "      <td>0.089062</td>\n",
              "    </tr>\n",
              "    <tr>\n",
              "      <th>smoke</th>\n",
              "      <td>0.047680</td>\n",
              "      <td>0.337608</td>\n",
              "      <td>0.187899</td>\n",
              "      <td>0.068304</td>\n",
              "      <td>0.000933</td>\n",
              "      <td>0.004948</td>\n",
              "      <td>0.010237</td>\n",
              "      <td>0.004608</td>\n",
              "      <td>1.000000</td>\n",
              "      <td>0.339709</td>\n",
              "      <td>0.025794</td>\n",
              "      <td>0.015225</td>\n",
              "    </tr>\n",
              "    <tr>\n",
              "      <th>alco</th>\n",
              "      <td>0.029435</td>\n",
              "      <td>0.171015</td>\n",
              "      <td>0.094164</td>\n",
              "      <td>0.067259</td>\n",
              "      <td>0.001385</td>\n",
              "      <td>0.010764</td>\n",
              "      <td>0.036015</td>\n",
              "      <td>0.011442</td>\n",
              "      <td>0.339709</td>\n",
              "      <td>1.000000</td>\n",
              "      <td>0.025745</td>\n",
              "      <td>0.007217</td>\n",
              "    </tr>\n",
              "    <tr>\n",
              "      <th>active</th>\n",
              "      <td>0.009926</td>\n",
              "      <td>0.006241</td>\n",
              "      <td>0.005974</td>\n",
              "      <td>0.016514</td>\n",
              "      <td>0.000032</td>\n",
              "      <td>0.004962</td>\n",
              "      <td>0.009708</td>\n",
              "      <td>0.007301</td>\n",
              "      <td>0.025794</td>\n",
              "      <td>0.025745</td>\n",
              "      <td>1.000000</td>\n",
              "      <td>0.035592</td>\n",
              "    </tr>\n",
              "    <tr>\n",
              "      <th>cardio</th>\n",
              "      <td>0.238095</td>\n",
              "      <td>0.008592</td>\n",
              "      <td>0.011015</td>\n",
              "      <td>0.182094</td>\n",
              "      <td>0.054211</td>\n",
              "      <td>0.065290</td>\n",
              "      <td>0.220752</td>\n",
              "      <td>0.089062</td>\n",
              "      <td>0.015225</td>\n",
              "      <td>0.007217</td>\n",
              "      <td>0.035592</td>\n",
              "      <td>1.000000</td>\n",
              "    </tr>\n",
              "  </tbody>\n",
              "</table>\n",
              "</div>\n",
              "      <button class=\"colab-df-convert\" onclick=\"convertToInteractive('df-d9a2d185-66b8-4723-b0e6-4ad3c23e5a18')\"\n",
              "              title=\"Convert this dataframe to an interactive table.\"\n",
              "              style=\"display:none;\">\n",
              "        \n",
              "  <svg xmlns=\"http://www.w3.org/2000/svg\" height=\"24px\"viewBox=\"0 0 24 24\"\n",
              "       width=\"24px\">\n",
              "    <path d=\"M0 0h24v24H0V0z\" fill=\"none\"/>\n",
              "    <path d=\"M18.56 5.44l.94 2.06.94-2.06 2.06-.94-2.06-.94-.94-2.06-.94 2.06-2.06.94zm-11 1L8.5 8.5l.94-2.06 2.06-.94-2.06-.94L8.5 2.5l-.94 2.06-2.06.94zm10 10l.94 2.06.94-2.06 2.06-.94-2.06-.94-.94-2.06-.94 2.06-2.06.94z\"/><path d=\"M17.41 7.96l-1.37-1.37c-.4-.4-.92-.59-1.43-.59-.52 0-1.04.2-1.43.59L10.3 9.45l-7.72 7.72c-.78.78-.78 2.05 0 2.83L4 21.41c.39.39.9.59 1.41.59.51 0 1.02-.2 1.41-.59l7.78-7.78 2.81-2.81c.8-.78.8-2.07 0-2.86zM5.41 20L4 18.59l7.72-7.72 1.47 1.35L5.41 20z\"/>\n",
              "  </svg>\n",
              "      </button>\n",
              "      \n",
              "  <style>\n",
              "    .colab-df-container {\n",
              "      display:flex;\n",
              "      flex-wrap:wrap;\n",
              "      gap: 12px;\n",
              "    }\n",
              "\n",
              "    .colab-df-convert {\n",
              "      background-color: #E8F0FE;\n",
              "      border: none;\n",
              "      border-radius: 50%;\n",
              "      cursor: pointer;\n",
              "      display: none;\n",
              "      fill: #1967D2;\n",
              "      height: 32px;\n",
              "      padding: 0 0 0 0;\n",
              "      width: 32px;\n",
              "    }\n",
              "\n",
              "    .colab-df-convert:hover {\n",
              "      background-color: #E2EBFA;\n",
              "      box-shadow: 0px 1px 2px rgba(60, 64, 67, 0.3), 0px 1px 3px 1px rgba(60, 64, 67, 0.15);\n",
              "      fill: #174EA6;\n",
              "    }\n",
              "\n",
              "    [theme=dark] .colab-df-convert {\n",
              "      background-color: #3B4455;\n",
              "      fill: #D2E3FC;\n",
              "    }\n",
              "\n",
              "    [theme=dark] .colab-df-convert:hover {\n",
              "      background-color: #434B5C;\n",
              "      box-shadow: 0px 1px 3px 1px rgba(0, 0, 0, 0.15);\n",
              "      filter: drop-shadow(0px 1px 2px rgba(0, 0, 0, 0.3));\n",
              "      fill: #FFFFFF;\n",
              "    }\n",
              "  </style>\n",
              "\n",
              "      <script>\n",
              "        const buttonEl =\n",
              "          document.querySelector('#df-d9a2d185-66b8-4723-b0e6-4ad3c23e5a18 button.colab-df-convert');\n",
              "        buttonEl.style.display =\n",
              "          google.colab.kernel.accessAllowed ? 'block' : 'none';\n",
              "\n",
              "        async function convertToInteractive(key) {\n",
              "          const element = document.querySelector('#df-d9a2d185-66b8-4723-b0e6-4ad3c23e5a18');\n",
              "          const dataTable =\n",
              "            await google.colab.kernel.invokeFunction('convertToInteractive',\n",
              "                                                     [key], {});\n",
              "          if (!dataTable) return;\n",
              "\n",
              "          const docLinkHtml = 'Like what you see? Visit the ' +\n",
              "            '<a target=\"_blank\" href=https://colab.research.google.com/notebooks/data_table.ipynb>data table notebook</a>'\n",
              "            + ' to learn more about interactive tables.';\n",
              "          element.innerHTML = '';\n",
              "          dataTable['output_type'] = 'display_data';\n",
              "          await google.colab.output.renderOutput(dataTable, element);\n",
              "          const docLink = document.createElement('div');\n",
              "          docLink.innerHTML = docLinkHtml;\n",
              "          element.appendChild(docLink);\n",
              "        }\n",
              "      </script>\n",
              "    </div>\n",
              "  </div>\n",
              "  "
            ]
          },
          "metadata": {},
          "execution_count": 11
        }
      ]
    },
    {
      "cell_type": "code",
      "source": [
        "fig = plt.figure(figsize=(10, 7.5))\n",
        "\n",
        "sns.heatmap(corr_matrix,\n",
        "            cmap='seismic',\n",
        "            linewidths=0.75,\n",
        "            linecolor='black',\n",
        "            cbar = True,\n",
        "            vmin = -1,\n",
        "            vmax = 1,\n",
        "            annot= True,\n",
        "            annot_kws={'size':8, 'color': 'black'})\n",
        "plt.tick_params(labelsize = 1, rotation =45)\n",
        "plt.title('Correlation Plot', size =14)"
      ],
      "metadata": {
        "colab": {
          "base_uri": "https://localhost:8080/",
          "height": 484
        },
        "id": "i3Dkj5uruO0P",
        "outputId": "02cb8ce8-61c6-4674-a816-63649088e446"
      },
      "execution_count": null,
      "outputs": [
        {
          "output_type": "execute_result",
          "data": {
            "text/plain": [
              "Text(0.5, 1.0, 'Correlation Plot')"
            ]
          },
          "metadata": {},
          "execution_count": 12
        },
        {
          "output_type": "display_data",
          "data": {
            "text/plain": [
              "<Figure size 720x540 with 2 Axes>"
            ],
            "image/png": "[encoded data removed]"
          },
          "metadata": {
            "needs_background": "light"
          }
        }
      ]
    },
    {
      "cell_type": "code",
      "source": [
        "X = df_cardio.drop(['cardio', 'active'], axis=1)\n",
        "Y = df_cardio.cardio"
      ],
      "metadata": {
        "id": "Jqx2XBveuSSN"
      },
      "execution_count": null,
      "outputs": []
    },
    {
      "cell_type": "code",
      "source": [
        "from sklearn.model_selection import train_test_split\n",
        "\n",
        "X_train, X_test, y_train, y_test = train_test_split(X, Y, test_size=0.3, random_state=7)"
      ],
      "metadata": {
        "id": "uLrps8YuuV2o"
      },
      "execution_count": null,
      "outputs": []
    },
    {
      "cell_type": "code",
      "source": [
        "LR = LogisticRegression()\n",
        "LR.fit(X_train, y_train)"
      ],
      "metadata": {
        "colab": {
          "base_uri": "https://localhost:8080/"
        },
        "id": "knjOP-aYuZhN",
        "outputId": "1af1fa01-05ee-417b-fb1a-1059dd50c6d0"
      },
      "execution_count": null,
      "outputs": [
        {
          "output_type": "stream",
          "name": "stderr",
          "text": [
            "/usr/local/lib/python3.8/dist-packages/sklearn/linear_model/_logistic.py:814: ConvergenceWarning: lbfgs failed to converge (status=1):\n",
            "STOP: TOTAL NO. of ITERATIONS REACHED LIMIT.\n",
            "\n",
            "Increase the number of iterations (max_iter) or scale the data as shown in:\n",
            "    https://scikit-learn.org/stable/modules/preprocessing.html\n",
            "Please also refer to the documentation for alternative solver options:\n",
            "    https://scikit-learn.org/stable/modules/linear_model.html#logistic-regression\n",
            "  n_iter_i = _check_optimize_result(\n"
          ]
        },
        {
          "output_type": "execute_result",
          "data": {
            "text/plain": [
              "LogisticRegression()"
            ]
          },
          "metadata": {},
          "execution_count": 15
        }
      ]
    },
    {
      "cell_type": "code",
      "source": [
        "datapredict = X.head(20)\n",
        "y_pred = LR.predict(datapredict)\n",
        "for result in y_pred:\n",
        "    if result == 1:\n",
        "        print('Prediction Result', result, 'Cardiovascular')\n",
        "    elif result == 0:\n",
        "        print('Prediction Result', result, 'Non Cardiovascular')\n",
        "    else:\n",
        "        print('Prediction Result', result, 'New Data')"
      ],
      "metadata": {
        "colab": {
          "base_uri": "https://localhost:8080/"
        },
        "id": "IDUWjYEaub3V",
        "outputId": "ffa9f6f3-b51d-456b-d01f-48ba531399b2"
      },
      "execution_count": null,
      "outputs": [
        {
          "output_type": "stream",
          "name": "stdout",
          "text": [
            "Prediction Result 1 Cardiovascular\n",
            "Prediction Result 0 Non Cardiovascular\n",
            "Prediction Result 0 Non Cardiovascular\n",
            "Prediction Result 0 Non Cardiovascular\n",
            "Prediction Result 1 Cardiovascular\n",
            "Prediction Result 0 Non Cardiovascular\n",
            "Prediction Result 0 Non Cardiovascular\n",
            "Prediction Result 1 Cardiovascular\n",
            "Prediction Result 0 Non Cardiovascular\n",
            "Prediction Result 1 Cardiovascular\n",
            "Prediction Result 1 Cardiovascular\n",
            "Prediction Result 1 Cardiovascular\n",
            "Prediction Result 1 Cardiovascular\n",
            "Prediction Result 0 Non Cardiovascular\n",
            "Prediction Result 1 Cardiovascular\n",
            "Prediction Result 0 Non Cardiovascular\n",
            "Prediction Result 1 Cardiovascular\n",
            "Prediction Result 1 Cardiovascular\n",
            "Prediction Result 0 Non Cardiovascular\n",
            "Prediction Result 0 Non Cardiovascular\n"
          ]
        }
      ]
    },
    {
      "cell_type": "code",
      "source": [
        "y_pred = LR.predict(X_test)"
      ],
      "metadata": {
        "id": "K7jsp98Yun0-"
      },
      "execution_count": null,
      "outputs": []
    },
    {
      "cell_type": "code",
      "source": [
        "from sklearn import metrics\n",
        "from sklearn.metrics import confusion_matrix, accuracy_score, classification_report"
      ],
      "metadata": {
        "id": "sSCnCrQKuryz"
      },
      "execution_count": null,
      "outputs": []
    },
    {
      "cell_type": "code",
      "source": [
        "metrics.accuracy_score(y_test, y_pred)"
      ],
      "metadata": {
        "colab": {
          "base_uri": "https://localhost:8080/"
        },
        "id": "eIo4RJW-us4_",
        "outputId": "c8cde56d-8c44-4bba-bd29-7a77cb1b9cef"
      },
      "execution_count": null,
      "outputs": [
        {
          "output_type": "execute_result",
          "data": {
            "text/plain": [
              "0.7031888798037612"
            ]
          },
          "metadata": {},
          "execution_count": 19
        }
      ]
    },
    {
      "cell_type": "code",
      "source": [
        "cf_matrix = confusion_matrix(y_test, y_pred)\n",
        "print(cf_matrix)"
      ],
      "metadata": {
        "colab": {
          "base_uri": "https://localhost:8080/"
        },
        "id": "yCIftuz0uwj1",
        "outputId": "635a6711-ae0c-4b8c-9bc8-ea97c5dddbb5"
      },
      "execution_count": null,
      "outputs": [
        {
          "output_type": "stream",
          "name": "stdout",
          "text": [
            "[[7771 2555]\n",
            " [3616 6849]]\n"
          ]
        }
      ]
    }
  ]
}